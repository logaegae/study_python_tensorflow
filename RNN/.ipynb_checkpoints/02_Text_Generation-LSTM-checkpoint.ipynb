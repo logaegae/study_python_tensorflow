{
 "cells": [
  {
   "cell_type": "markdown",
   "metadata": {},
   "source": [
    "# LSTM을 이용한 텍스트 생성\n",
    "- 데이터 다운로드: 캐글 [New York Times Comments](https://www.kaggle.com/aashita/nyt-comments)"
   ]
  },
  {
   "cell_type": "markdown",
   "metadata": {},
   "source": [
    "## 1. 데이터 전처리"
   ]
  },
  {
   "cell_type": "code",
   "execution_count": 1,
   "metadata": {},
   "outputs": [],
   "source": [
    "import numpy as np\n",
    "import pandas as pd\n",
    "from string import punctuation\n",
    "\n",
    "from tensorflow.keras.preprocessing.text import Tokenizer\n",
    "from tensorflow.keras.preprocessing.sequence import pad_sequences\n",
    "from tensorflow.keras.utils import to_categorical"
   ]
  },
  {
   "cell_type": "code",
   "execution_count": 2,
   "metadata": {},
   "outputs": [
    {
     "data": {
      "text/html": [
       "<div>\n",
       "<style scoped>\n",
       "    .dataframe tbody tr th:only-of-type {\n",
       "        vertical-align: middle;\n",
       "    }\n",
       "\n",
       "    .dataframe tbody tr th {\n",
       "        vertical-align: top;\n",
       "    }\n",
       "\n",
       "    .dataframe thead th {\n",
       "        text-align: right;\n",
       "    }\n",
       "</style>\n",
       "<table border=\"1\" class=\"dataframe\">\n",
       "  <thead>\n",
       "    <tr style=\"text-align: right;\">\n",
       "      <th></th>\n",
       "      <th>articleID</th>\n",
       "      <th>articleWordCount</th>\n",
       "      <th>byline</th>\n",
       "      <th>documentType</th>\n",
       "      <th>headline</th>\n",
       "      <th>keywords</th>\n",
       "      <th>multimedia</th>\n",
       "      <th>newDesk</th>\n",
       "      <th>printPage</th>\n",
       "      <th>pubDate</th>\n",
       "      <th>sectionName</th>\n",
       "      <th>snippet</th>\n",
       "      <th>source</th>\n",
       "      <th>typeOfMaterial</th>\n",
       "      <th>webURL</th>\n",
       "    </tr>\n",
       "  </thead>\n",
       "  <tbody>\n",
       "    <tr>\n",
       "      <th>0</th>\n",
       "      <td>5adf6684068401528a2aa69b</td>\n",
       "      <td>781</td>\n",
       "      <td>By JOHN BRANCH</td>\n",
       "      <td>article</td>\n",
       "      <td>Former N.F.L. Cheerleaders’ Settlement Offer: ...</td>\n",
       "      <td>['Workplace Hazards and Violations', 'Football...</td>\n",
       "      <td>68</td>\n",
       "      <td>Sports</td>\n",
       "      <td>0</td>\n",
       "      <td>2018-04-24 17:16:49</td>\n",
       "      <td>Pro Football</td>\n",
       "      <td>“I understand that they could meet with us, pa...</td>\n",
       "      <td>The New York Times</td>\n",
       "      <td>News</td>\n",
       "      <td>https://www.nytimes.com/2018/04/24/sports/foot...</td>\n",
       "    </tr>\n",
       "    <tr>\n",
       "      <th>1</th>\n",
       "      <td>5adf653f068401528a2aa697</td>\n",
       "      <td>656</td>\n",
       "      <td>By LISA FRIEDMAN</td>\n",
       "      <td>article</td>\n",
       "      <td>E.P.A. to Unveil a New Rule. Its Effect: Less ...</td>\n",
       "      <td>['Environmental Protection Agency', 'Pruitt, S...</td>\n",
       "      <td>68</td>\n",
       "      <td>Climate</td>\n",
       "      <td>0</td>\n",
       "      <td>2018-04-24 17:11:21</td>\n",
       "      <td>Unknown</td>\n",
       "      <td>The agency plans to publish a new regulation T...</td>\n",
       "      <td>The New York Times</td>\n",
       "      <td>News</td>\n",
       "      <td>https://www.nytimes.com/2018/04/24/climate/epa...</td>\n",
       "    </tr>\n",
       "    <tr>\n",
       "      <th>2</th>\n",
       "      <td>5adf4626068401528a2aa628</td>\n",
       "      <td>2427</td>\n",
       "      <td>By PETE WELLS</td>\n",
       "      <td>article</td>\n",
       "      <td>The New Noma, Explained</td>\n",
       "      <td>['Restaurants', 'Noma (Copenhagen, Restaurant)...</td>\n",
       "      <td>66</td>\n",
       "      <td>Dining</td>\n",
       "      <td>0</td>\n",
       "      <td>2018-04-24 14:58:44</td>\n",
       "      <td>Unknown</td>\n",
       "      <td>What’s it like to eat at the second incarnatio...</td>\n",
       "      <td>The New York Times</td>\n",
       "      <td>News</td>\n",
       "      <td>https://www.nytimes.com/2018/04/24/dining/noma...</td>\n",
       "    </tr>\n",
       "    <tr>\n",
       "      <th>3</th>\n",
       "      <td>5adf40d2068401528a2aa619</td>\n",
       "      <td>626</td>\n",
       "      <td>By JULIE HIRSCHFELD DAVIS and PETER BAKER</td>\n",
       "      <td>article</td>\n",
       "      <td>Unknown</td>\n",
       "      <td>['Macron, Emmanuel (1977- )', 'Trump, Donald J...</td>\n",
       "      <td>68</td>\n",
       "      <td>Washington</td>\n",
       "      <td>0</td>\n",
       "      <td>2018-04-24 14:35:57</td>\n",
       "      <td>Europe</td>\n",
       "      <td>President Trump welcomed President Emmanuel Ma...</td>\n",
       "      <td>The New York Times</td>\n",
       "      <td>News</td>\n",
       "      <td>https://www.nytimes.com/2018/04/24/world/europ...</td>\n",
       "    </tr>\n",
       "    <tr>\n",
       "      <th>4</th>\n",
       "      <td>5adf3d64068401528a2aa60f</td>\n",
       "      <td>815</td>\n",
       "      <td>By IAN AUSTEN and DAN BILEFSKY</td>\n",
       "      <td>article</td>\n",
       "      <td>Unknown</td>\n",
       "      <td>['Toronto, Ontario, Attack (April, 2018)', 'Mu...</td>\n",
       "      <td>68</td>\n",
       "      <td>Foreign</td>\n",
       "      <td>0</td>\n",
       "      <td>2018-04-24 14:21:21</td>\n",
       "      <td>Canada</td>\n",
       "      <td>Alek Minassian, 25, a resident of Toronto’s Ri...</td>\n",
       "      <td>The New York Times</td>\n",
       "      <td>News</td>\n",
       "      <td>https://www.nytimes.com/2018/04/24/world/canad...</td>\n",
       "    </tr>\n",
       "  </tbody>\n",
       "</table>\n",
       "</div>"
      ],
      "text/plain": [
       "                  articleID  articleWordCount  \\\n",
       "0  5adf6684068401528a2aa69b               781   \n",
       "1  5adf653f068401528a2aa697               656   \n",
       "2  5adf4626068401528a2aa628              2427   \n",
       "3  5adf40d2068401528a2aa619               626   \n",
       "4  5adf3d64068401528a2aa60f               815   \n",
       "\n",
       "                                      byline documentType  \\\n",
       "0                             By JOHN BRANCH      article   \n",
       "1                           By LISA FRIEDMAN      article   \n",
       "2                              By PETE WELLS      article   \n",
       "3  By JULIE HIRSCHFELD DAVIS and PETER BAKER      article   \n",
       "4             By IAN AUSTEN and DAN BILEFSKY      article   \n",
       "\n",
       "                                            headline  \\\n",
       "0  Former N.F.L. Cheerleaders’ Settlement Offer: ...   \n",
       "1  E.P.A. to Unveil a New Rule. Its Effect: Less ...   \n",
       "2                            The New Noma, Explained   \n",
       "3                                            Unknown   \n",
       "4                                            Unknown   \n",
       "\n",
       "                                            keywords  multimedia     newDesk  \\\n",
       "0  ['Workplace Hazards and Violations', 'Football...          68      Sports   \n",
       "1  ['Environmental Protection Agency', 'Pruitt, S...          68     Climate   \n",
       "2  ['Restaurants', 'Noma (Copenhagen, Restaurant)...          66      Dining   \n",
       "3  ['Macron, Emmanuel (1977- )', 'Trump, Donald J...          68  Washington   \n",
       "4  ['Toronto, Ontario, Attack (April, 2018)', 'Mu...          68     Foreign   \n",
       "\n",
       "   printPage              pubDate   sectionName  \\\n",
       "0          0  2018-04-24 17:16:49  Pro Football   \n",
       "1          0  2018-04-24 17:11:21       Unknown   \n",
       "2          0  2018-04-24 14:58:44       Unknown   \n",
       "3          0  2018-04-24 14:35:57        Europe   \n",
       "4          0  2018-04-24 14:21:21        Canada   \n",
       "\n",
       "                                             snippet              source  \\\n",
       "0  “I understand that they could meet with us, pa...  The New York Times   \n",
       "1  The agency plans to publish a new regulation T...  The New York Times   \n",
       "2  What’s it like to eat at the second incarnatio...  The New York Times   \n",
       "3  President Trump welcomed President Emmanuel Ma...  The New York Times   \n",
       "4  Alek Minassian, 25, a resident of Toronto’s Ri...  The New York Times   \n",
       "\n",
       "  typeOfMaterial                                             webURL  \n",
       "0           News  https://www.nytimes.com/2018/04/24/sports/foot...  \n",
       "1           News  https://www.nytimes.com/2018/04/24/climate/epa...  \n",
       "2           News  https://www.nytimes.com/2018/04/24/dining/noma...  \n",
       "3           News  https://www.nytimes.com/2018/04/24/world/europ...  \n",
       "4           News  https://www.nytimes.com/2018/04/24/world/canad...  "
      ]
     },
     "execution_count": 2,
     "metadata": {},
     "output_type": "execute_result"
    }
   ],
   "source": [
    "df=pd.read_csv('data/ArticlesApril2018.csv')\n",
    "df.head()"
   ]
  },
  {
   "cell_type": "code",
   "execution_count": 3,
   "metadata": {},
   "outputs": [
    {
     "name": "stdout",
     "output_type": "stream",
     "text": [
      "열의 개수:  15\n",
      "Index(['articleID', 'articleWordCount', 'byline', 'documentType', 'headline',\n",
      "       'keywords', 'multimedia', 'newDesk', 'printPage', 'pubDate',\n",
      "       'sectionName', 'snippet', 'source', 'typeOfMaterial', 'webURL'],\n",
      "      dtype='object')\n"
     ]
    }
   ],
   "source": [
    "print('열의 개수: ',len(df.columns))\n",
    "print(df.columns)"
   ]
  },
  {
   "cell_type": "code",
   "execution_count": 4,
   "metadata": {},
   "outputs": [
    {
     "data": {
      "text/plain": [
       "False"
      ]
     },
     "execution_count": 4,
     "metadata": {},
     "output_type": "execute_result"
    }
   ],
   "source": [
    "# headline 열의 데이터만 사용, Null 검사\n",
    "df['headline'].isnull().values.any()"
   ]
  },
  {
   "cell_type": "code",
   "execution_count": 5,
   "metadata": {},
   "outputs": [
    {
     "data": {
      "text/plain": [
       "['Former N.F.L. Cheerleaders’ Settlement Offer: $1 and a Meeting With Goodell',\n",
       " 'E.P.A. to Unveil a New Rule. Its Effect: Less Science in Policymaking.',\n",
       " 'The New Noma, Explained',\n",
       " 'Unknown',\n",
       " 'Unknown']"
      ]
     },
     "execution_count": 5,
     "metadata": {},
     "output_type": "execute_result"
    }
   ],
   "source": [
    "headline = [title for title in df.headline.values]\n",
    "headline[:5]"
   ]
  },
  {
   "cell_type": "code",
   "execution_count": 6,
   "metadata": {},
   "outputs": [
    {
     "data": {
      "text/plain": [
       "1324"
      ]
     },
     "execution_count": 6,
     "metadata": {},
     "output_type": "execute_result"
    }
   ],
   "source": [
    "len(headline)"
   ]
  },
  {
   "cell_type": "code",
   "execution_count": 7,
   "metadata": {},
   "outputs": [
    {
     "data": {
      "text/plain": [
       "1214"
      ]
     },
     "execution_count": 7,
     "metadata": {},
     "output_type": "execute_result"
    }
   ],
   "source": [
    "# 노이즈 데이터('Unknown') 제거\n",
    "headline = [title for title in headline if title != 'Unknown']\n",
    "len(headline)"
   ]
  },
  {
   "cell_type": "code",
   "execution_count": 8,
   "metadata": {},
   "outputs": [],
   "source": [
    "# 구두점 제거와 동시에 소문자화를 위한 함수\n",
    "def repreprocessing(s):\n",
    "    s=s.encode(\"utf8\").decode(\"ascii\",'ignore')\n",
    "    return ''.join(c for c in s if c not in punctuation).lower() "
   ]
  },
  {
   "cell_type": "code",
   "execution_count": 9,
   "metadata": {},
   "outputs": [
    {
     "data": {
      "text/plain": [
       "['former nfl cheerleaders settlement offer 1 and a meeting with goodell',\n",
       " 'epa to unveil a new rule its effect less science in policymaking',\n",
       " 'the new noma explained',\n",
       " 'how a bag of texas dirt  became a times tradition',\n",
       " 'is school a place for selfexpression']"
      ]
     },
     "execution_count": 9,
     "metadata": {},
     "output_type": "execute_result"
    }
   ],
   "source": [
    "text = [repreprocessing(x) for x in headline]\n",
    "text[:5]"
   ]
  },
  {
   "cell_type": "code",
   "execution_count": 10,
   "metadata": {},
   "outputs": [
    {
     "name": "stdout",
     "output_type": "stream",
     "text": [
      "단어 집합의 크기 : 3494\n"
     ]
    }
   ],
   "source": [
    "# 단어 집합(vocabulary)을 만들고 크기를 확인\n",
    "t = Tokenizer()\n",
    "t.fit_on_texts(text)\n",
    "vocab_size = len(t.word_index) + 1\n",
    "print('단어 집합의 크기 : %d' % vocab_size)"
   ]
  },
  {
   "cell_type": "code",
   "execution_count": 11,
   "metadata": {},
   "outputs": [
    {
     "data": {
      "text/plain": [
       "[[99, 269],\n",
       " [99, 269, 371],\n",
       " [99, 269, 371, 1115],\n",
       " [99, 269, 371, 1115, 582],\n",
       " [99, 269, 371, 1115, 582, 52],\n",
       " [99, 269, 371, 1115, 582, 52, 7],\n",
       " [99, 269, 371, 1115, 582, 52, 7, 2],\n",
       " [99, 269, 371, 1115, 582, 52, 7, 2, 372],\n",
       " [99, 269, 371, 1115, 582, 52, 7, 2, 372, 10],\n",
       " [99, 269, 371, 1115, 582, 52, 7, 2, 372, 10, 1116],\n",
       " [100, 3]]"
      ]
     },
     "execution_count": 11,
     "metadata": {},
     "output_type": "execute_result"
    }
   ],
   "source": [
    "sequences = []\n",
    "for line in text: # 1,214 개의 샘플에 대해서 샘플을 1개씩 가져온다.\n",
    "    encoded = t.texts_to_sequences([line])[0] # 각 샘플에 대한 정수 인코딩\n",
    "    for i in range(1, len(encoded)):\n",
    "        sequence = encoded[:i+1]\n",
    "        sequences.append(sequence)\n",
    "\n",
    "sequences[:11] # 11개의 샘플 출력"
   ]
  },
  {
   "cell_type": "code",
   "execution_count": 12,
   "metadata": {},
   "outputs": [
    {
     "name": "stdout",
     "output_type": "stream",
     "text": [
      "빈도수 상위 1번 단어 : the\n",
      "빈도수 상위 582번 단어 : offer\n"
     ]
    }
   ],
   "source": [
    "index_to_word = {}\n",
    "for key, value in t.word_index.items(): # 인덱스를 단어로 바꾸기 위해 index_to_word를 생성\n",
    "    index_to_word[value] = key\n",
    "\n",
    "print('빈도수 상위 1번 단어 : {}'.format(index_to_word[1]))\n",
    "print('빈도수 상위 582번 단어 : {}'.format(index_to_word[582]))"
   ]
  },
  {
   "cell_type": "code",
   "execution_count": 13,
   "metadata": {},
   "outputs": [
    {
     "name": "stdout",
     "output_type": "stream",
     "text": [
      "샘플의 최대 길이 : 24\n"
     ]
    }
   ],
   "source": [
    "max_len=max(len(s) for s in sequences)\n",
    "print('샘플의 최대 길이 : {}'.format(max_len))"
   ]
  },
  {
   "cell_type": "code",
   "execution_count": 14,
   "metadata": {},
   "outputs": [
    {
     "name": "stdout",
     "output_type": "stream",
     "text": [
      "[[   0    0    0    0    0    0    0    0    0    0    0    0    0    0\n",
      "     0    0    0    0    0    0    0    0   99  269]\n",
      " [   0    0    0    0    0    0    0    0    0    0    0    0    0    0\n",
      "     0    0    0    0    0    0    0   99  269  371]\n",
      " [   0    0    0    0    0    0    0    0    0    0    0    0    0    0\n",
      "     0    0    0    0    0    0   99  269  371 1115]]\n"
     ]
    }
   ],
   "source": [
    "# 전체 샘플의 길이를 24(가장 긴 샘플의 길이)로 패딩\n",
    "# 'pre' 옵션을 주면 앞을 0으로 패딩\n",
    "sequences = pad_sequences(sequences, maxlen=max_len, padding='pre')\n",
    "print(sequences[:3])"
   ]
  },
  {
   "cell_type": "code",
   "execution_count": 15,
   "metadata": {},
   "outputs": [],
   "source": [
    "sequences = np.array(sequences)\n",
    "X = sequences[:,:-1]\n",
    "y = sequences[:,-1]"
   ]
  },
  {
   "cell_type": "code",
   "execution_count": 16,
   "metadata": {},
   "outputs": [],
   "source": [
    "# 레이블 데이터 y에 대해서 원-핫 인코딩을 수행\n",
    "y = to_categorical(y, num_classes=vocab_size)"
   ]
  },
  {
   "cell_type": "markdown",
   "metadata": {},
   "source": [
    "## 2. 모델 설계 및 학습"
   ]
  },
  {
   "cell_type": "code",
   "execution_count": 17,
   "metadata": {},
   "outputs": [],
   "source": [
    "from tensorflow.keras.models import Sequential\n",
    "from tensorflow.keras.layers import Embedding, Dense, LSTM"
   ]
  },
  {
   "cell_type": "code",
   "execution_count": 18,
   "metadata": {},
   "outputs": [
    {
     "name": "stdout",
     "output_type": "stream",
     "text": [
      "WARNING:tensorflow:From C:\\Users\\ckkim\\.conda\\envs\\tf2\\lib\\site-packages\\tensorflow_core\\python\\keras\\initializers.py:119: calling RandomUniform.__init__ (from tensorflow.python.ops.init_ops) with dtype is deprecated and will be removed in a future version.\n",
      "Instructions for updating:\n",
      "Call initializer instance with the dtype argument instead of passing it to the constructor\n",
      "WARNING:tensorflow:From C:\\Users\\ckkim\\.conda\\envs\\tf2\\lib\\site-packages\\tensorflow_core\\python\\ops\\resource_variable_ops.py:1630: calling BaseResourceVariable.__init__ (from tensorflow.python.ops.resource_variable_ops) with constraint is deprecated and will be removed in a future version.\n",
      "Instructions for updating:\n",
      "If using Keras pass *_constraint arguments to layers.\n",
      "Model: \"sequential\"\n",
      "_________________________________________________________________\n",
      "Layer (type)                 Output Shape              Param #   \n",
      "=================================================================\n",
      "embedding (Embedding)        (None, 23, 10)            34940     \n",
      "_________________________________________________________________\n",
      "lstm (LSTM)                  (None, 128)               71168     \n",
      "_________________________________________________________________\n",
      "dense (Dense)                (None, 3494)              450726    \n",
      "=================================================================\n",
      "Total params: 556,834\n",
      "Trainable params: 556,834\n",
      "Non-trainable params: 0\n",
      "_________________________________________________________________\n"
     ]
    }
   ],
   "source": [
    "# 임베딩 벡터는 10차원, 은닉 상태 크기는 128\n",
    "model = Sequential()\n",
    "model.add(Embedding(vocab_size, 10, input_length=max_len-1))\n",
    "model.add(LSTM(128))\n",
    "model.add(Dense(vocab_size, activation='softmax'))\n",
    "model.summary()"
   ]
  },
  {
   "cell_type": "code",
   "execution_count": 19,
   "metadata": {},
   "outputs": [],
   "source": [
    "model.compile(loss='categorical_crossentropy', \n",
    "              optimizer='adam', metrics=['accuracy'])"
   ]
  },
  {
   "cell_type": "code",
   "execution_count": 20,
   "metadata": {},
   "outputs": [
    {
     "name": "stdout",
     "output_type": "stream",
     "text": [
      "WARNING:tensorflow:From C:\\Users\\ckkim\\.conda\\envs\\tf2\\lib\\site-packages\\tensorflow_core\\python\\ops\\math_grad.py:1424: where (from tensorflow.python.ops.array_ops) is deprecated and will be removed in a future version.\n",
      "Instructions for updating:\n",
      "Use tf.where in 2.0, which has the same broadcast rule as np.where\n",
      "Train on 7803 samples\n",
      "Epoch 1/200\n",
      "7803/7803 - 7s - loss: 7.6445 - acc: 0.0290\n",
      "Epoch 2/200\n",
      "7803/7803 - 7s - loss: 7.1135 - acc: 0.0305\n",
      "Epoch 3/200\n",
      "7803/7803 - 7s - loss: 6.9711 - acc: 0.0349\n",
      "Epoch 4/200\n",
      "7803/7803 - 8s - loss: 6.8333 - acc: 0.0409\n",
      "Epoch 5/200\n",
      "7803/7803 - 8s - loss: 6.6637 - acc: 0.0451\n",
      "Epoch 6/200\n",
      "7803/7803 - 8s - loss: 6.4673 - acc: 0.0525\n",
      "Epoch 7/200\n",
      "7803/7803 - 8s - loss: 6.2549 - acc: 0.0570\n",
      "Epoch 8/200\n",
      "7803/7803 - 8s - loss: 6.0442 - acc: 0.0616\n",
      "Epoch 9/200\n",
      "7803/7803 - 8s - loss: 5.8358 - acc: 0.0637\n",
      "Epoch 10/200\n",
      "7803/7803 - 9s - loss: 5.6340 - acc: 0.0698\n",
      "Epoch 11/200\n",
      "7803/7803 - 9s - loss: 5.4405 - acc: 0.0733\n",
      "Epoch 12/200\n",
      "7803/7803 - 8s - loss: 5.2650 - acc: 0.0792\n",
      "Epoch 13/200\n",
      "7803/7803 - 8s - loss: 5.0906 - acc: 0.0916\n",
      "Epoch 14/200\n",
      "7803/7803 - 8s - loss: 4.9223 - acc: 0.1025\n",
      "Epoch 15/200\n",
      "7803/7803 - 8s - loss: 4.7668 - acc: 0.1143\n",
      "Epoch 16/200\n",
      "7803/7803 - 8s - loss: 4.6162 - acc: 0.1303\n",
      "Epoch 17/200\n",
      "7803/7803 - 8s - loss: 4.4706 - acc: 0.1474\n",
      "Epoch 18/200\n",
      "7803/7803 - 8s - loss: 4.3346 - acc: 0.1679\n",
      "Epoch 19/200\n",
      "7803/7803 - 9s - loss: 4.2021 - acc: 0.1815\n",
      "Epoch 20/200\n",
      "7803/7803 - 8s - loss: 4.0749 - acc: 0.2050\n",
      "Epoch 21/200\n",
      "7803/7803 - 8s - loss: 3.9489 - acc: 0.2244\n",
      "Epoch 22/200\n",
      "7803/7803 - 8s - loss: 3.8328 - acc: 0.2359\n",
      "Epoch 23/200\n",
      "7803/7803 - 8s - loss: 3.7179 - acc: 0.2607\n",
      "Epoch 24/200\n",
      "7803/7803 - 8s - loss: 3.6102 - acc: 0.2790\n",
      "Epoch 25/200\n",
      "7803/7803 - 8s - loss: 3.5016 - acc: 0.2960\n",
      "Epoch 26/200\n",
      "7803/7803 - 8s - loss: 3.4008 - acc: 0.3146\n",
      "Epoch 27/200\n",
      "7803/7803 - 8s - loss: 3.3051 - acc: 0.3317\n",
      "Epoch 28/200\n",
      "7803/7803 - 8s - loss: 3.2099 - acc: 0.3472\n",
      "Epoch 29/200\n",
      "7803/7803 - 8s - loss: 3.1230 - acc: 0.3614\n",
      "Epoch 30/200\n",
      "7803/7803 - 8s - loss: 3.0406 - acc: 0.3755\n",
      "Epoch 31/200\n",
      "7803/7803 - 8s - loss: 2.9605 - acc: 0.3915\n",
      "Epoch 32/200\n",
      "7803/7803 - 9s - loss: 2.8794 - acc: 0.4077\n",
      "Epoch 33/200\n",
      "7803/7803 - 8s - loss: 2.8069 - acc: 0.4174\n",
      "Epoch 34/200\n",
      "7803/7803 - 8s - loss: 2.7310 - acc: 0.4366\n",
      "Epoch 35/200\n",
      "7803/7803 - 8s - loss: 2.6639 - acc: 0.4485\n",
      "Epoch 36/200\n",
      "7803/7803 - 8s - loss: 2.5951 - acc: 0.4596\n",
      "Epoch 37/200\n",
      "7803/7803 - 8s - loss: 2.5292 - acc: 0.4693\n",
      "Epoch 38/200\n",
      "7803/7803 - 8s - loss: 2.4700 - acc: 0.4824\n",
      "Epoch 39/200\n",
      "7803/7803 - 8s - loss: 2.4054 - acc: 0.4949\n",
      "Epoch 40/200\n",
      "7803/7803 - 8s - loss: 2.3458 - acc: 0.5092\n",
      "Epoch 41/200\n",
      "7803/7803 - 8s - loss: 2.2902 - acc: 0.5175\n",
      "Epoch 42/200\n",
      "7803/7803 - 8s - loss: 2.2319 - acc: 0.5338\n",
      "Epoch 43/200\n",
      "7803/7803 - 9s - loss: 2.1793 - acc: 0.5402\n",
      "Epoch 44/200\n",
      "7803/7803 - 8s - loss: 2.1255 - acc: 0.5494\n",
      "Epoch 45/200\n",
      "7803/7803 - 9s - loss: 2.0754 - acc: 0.5658\n",
      "Epoch 46/200\n",
      "7803/7803 - 8s - loss: 2.0250 - acc: 0.5780\n",
      "Epoch 47/200\n",
      "7803/7803 - 8s - loss: 1.9738 - acc: 0.5845\n",
      "Epoch 48/200\n",
      "7803/7803 - 8s - loss: 1.9244 - acc: 0.5984\n",
      "Epoch 49/200\n",
      "7803/7803 - 8s - loss: 1.8798 - acc: 0.6072\n",
      "Epoch 50/200\n",
      "7803/7803 - 8s - loss: 1.8335 - acc: 0.6158\n",
      "Epoch 51/200\n",
      "7803/7803 - 8s - loss: 1.7933 - acc: 0.6301\n",
      "Epoch 52/200\n",
      "7803/7803 - 8s - loss: 1.7472 - acc: 0.6367\n",
      "Epoch 53/200\n",
      "7803/7803 - 8s - loss: 1.7060 - acc: 0.6437\n",
      "Epoch 54/200\n",
      "7803/7803 - 8s - loss: 1.6650 - acc: 0.6556\n",
      "Epoch 55/200\n",
      "7803/7803 - 8s - loss: 1.6253 - acc: 0.6628\n",
      "Epoch 56/200\n",
      "7803/7803 - 8s - loss: 1.5858 - acc: 0.6715\n",
      "Epoch 57/200\n",
      "7803/7803 - 8s - loss: 1.5494 - acc: 0.6787\n",
      "Epoch 58/200\n",
      "7803/7803 - 8s - loss: 1.5133 - acc: 0.6891\n",
      "Epoch 59/200\n",
      "7803/7803 - 8s - loss: 1.4745 - acc: 0.6991\n",
      "Epoch 60/200\n",
      "7803/7803 - 8s - loss: 1.4378 - acc: 0.7032\n",
      "Epoch 61/200\n",
      "7803/7803 - 8s - loss: 1.4074 - acc: 0.7125\n",
      "Epoch 62/200\n",
      "7803/7803 - 8s - loss: 1.3695 - acc: 0.7207\n",
      "Epoch 63/200\n",
      "7803/7803 - 8s - loss: 1.3355 - acc: 0.7296\n",
      "Epoch 64/200\n",
      "7803/7803 - 8s - loss: 1.3037 - acc: 0.7374\n",
      "Epoch 65/200\n",
      "7803/7803 - 8s - loss: 1.2734 - acc: 0.7400\n",
      "Epoch 66/200\n",
      "7803/7803 - 8s - loss: 1.2468 - acc: 0.7493\n",
      "Epoch 67/200\n",
      "7803/7803 - 8s - loss: 1.2122 - acc: 0.7539\n",
      "Epoch 68/200\n",
      "7803/7803 - 8s - loss: 1.1835 - acc: 0.7657\n",
      "Epoch 69/200\n",
      "7803/7803 - 8s - loss: 1.1550 - acc: 0.7718\n",
      "Epoch 70/200\n",
      "7803/7803 - 8s - loss: 1.1250 - acc: 0.7744\n",
      "Epoch 71/200\n",
      "7803/7803 - 8s - loss: 1.1006 - acc: 0.7832\n",
      "Epoch 72/200\n",
      "7803/7803 - 8s - loss: 1.0721 - acc: 0.7869\n",
      "Epoch 73/200\n",
      "7803/7803 - 8s - loss: 1.0477 - acc: 0.7920\n",
      "Epoch 74/200\n",
      "7803/7803 - 8s - loss: 1.0219 - acc: 0.7989\n",
      "Epoch 75/200\n",
      "7803/7803 - 8s - loss: 0.9951 - acc: 0.8003\n",
      "Epoch 76/200\n",
      "7803/7803 - 8s - loss: 0.9730 - acc: 0.8098\n",
      "Epoch 77/200\n",
      "7803/7803 - 8s - loss: 0.9501 - acc: 0.8111\n",
      "Epoch 78/200\n",
      "7803/7803 - 8s - loss: 0.9287 - acc: 0.8166\n",
      "Epoch 79/200\n",
      "7803/7803 - 8s - loss: 0.9037 - acc: 0.8192\n",
      "Epoch 80/200\n",
      "7803/7803 - 9s - loss: 0.8851 - acc: 0.8260\n",
      "Epoch 81/200\n",
      "7803/7803 - 9s - loss: 0.8635 - acc: 0.8297\n",
      "Epoch 82/200\n",
      "7803/7803 - 8s - loss: 0.8387 - acc: 0.8324\n",
      "Epoch 83/200\n",
      "7803/7803 - 8s - loss: 0.8213 - acc: 0.8378\n",
      "Epoch 84/200\n",
      "7803/7803 - 8s - loss: 0.8021 - acc: 0.8429\n",
      "Epoch 85/200\n",
      "7803/7803 - 8s - loss: 0.7852 - acc: 0.8417\n",
      "Epoch 86/200\n",
      "7803/7803 - 8s - loss: 0.7638 - acc: 0.8495\n",
      "Epoch 87/200\n",
      "7803/7803 - 8s - loss: 0.7481 - acc: 0.8543\n",
      "Epoch 88/200\n",
      "7803/7803 - 8s - loss: 0.7315 - acc: 0.8548\n",
      "Epoch 89/200\n",
      "7803/7803 - 8s - loss: 0.7161 - acc: 0.8601\n",
      "Epoch 90/200\n",
      "7803/7803 - 8s - loss: 0.6976 - acc: 0.8642\n",
      "Epoch 91/200\n",
      "7803/7803 - 8s - loss: 0.6808 - acc: 0.8676\n",
      "Epoch 92/200\n",
      "7803/7803 - 8s - loss: 0.6718 - acc: 0.8666\n",
      "Epoch 93/200\n",
      "7803/7803 - 8s - loss: 0.6535 - acc: 0.8726\n",
      "Epoch 94/200\n",
      "7803/7803 - 8s - loss: 0.6359 - acc: 0.8757\n",
      "Epoch 95/200\n",
      "7803/7803 - 8s - loss: 0.6331 - acc: 0.8730\n",
      "Epoch 96/200\n",
      "7803/7803 - 8s - loss: 0.6136 - acc: 0.8786\n",
      "Epoch 97/200\n",
      "7803/7803 - 8s - loss: 0.5956 - acc: 0.8830\n",
      "Epoch 98/200\n",
      "7803/7803 - 8s - loss: 0.5868 - acc: 0.8817\n",
      "Epoch 99/200\n",
      "7803/7803 - 8s - loss: 0.5727 - acc: 0.8847\n",
      "Epoch 100/200\n",
      "7803/7803 - 8s - loss: 0.5603 - acc: 0.8880\n",
      "Epoch 101/200\n",
      "7803/7803 - 8s - loss: 0.5473 - acc: 0.8902\n",
      "Epoch 102/200\n",
      "7803/7803 - 8s - loss: 0.5392 - acc: 0.8900\n",
      "Epoch 103/200\n",
      "7803/7803 - 8s - loss: 0.5297 - acc: 0.8925\n",
      "Epoch 104/200\n",
      "7803/7803 - 8s - loss: 0.5196 - acc: 0.8945\n",
      "Epoch 105/200\n",
      "7803/7803 - 8s - loss: 0.5099 - acc: 0.8943\n",
      "Epoch 106/200\n",
      "7803/7803 - 8s - loss: 0.5026 - acc: 0.8976\n",
      "Epoch 107/200\n",
      "7803/7803 - 8s - loss: 0.4891 - acc: 0.8991\n",
      "Epoch 108/200\n",
      "7803/7803 - 8s - loss: 0.4848 - acc: 0.8986\n",
      "Epoch 109/200\n",
      "7803/7803 - 8s - loss: 0.4930 - acc: 0.8957\n",
      "Epoch 110/200\n",
      "7803/7803 - 8s - loss: 0.4731 - acc: 0.9000\n",
      "Epoch 111/200\n",
      "7803/7803 - 8s - loss: 0.4580 - acc: 0.9036\n",
      "Epoch 112/200\n",
      "7803/7803 - 8s - loss: 0.4509 - acc: 0.9039\n",
      "Epoch 113/200\n",
      "7803/7803 - 9s - loss: 0.4420 - acc: 0.9061\n",
      "Epoch 114/200\n",
      "7803/7803 - 8s - loss: 0.4320 - acc: 0.9064\n",
      "Epoch 115/200\n",
      "7803/7803 - 8s - loss: 0.4279 - acc: 0.9082\n",
      "Epoch 116/200\n",
      "7803/7803 - 8s - loss: 0.4216 - acc: 0.9070\n",
      "Epoch 117/200\n",
      "7803/7803 - 8s - loss: 0.4158 - acc: 0.9091\n",
      "Epoch 118/200\n",
      "7803/7803 - 8s - loss: 0.4104 - acc: 0.9079\n",
      "Epoch 119/200\n",
      "7803/7803 - 8s - loss: 0.4043 - acc: 0.9088\n",
      "Epoch 120/200\n",
      "7803/7803 - 8s - loss: 0.4050 - acc: 0.9094\n",
      "Epoch 121/200\n",
      "7803/7803 - 8s - loss: 0.4048 - acc: 0.9085\n",
      "Epoch 122/200\n",
      "7803/7803 - 8s - loss: 0.3948 - acc: 0.9076\n",
      "Epoch 123/200\n",
      "7803/7803 - 8s - loss: 0.3826 - acc: 0.9098\n",
      "Epoch 124/200\n",
      "7803/7803 - 8s - loss: 0.3769 - acc: 0.9117\n",
      "Epoch 125/200\n",
      "7803/7803 - 8s - loss: 0.3726 - acc: 0.9113\n",
      "Epoch 126/200\n",
      "7803/7803 - 8s - loss: 0.3675 - acc: 0.9122\n",
      "Epoch 127/200\n",
      "7803/7803 - 8s - loss: 0.3641 - acc: 0.9121\n",
      "Epoch 128/200\n",
      "7803/7803 - 8s - loss: 0.3608 - acc: 0.9129\n",
      "Epoch 129/200\n",
      "7803/7803 - 8s - loss: 0.3564 - acc: 0.9123\n",
      "Epoch 130/200\n",
      "7803/7803 - 8s - loss: 0.3497 - acc: 0.9127\n",
      "Epoch 131/200\n",
      "7803/7803 - 8s - loss: 0.3589 - acc: 0.9126\n",
      "Epoch 132/200\n",
      "7803/7803 - 8s - loss: 0.3513 - acc: 0.9113\n",
      "Epoch 133/200\n",
      "7803/7803 - 9s - loss: 0.3447 - acc: 0.9143\n",
      "Epoch 134/200\n",
      "7803/7803 - 8s - loss: 0.3372 - acc: 0.9158\n",
      "Epoch 135/200\n",
      "7803/7803 - 8s - loss: 0.3367 - acc: 0.9148\n",
      "Epoch 136/200\n",
      "7803/7803 - 8s - loss: 0.3337 - acc: 0.9153\n",
      "Epoch 137/200\n",
      "7803/7803 - 8s - loss: 0.3340 - acc: 0.9143\n",
      "Epoch 138/200\n",
      "7803/7803 - 9s - loss: 0.3331 - acc: 0.9150\n"
     ]
    },
    {
     "name": "stdout",
     "output_type": "stream",
     "text": [
      "Epoch 139/200\n",
      "7803/7803 - 8s - loss: 0.3268 - acc: 0.9159\n",
      "Epoch 140/200\n",
      "7803/7803 - 8s - loss: 0.3205 - acc: 0.9155\n",
      "Epoch 141/200\n",
      "7803/7803 - 8s - loss: 0.3190 - acc: 0.9168\n",
      "Epoch 142/200\n",
      "7803/7803 - 8s - loss: 0.3173 - acc: 0.9157\n",
      "Epoch 143/200\n",
      "7803/7803 - 8s - loss: 0.3178 - acc: 0.9143\n",
      "Epoch 144/200\n",
      "7803/7803 - 8s - loss: 0.3142 - acc: 0.9170\n",
      "Epoch 145/200\n",
      "7803/7803 - 8s - loss: 0.3134 - acc: 0.9157\n",
      "Epoch 146/200\n",
      "7803/7803 - 10s - loss: 0.3125 - acc: 0.9166\n",
      "Epoch 147/200\n",
      "7803/7803 - 8s - loss: 0.3101 - acc: 0.9155\n",
      "Epoch 148/200\n",
      "7803/7803 - 8s - loss: 0.3330 - acc: 0.9130\n",
      "Epoch 149/200\n",
      "7803/7803 - 8s - loss: 0.3333 - acc: 0.9129\n",
      "Epoch 150/200\n",
      "7803/7803 - 8s - loss: 0.3069 - acc: 0.9157\n",
      "Epoch 151/200\n",
      "7803/7803 - 8s - loss: 0.2989 - acc: 0.9161\n",
      "Epoch 152/200\n",
      "7803/7803 - 8s - loss: 0.2968 - acc: 0.9158\n",
      "Epoch 153/200\n",
      "7803/7803 - 8s - loss: 0.2971 - acc: 0.9170\n",
      "Epoch 154/200\n",
      "7803/7803 - 8s - loss: 0.2967 - acc: 0.9167\n",
      "Epoch 155/200\n",
      "7803/7803 - 8s - loss: 0.2934 - acc: 0.9180\n",
      "Epoch 156/200\n",
      "7803/7803 - 8s - loss: 0.2933 - acc: 0.9163\n",
      "Epoch 157/200\n",
      "7803/7803 - 8s - loss: 0.2936 - acc: 0.9154\n",
      "Epoch 158/200\n",
      "7803/7803 - 8s - loss: 0.2926 - acc: 0.9157\n",
      "Epoch 159/200\n",
      "7803/7803 - 8s - loss: 0.2948 - acc: 0.9159\n",
      "Epoch 160/200\n",
      "7803/7803 - 8s - loss: 0.2913 - acc: 0.9148\n",
      "Epoch 161/200\n",
      "7803/7803 - 8s - loss: 0.2891 - acc: 0.9176\n",
      "Epoch 162/200\n",
      "7803/7803 - 8s - loss: 0.2878 - acc: 0.9157\n",
      "Epoch 163/200\n",
      "7803/7803 - 8s - loss: 0.2934 - acc: 0.9159\n",
      "Epoch 164/200\n",
      "7803/7803 - 8s - loss: 0.3326 - acc: 0.9062\n",
      "Epoch 165/200\n",
      "7803/7803 - 8s - loss: 0.3071 - acc: 0.9149\n",
      "Epoch 166/200\n",
      "7803/7803 - 8s - loss: 0.2868 - acc: 0.9145\n",
      "Epoch 167/200\n",
      "7803/7803 - 8s - loss: 0.2821 - acc: 0.9162\n",
      "Epoch 168/200\n",
      "7803/7803 - 8s - loss: 0.2821 - acc: 0.9167\n",
      "Epoch 169/200\n",
      "7803/7803 - 8s - loss: 0.2830 - acc: 0.9161\n",
      "Epoch 170/200\n",
      "7803/7803 - 8s - loss: 0.2811 - acc: 0.9155\n",
      "Epoch 171/200\n",
      "7803/7803 - 8s - loss: 0.2796 - acc: 0.9163\n",
      "Epoch 172/200\n",
      "7803/7803 - 8s - loss: 0.2799 - acc: 0.9173\n",
      "Epoch 173/200\n",
      "7803/7803 - 8s - loss: 0.2814 - acc: 0.9167\n",
      "Epoch 174/200\n",
      "7803/7803 - 8s - loss: 0.2850 - acc: 0.9146\n",
      "Epoch 175/200\n",
      "7803/7803 - 8s - loss: 0.2829 - acc: 0.9166\n",
      "Epoch 176/200\n",
      "7803/7803 - 8s - loss: 0.2783 - acc: 0.9164\n",
      "Epoch 177/200\n",
      "7803/7803 - 8s - loss: 0.2776 - acc: 0.9150\n",
      "Epoch 178/200\n",
      "7803/7803 - 8s - loss: 0.2752 - acc: 0.9167\n",
      "Epoch 179/200\n",
      "7803/7803 - 8s - loss: 0.2759 - acc: 0.9168\n",
      "Epoch 180/200\n",
      "7803/7803 - 8s - loss: 0.2765 - acc: 0.9155\n",
      "Epoch 181/200\n",
      "7803/7803 - 8s - loss: 0.2789 - acc: 0.9171\n",
      "Epoch 182/200\n",
      "7803/7803 - 8s - loss: 0.2773 - acc: 0.9166\n",
      "Epoch 183/200\n",
      "7803/7803 - 8s - loss: 0.2749 - acc: 0.9159\n",
      "Epoch 184/200\n",
      "7803/7803 - 8s - loss: 0.2786 - acc: 0.9149\n",
      "Epoch 185/200\n",
      "7803/7803 - 8s - loss: 0.2817 - acc: 0.9141\n",
      "Epoch 186/200\n",
      "7803/7803 - 8s - loss: 0.2904 - acc: 0.9153\n",
      "Epoch 187/200\n",
      "7803/7803 - 8s - loss: 0.3070 - acc: 0.9108\n",
      "Epoch 188/200\n",
      "7803/7803 - 8s - loss: 0.2821 - acc: 0.9162\n",
      "Epoch 189/200\n",
      "7803/7803 - 8s - loss: 0.2748 - acc: 0.9170\n",
      "Epoch 190/200\n",
      "7803/7803 - 8s - loss: 0.2705 - acc: 0.9176\n",
      "Epoch 191/200\n",
      "7803/7803 - 8s - loss: 0.3083 - acc: 0.9089\n",
      "Epoch 192/200\n",
      "7803/7803 - 8s - loss: 0.3069 - acc: 0.9091\n",
      "Epoch 193/200\n",
      "7803/7803 - 8s - loss: 0.2758 - acc: 0.9154\n",
      "Epoch 194/200\n",
      "7803/7803 - 8s - loss: 0.2705 - acc: 0.9176\n",
      "Epoch 195/200\n",
      "7803/7803 - 8s - loss: 0.2689 - acc: 0.9162\n",
      "Epoch 196/200\n",
      "7803/7803 - 8s - loss: 0.2671 - acc: 0.9167\n",
      "Epoch 197/200\n",
      "7803/7803 - 8s - loss: 0.2665 - acc: 0.9166\n",
      "Epoch 198/200\n",
      "7803/7803 - 8s - loss: 0.2665 - acc: 0.9171\n",
      "Epoch 199/200\n",
      "7803/7803 - 8s - loss: 0.2659 - acc: 0.9175\n",
      "Epoch 200/200\n",
      "7803/7803 - 8s - loss: 0.2667 - acc: 0.9168\n"
     ]
    },
    {
     "data": {
      "text/plain": [
       "<tensorflow.python.keras.callbacks.History at 0x2069f1866c8>"
      ]
     },
     "execution_count": 20,
     "metadata": {},
     "output_type": "execute_result"
    }
   ],
   "source": [
    "model.fit(X, y, epochs=200, verbose=2)"
   ]
  },
  {
   "cell_type": "markdown",
   "metadata": {},
   "source": [
    "## 3. 모델 검증"
   ]
  },
  {
   "cell_type": "code",
   "execution_count": 21,
   "metadata": {},
   "outputs": [],
   "source": [
    "def sentence_generation(model, t, current_word, n): # 모델, 토크나이저, 현재 단어, 반복할 횟수\n",
    "    init_word = current_word # 처음 들어온 단어도 마지막에 같이 출력하기위해 저장\n",
    "    sentence = ''\n",
    "    for _ in range(n): # n번 반복\n",
    "        encoded = t.texts_to_sequences([current_word])[0] # 현재 단어에 대한 정수 인코딩\n",
    "        encoded = pad_sequences([encoded], maxlen=23, padding='pre') # 데이터에 대한 패딩\n",
    "        result = model.predict_classes(encoded, verbose=0)\n",
    "          # 입력한 X(현재 단어)에 대해서 y를 예측하고 y(예측한 단어)를 result에 저장.\n",
    "        for word, index in t.word_index.items(): \n",
    "            if index == result: # 만약 예측한 단어와 인덱스와 동일한 단어가 있다면\n",
    "                break # 해당 단어가 예측 단어이므로 break\n",
    "        current_word = current_word + ' '  + word # 현재 단어 + ' ' + 예측 단어를 현재 단어로 변경\n",
    "        sentence = sentence + ' ' + word # 예측 단어를 문장에 저장\n",
    "\n",
    "    sentence = init_word + sentence\n",
    "    return sentence"
   ]
  },
  {
   "cell_type": "code",
   "execution_count": 22,
   "metadata": {},
   "outputs": [
    {
     "name": "stdout",
     "output_type": "stream",
     "text": [
      "i want to be rich and im not sorry think eye\n"
     ]
    }
   ],
   "source": [
    "print(sentence_generation(model, t, 'i', 10))\n",
    "# 임의의 단어 'i'에 대해서 10개의 단어를 추가 생성"
   ]
  },
  {
   "cell_type": "code",
   "execution_count": 23,
   "metadata": {},
   "outputs": [
    {
     "name": "stdout",
     "output_type": "stream",
     "text": [
      "how to make a crossword puzzle complicated residents see it a\n"
     ]
    }
   ],
   "source": [
    "print(sentence_generation(model, t, 'how', 10))\n",
    "# 임의의 단어 'how'에 대해서 10개의 단어를 추가 생성"
   ]
  },
  {
   "cell_type": "code",
   "execution_count": null,
   "metadata": {},
   "outputs": [],
   "source": []
  }
 ],
 "metadata": {
  "kernelspec": {
   "display_name": "Python 3",
   "language": "python",
   "name": "python3"
  },
  "language_info": {
   "codemirror_mode": {
    "name": "ipython",
    "version": 3
   },
   "file_extension": ".py",
   "mimetype": "text/x-python",
   "name": "python",
   "nbconvert_exporter": "python",
   "pygments_lexer": "ipython3",
   "version": "3.7.3"
  }
 },
 "nbformat": 4,
 "nbformat_minor": 2
}
