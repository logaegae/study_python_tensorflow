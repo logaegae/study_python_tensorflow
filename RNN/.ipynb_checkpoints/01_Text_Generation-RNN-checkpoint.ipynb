{
 "cells": [
  {
   "cell_type": "markdown",
   "metadata": {},
   "source": [
    "# RNN을 이용한 텍스트 생성\n",
    "- '경마장에 있는 말이 뛰고 있다'\n",
    "- '그의 말이 법이다'\n",
    "- '가는 말이 고와야 오는 말이 곱다'"
   ]
  },
  {
   "cell_type": "markdown",
   "metadata": {},
   "source": [
    "## 1. 데이터 전처리"
   ]
  },
  {
   "cell_type": "code",
   "execution_count": 1,
   "metadata": {},
   "outputs": [],
   "source": [
    "import numpy as np\n",
    "from tensorflow.keras.preprocessing.text import Tokenizer\n",
    "from tensorflow.keras.preprocessing.sequence import pad_sequences\n",
    "from tensorflow.keras.utils import to_categorical"
   ]
  },
  {
   "cell_type": "code",
   "execution_count": 2,
   "metadata": {},
   "outputs": [],
   "source": [
    "# 3개의 문장을 변수에 저장\n",
    "text=\"\"\"경마장에 있는 말이 뛰고 있다\\n\n",
    "그의 말이 법이다\\n\n",
    "가는 말이 고와야 오는 말이 곱다\\n\"\"\""
   ]
  },
  {
   "cell_type": "code",
   "execution_count": 3,
   "metadata": {},
   "outputs": [],
   "source": [
    "# 단어 집합 생성\n",
    "t = Tokenizer()\n",
    "t.fit_on_texts([text])"
   ]
  },
  {
   "cell_type": "code",
   "execution_count": 4,
   "metadata": {},
   "outputs": [
    {
     "data": {
      "text/plain": [
       "{'말이': 1,\n",
       " '경마장에': 2,\n",
       " '있는': 3,\n",
       " '뛰고': 4,\n",
       " '있다': 5,\n",
       " '그의': 6,\n",
       " '법이다': 7,\n",
       " '가는': 8,\n",
       " '고와야': 9,\n",
       " '오는': 10,\n",
       " '곱다': 11}"
      ]
     },
     "execution_count": 4,
     "metadata": {},
     "output_type": "execute_result"
    }
   ],
   "source": [
    "t.word_index"
   ]
  },
  {
   "cell_type": "code",
   "execution_count": 5,
   "metadata": {},
   "outputs": [
    {
     "name": "stdout",
     "output_type": "stream",
     "text": [
      "단어 집합의 크기 : 12\n"
     ]
    }
   ],
   "source": [
    "# 단어 집합 크기 설정\n",
    "vocab_size = len(t.word_index) + 1\n",
    "# 케라스 토크나이저의 정수 인코딩은 인덱스가 1부터 시작하지만,\n",
    "# 케라스 원-핫 인코딩에서 배열의 인덱스가 0부터 시작하기 때문에\n",
    "# 배열의 크기를 실제 단어 집합의 크기보다 +1로 생성해야함 \n",
    "print('단어 집합의 크기 : %d' % vocab_size)"
   ]
  },
  {
   "cell_type": "code",
   "execution_count": 6,
   "metadata": {},
   "outputs": [
    {
     "name": "stdout",
     "output_type": "stream",
     "text": [
      "학습에 사용할 샘플의 개수: 11\n"
     ]
    }
   ],
   "source": [
    "sequences = []\n",
    "for line in text.split('\\n'): # \\n을 기준으로 문장 토큰화\n",
    "    encoded = t.texts_to_sequences([line])[0]\n",
    "    for i in range(1, len(encoded)):\n",
    "        sequence = encoded[:i+1]\n",
    "        sequences.append(sequence)\n",
    "\n",
    "print('학습에 사용할 샘플의 개수: %d' % len(sequences))"
   ]
  },
  {
   "cell_type": "code",
   "execution_count": 7,
   "metadata": {},
   "outputs": [
    {
     "data": {
      "text/plain": [
       "[[2, 3],\n",
       " [2, 3, 1],\n",
       " [2, 3, 1, 4],\n",
       " [2, 3, 1, 4, 5],\n",
       " [6, 1],\n",
       " [6, 1, 7],\n",
       " [8, 1],\n",
       " [8, 1, 9],\n",
       " [8, 1, 9, 10],\n",
       " [8, 1, 9, 10, 1],\n",
       " [8, 1, 9, 10, 1, 11]]"
      ]
     },
     "execution_count": 7,
     "metadata": {},
     "output_type": "execute_result"
    }
   ],
   "source": [
    "sequences"
   ]
  },
  {
   "cell_type": "code",
   "execution_count": 8,
   "metadata": {},
   "outputs": [
    {
     "name": "stdout",
     "output_type": "stream",
     "text": [
      "샘플의 최대 길이 : 6\n"
     ]
    }
   ],
   "source": [
    "# 모든 샘플에서 길이가 가장 긴 샘플의 길이 출력\n",
    "max_len=max(len(s) for s in sequences) \n",
    "print('샘플의 최대 길이 : {}'.format(max_len))"
   ]
  },
  {
   "cell_type": "code",
   "execution_count": 9,
   "metadata": {},
   "outputs": [],
   "source": [
    "# 전체 샘플의 길이를 6(가장 긴 샘플의 길이)으로 패딩\n",
    "# 'pre' 옵션을 주면 앞을 0으로 패딩\n",
    "sequences = pad_sequences(sequences, maxlen=max_len, padding='pre')"
   ]
  },
  {
   "cell_type": "code",
   "execution_count": 10,
   "metadata": {},
   "outputs": [
    {
     "data": {
      "text/plain": [
       "array([[0, 0, 0, 0, 2, 3],\n",
       "       [0, 0, 0, 2, 3, 1],\n",
       "       [0, 0, 2, 3, 1, 4],\n",
       "       [0, 2, 3, 1, 4, 5],\n",
       "       [0, 0, 0, 0, 6, 1]])"
      ]
     },
     "execution_count": 10,
     "metadata": {},
     "output_type": "execute_result"
    }
   ],
   "source": [
    "sequences[:5]"
   ]
  },
  {
   "cell_type": "code",
   "execution_count": 11,
   "metadata": {},
   "outputs": [],
   "source": [
    "sequences = np.array(sequences)\n",
    "X = sequences[:,:-1]\n",
    "y = sequences[:,-1]\n",
    "# 리스트의 마지막 값을 제외하고 저장한 것은 X\n",
    "# 리스트의 마지막 값만 저장한 것은 y. 이는 레이블에 해당됨."
   ]
  },
  {
   "cell_type": "code",
   "execution_count": 12,
   "metadata": {},
   "outputs": [
    {
     "data": {
      "text/plain": [
       "array([[0, 0, 0, 0, 2],\n",
       "       [0, 0, 0, 2, 3],\n",
       "       [0, 0, 2, 3, 1],\n",
       "       [0, 2, 3, 1, 4],\n",
       "       [0, 0, 0, 0, 6]])"
      ]
     },
     "execution_count": 12,
     "metadata": {},
     "output_type": "execute_result"
    }
   ],
   "source": [
    "X[:5]"
   ]
  },
  {
   "cell_type": "code",
   "execution_count": 13,
   "metadata": {},
   "outputs": [],
   "source": [
    "# 레이블 데이터 y에 대해서 원-핫 인코딩을 수행\n",
    "y = to_categorical(y, num_classes=vocab_size)"
   ]
  },
  {
   "cell_type": "code",
   "execution_count": 14,
   "metadata": {},
   "outputs": [
    {
     "data": {
      "text/plain": [
       "array([[0., 0., 0., 1., 0., 0., 0., 0., 0., 0., 0., 0.],\n",
       "       [0., 1., 0., 0., 0., 0., 0., 0., 0., 0., 0., 0.],\n",
       "       [0., 0., 0., 0., 1., 0., 0., 0., 0., 0., 0., 0.],\n",
       "       [0., 0., 0., 0., 0., 1., 0., 0., 0., 0., 0., 0.],\n",
       "       [0., 1., 0., 0., 0., 0., 0., 0., 0., 0., 0., 0.],\n",
       "       [0., 0., 0., 0., 0., 0., 0., 1., 0., 0., 0., 0.],\n",
       "       [0., 1., 0., 0., 0., 0., 0., 0., 0., 0., 0., 0.],\n",
       "       [0., 0., 0., 0., 0., 0., 0., 0., 0., 1., 0., 0.],\n",
       "       [0., 0., 0., 0., 0., 0., 0., 0., 0., 0., 1., 0.],\n",
       "       [0., 1., 0., 0., 0., 0., 0., 0., 0., 0., 0., 0.],\n",
       "       [0., 0., 0., 0., 0., 0., 0., 0., 0., 0., 0., 1.]], dtype=float32)"
      ]
     },
     "execution_count": 14,
     "metadata": {},
     "output_type": "execute_result"
    }
   ],
   "source": [
    "y"
   ]
  },
  {
   "cell_type": "markdown",
   "metadata": {},
   "source": [
    "## 2. 모델 설계 및 학습"
   ]
  },
  {
   "cell_type": "code",
   "execution_count": 15,
   "metadata": {},
   "outputs": [],
   "source": [
    "from tensorflow.keras.models import Sequential\n",
    "from tensorflow.keras.layers import Embedding, Dense, SimpleRNN"
   ]
  },
  {
   "cell_type": "code",
   "execution_count": 16,
   "metadata": {},
   "outputs": [
    {
     "name": "stdout",
     "output_type": "stream",
     "text": [
      "WARNING:tensorflow:From C:\\Users\\ckkim\\.conda\\envs\\tf2\\lib\\site-packages\\tensorflow_core\\python\\keras\\initializers.py:119: calling RandomUniform.__init__ (from tensorflow.python.ops.init_ops) with dtype is deprecated and will be removed in a future version.\n",
      "Instructions for updating:\n",
      "Call initializer instance with the dtype argument instead of passing it to the constructor\n",
      "WARNING:tensorflow:From C:\\Users\\ckkim\\.conda\\envs\\tf2\\lib\\site-packages\\tensorflow_core\\python\\ops\\resource_variable_ops.py:1630: calling BaseResourceVariable.__init__ (from tensorflow.python.ops.resource_variable_ops) with constraint is deprecated and will be removed in a future version.\n",
      "Instructions for updating:\n",
      "If using Keras pass *_constraint arguments to layers.\n",
      "Model: \"sequential\"\n",
      "_________________________________________________________________\n",
      "Layer (type)                 Output Shape              Param #   \n",
      "=================================================================\n",
      "embedding (Embedding)        (None, 5, 10)             120       \n",
      "_________________________________________________________________\n",
      "simple_rnn (SimpleRNN)       (None, 32)                1376      \n",
      "_________________________________________________________________\n",
      "dense (Dense)                (None, 12)                396       \n",
      "=================================================================\n",
      "Total params: 1,892\n",
      "Trainable params: 1,892\n",
      "Non-trainable params: 0\n",
      "_________________________________________________________________\n"
     ]
    }
   ],
   "source": [
    "# 임베딩 벡터는 10차원, 은닉 상태 크기는 32\n",
    "model = Sequential()\n",
    "model.add(Embedding(vocab_size, 10, input_length=max_len-1)) # 레이블을 분리하였으므로 X의 길이는 5\n",
    "model.add(SimpleRNN(32))\n",
    "model.add(Dense(vocab_size, activation='softmax'))\n",
    "model.summary()"
   ]
  },
  {
   "cell_type": "code",
   "execution_count": 17,
   "metadata": {},
   "outputs": [],
   "source": [
    "model.compile(loss='categorical_crossentropy', \n",
    "              optimizer='adam', metrics=['accuracy'])"
   ]
  },
  {
   "cell_type": "code",
   "execution_count": 18,
   "metadata": {},
   "outputs": [
    {
     "name": "stdout",
     "output_type": "stream",
     "text": [
      "Train on 11 samples\n",
      "Epoch 1/200\n",
      "11/11 - 0s - loss: 2.4974 - acc: 0.0000e+00\n",
      "Epoch 2/200\n",
      "11/11 - 0s - loss: 2.4829 - acc: 0.0000e+00\n",
      "Epoch 3/200\n",
      "11/11 - 0s - loss: 2.4686 - acc: 0.0909\n",
      "Epoch 4/200\n",
      "11/11 - 0s - loss: 2.4546 - acc: 0.1818\n",
      "Epoch 5/200\n",
      "11/11 - 0s - loss: 2.4406 - acc: 0.2727\n",
      "Epoch 6/200\n",
      "11/11 - 0s - loss: 2.4265 - acc: 0.2727\n",
      "Epoch 7/200\n",
      "11/11 - 0s - loss: 2.4124 - acc: 0.3636\n",
      "Epoch 8/200\n",
      "11/11 - 0s - loss: 2.3981 - acc: 0.3636\n",
      "Epoch 9/200\n",
      "11/11 - 0s - loss: 2.3835 - acc: 0.4545\n",
      "Epoch 10/200\n",
      "11/11 - 0s - loss: 2.3687 - acc: 0.4545\n",
      "Epoch 11/200\n",
      "11/11 - 0s - loss: 2.3534 - acc: 0.4545\n",
      "Epoch 12/200\n",
      "11/11 - 0s - loss: 2.3376 - acc: 0.4545\n",
      "Epoch 13/200\n",
      "11/11 - 0s - loss: 2.3213 - acc: 0.4545\n",
      "Epoch 14/200\n",
      "11/11 - 0s - loss: 2.3043 - acc: 0.4545\n",
      "Epoch 15/200\n",
      "11/11 - 0s - loss: 2.2867 - acc: 0.4545\n",
      "Epoch 16/200\n",
      "11/11 - 0s - loss: 2.2684 - acc: 0.4545\n",
      "Epoch 17/200\n",
      "11/11 - 0s - loss: 2.2493 - acc: 0.4545\n",
      "Epoch 18/200\n",
      "11/11 - 0s - loss: 2.2294 - acc: 0.4545\n",
      "Epoch 19/200\n",
      "11/11 - 0s - loss: 2.2087 - acc: 0.4545\n",
      "Epoch 20/200\n",
      "11/11 - 0s - loss: 2.1873 - acc: 0.4545\n",
      "Epoch 21/200\n",
      "11/11 - 0s - loss: 2.1651 - acc: 0.4545\n",
      "Epoch 22/200\n",
      "11/11 - 0s - loss: 2.1423 - acc: 0.3636\n",
      "Epoch 23/200\n",
      "11/11 - 0s - loss: 2.1189 - acc: 0.3636\n",
      "Epoch 24/200\n",
      "11/11 - 0s - loss: 2.0951 - acc: 0.3636\n",
      "Epoch 25/200\n",
      "11/11 - 0s - loss: 2.0710 - acc: 0.3636\n",
      "Epoch 26/200\n",
      "11/11 - 0s - loss: 2.0468 - acc: 0.3636\n",
      "Epoch 27/200\n",
      "11/11 - 0s - loss: 2.0226 - acc: 0.3636\n",
      "Epoch 28/200\n",
      "11/11 - 0s - loss: 1.9988 - acc: 0.3636\n",
      "Epoch 29/200\n",
      "11/11 - 0s - loss: 1.9753 - acc: 0.3636\n",
      "Epoch 30/200\n",
      "11/11 - 0s - loss: 1.9524 - acc: 0.3636\n",
      "Epoch 31/200\n",
      "11/11 - 0s - loss: 1.9300 - acc: 0.3636\n",
      "Epoch 32/200\n",
      "11/11 - 0s - loss: 1.9081 - acc: 0.3636\n",
      "Epoch 33/200\n",
      "11/11 - 0s - loss: 1.8866 - acc: 0.3636\n",
      "Epoch 34/200\n",
      "11/11 - 0s - loss: 1.8653 - acc: 0.3636\n",
      "Epoch 35/200\n",
      "11/11 - 0s - loss: 1.8442 - acc: 0.3636\n",
      "Epoch 36/200\n",
      "11/11 - 0s - loss: 1.8231 - acc: 0.3636\n",
      "Epoch 37/200\n",
      "11/11 - 0s - loss: 1.8020 - acc: 0.3636\n",
      "Epoch 38/200\n",
      "11/11 - 0s - loss: 1.7808 - acc: 0.3636\n",
      "Epoch 39/200\n",
      "11/11 - 0s - loss: 1.7597 - acc: 0.3636\n",
      "Epoch 40/200\n",
      "11/11 - 0s - loss: 1.7386 - acc: 0.3636\n",
      "Epoch 41/200\n",
      "11/11 - 0s - loss: 1.7177 - acc: 0.3636\n",
      "Epoch 42/200\n",
      "11/11 - 0s - loss: 1.6972 - acc: 0.4545\n",
      "Epoch 43/200\n",
      "11/11 - 0s - loss: 1.6769 - acc: 0.4545\n",
      "Epoch 44/200\n",
      "11/11 - 0s - loss: 1.6569 - acc: 0.4545\n",
      "Epoch 45/200\n",
      "11/11 - 0s - loss: 1.6372 - acc: 0.4545\n",
      "Epoch 46/200\n",
      "11/11 - 0s - loss: 1.6175 - acc: 0.5455\n",
      "Epoch 47/200\n",
      "11/11 - 0s - loss: 1.5977 - acc: 0.5455\n",
      "Epoch 48/200\n",
      "11/11 - 0s - loss: 1.5777 - acc: 0.5455\n",
      "Epoch 49/200\n",
      "11/11 - 0s - loss: 1.5574 - acc: 0.5455\n",
      "Epoch 50/200\n",
      "11/11 - 0s - loss: 1.5368 - acc: 0.5455\n",
      "Epoch 51/200\n",
      "11/11 - 0s - loss: 1.5158 - acc: 0.5455\n",
      "Epoch 52/200\n",
      "11/11 - 0s - loss: 1.4945 - acc: 0.5455\n",
      "Epoch 53/200\n",
      "11/11 - 0s - loss: 1.4729 - acc: 0.5455\n",
      "Epoch 54/200\n",
      "11/11 - 0s - loss: 1.4510 - acc: 0.5455\n",
      "Epoch 55/200\n",
      "11/11 - 0s - loss: 1.4289 - acc: 0.5455\n",
      "Epoch 56/200\n",
      "11/11 - 0s - loss: 1.4066 - acc: 0.5455\n",
      "Epoch 57/200\n",
      "11/11 - 0s - loss: 1.3841 - acc: 0.5455\n",
      "Epoch 58/200\n",
      "11/11 - 0s - loss: 1.3615 - acc: 0.5455\n",
      "Epoch 59/200\n",
      "11/11 - 0s - loss: 1.3388 - acc: 0.5455\n",
      "Epoch 60/200\n",
      "11/11 - 0s - loss: 1.3159 - acc: 0.6364\n",
      "Epoch 61/200\n",
      "11/11 - 0s - loss: 1.2930 - acc: 0.6364\n",
      "Epoch 62/200\n",
      "11/11 - 0s - loss: 1.2700 - acc: 0.6364\n",
      "Epoch 63/200\n",
      "11/11 - 0s - loss: 1.2472 - acc: 0.6364\n",
      "Epoch 64/200\n",
      "11/11 - 0s - loss: 1.2244 - acc: 0.6364\n",
      "Epoch 65/200\n",
      "11/11 - 0s - loss: 1.2018 - acc: 0.6364\n",
      "Epoch 66/200\n",
      "11/11 - 0s - loss: 1.1795 - acc: 0.7273\n",
      "Epoch 67/200\n",
      "11/11 - 0s - loss: 1.1574 - acc: 0.7273\n",
      "Epoch 68/200\n",
      "11/11 - 0s - loss: 1.1356 - acc: 0.7273\n",
      "Epoch 69/200\n",
      "11/11 - 0s - loss: 1.1141 - acc: 0.7273\n",
      "Epoch 70/200\n",
      "11/11 - 0s - loss: 1.0929 - acc: 0.7273\n",
      "Epoch 71/200\n",
      "11/11 - 0s - loss: 1.0720 - acc: 0.7273\n",
      "Epoch 72/200\n",
      "11/11 - 0s - loss: 1.0515 - acc: 0.7273\n",
      "Epoch 73/200\n",
      "11/11 - 0s - loss: 1.0314 - acc: 0.7273\n",
      "Epoch 74/200\n",
      "11/11 - 0s - loss: 1.0117 - acc: 0.7273\n",
      "Epoch 75/200\n",
      "11/11 - 0s - loss: 0.9923 - acc: 0.7273\n",
      "Epoch 76/200\n",
      "11/11 - 0s - loss: 0.9734 - acc: 0.7273\n",
      "Epoch 77/200\n",
      "11/11 - 0s - loss: 0.9549 - acc: 0.7273\n",
      "Epoch 78/200\n",
      "11/11 - 0s - loss: 0.9368 - acc: 0.7273\n",
      "Epoch 79/200\n",
      "11/11 - 0s - loss: 0.9190 - acc: 0.7273\n",
      "Epoch 80/200\n",
      "11/11 - 0s - loss: 0.9017 - acc: 0.7273\n",
      "Epoch 81/200\n",
      "11/11 - 0s - loss: 0.8847 - acc: 0.7273\n",
      "Epoch 82/200\n",
      "11/11 - 0s - loss: 0.8681 - acc: 0.7273\n",
      "Epoch 83/200\n",
      "11/11 - 0s - loss: 0.8519 - acc: 0.7273\n",
      "Epoch 84/200\n",
      "11/11 - 0s - loss: 0.8360 - acc: 0.7273\n",
      "Epoch 85/200\n",
      "11/11 - 0s - loss: 0.8205 - acc: 0.7273\n",
      "Epoch 86/200\n",
      "11/11 - 0s - loss: 0.8052 - acc: 0.7273\n",
      "Epoch 87/200\n",
      "11/11 - 0s - loss: 0.7903 - acc: 0.7273\n",
      "Epoch 88/200\n",
      "11/11 - 0s - loss: 0.7758 - acc: 0.7273\n",
      "Epoch 89/200\n",
      "11/11 - 0s - loss: 0.7615 - acc: 0.7273\n",
      "Epoch 90/200\n",
      "11/11 - 0s - loss: 0.7474 - acc: 0.8182\n",
      "Epoch 91/200\n",
      "11/11 - 0s - loss: 0.7337 - acc: 0.9091\n",
      "Epoch 92/200\n",
      "11/11 - 0s - loss: 0.7202 - acc: 0.9091\n",
      "Epoch 93/200\n",
      "11/11 - 0s - loss: 0.7069 - acc: 0.9091\n",
      "Epoch 94/200\n",
      "11/11 - 0s - loss: 0.6939 - acc: 0.9091\n",
      "Epoch 95/200\n",
      "11/11 - 0s - loss: 0.6811 - acc: 0.9091\n",
      "Epoch 96/200\n",
      "11/11 - 0s - loss: 0.6686 - acc: 0.9091\n",
      "Epoch 97/200\n",
      "11/11 - 0s - loss: 0.6562 - acc: 0.9091\n",
      "Epoch 98/200\n",
      "11/11 - 0s - loss: 0.6440 - acc: 0.9091\n",
      "Epoch 99/200\n",
      "11/11 - 0s - loss: 0.6321 - acc: 0.9091\n",
      "Epoch 100/200\n",
      "11/11 - 0s - loss: 0.6203 - acc: 0.9091\n",
      "Epoch 101/200\n",
      "11/11 - 0s - loss: 0.6087 - acc: 0.9091\n",
      "Epoch 102/200\n",
      "11/11 - 0s - loss: 0.5972 - acc: 0.9091\n",
      "Epoch 103/200\n",
      "11/11 - 0s - loss: 0.5860 - acc: 0.9091\n",
      "Epoch 104/200\n",
      "11/11 - 0s - loss: 0.5748 - acc: 0.9091\n",
      "Epoch 105/200\n",
      "11/11 - 0s - loss: 0.5639 - acc: 0.9091\n",
      "Epoch 106/200\n",
      "11/11 - 0s - loss: 0.5531 - acc: 0.9091\n",
      "Epoch 107/200\n",
      "11/11 - 0s - loss: 0.5424 - acc: 0.9091\n",
      "Epoch 108/200\n",
      "11/11 - 0s - loss: 0.5319 - acc: 0.9091\n",
      "Epoch 109/200\n",
      "11/11 - 0s - loss: 0.5215 - acc: 0.9091\n",
      "Epoch 110/200\n",
      "11/11 - 0s - loss: 0.5112 - acc: 0.9091\n",
      "Epoch 111/200\n",
      "11/11 - 0s - loss: 0.5011 - acc: 0.9091\n",
      "Epoch 112/200\n",
      "11/11 - 0s - loss: 0.4911 - acc: 0.9091\n",
      "Epoch 113/200\n",
      "11/11 - 0s - loss: 0.4812 - acc: 0.9091\n",
      "Epoch 114/200\n",
      "11/11 - 0s - loss: 0.4715 - acc: 0.9091\n",
      "Epoch 115/200\n",
      "11/11 - 0s - loss: 0.4619 - acc: 0.9091\n",
      "Epoch 116/200\n",
      "11/11 - 0s - loss: 0.4525 - acc: 0.9091\n",
      "Epoch 117/200\n",
      "11/11 - 0s - loss: 0.4431 - acc: 0.9091\n",
      "Epoch 118/200\n",
      "11/11 - 0s - loss: 0.4339 - acc: 0.9091\n",
      "Epoch 119/200\n",
      "11/11 - 0s - loss: 0.4249 - acc: 0.9091\n",
      "Epoch 120/200\n",
      "11/11 - 0s - loss: 0.4159 - acc: 0.9091\n",
      "Epoch 121/200\n",
      "11/11 - 0s - loss: 0.4071 - acc: 0.9091\n",
      "Epoch 122/200\n",
      "11/11 - 0s - loss: 0.3984 - acc: 0.9091\n",
      "Epoch 123/200\n",
      "11/11 - 0s - loss: 0.3899 - acc: 0.9091\n",
      "Epoch 124/200\n",
      "11/11 - 0s - loss: 0.3815 - acc: 0.9091\n",
      "Epoch 125/200\n",
      "11/11 - 0s - loss: 0.3732 - acc: 0.9091\n",
      "Epoch 126/200\n",
      "11/11 - 0s - loss: 0.3651 - acc: 0.9091\n",
      "Epoch 127/200\n",
      "11/11 - 0s - loss: 0.3570 - acc: 0.9091\n",
      "Epoch 128/200\n",
      "11/11 - 0s - loss: 0.3492 - acc: 0.9091\n",
      "Epoch 129/200\n",
      "11/11 - 0s - loss: 0.3415 - acc: 0.9091\n",
      "Epoch 130/200\n",
      "11/11 - 0s - loss: 0.3339 - acc: 0.9091\n",
      "Epoch 131/200\n",
      "11/11 - 0s - loss: 0.3264 - acc: 0.9091\n",
      "Epoch 132/200\n",
      "11/11 - 0s - loss: 0.3191 - acc: 0.9091\n",
      "Epoch 133/200\n",
      "11/11 - 0s - loss: 0.3119 - acc: 0.9091\n",
      "Epoch 134/200\n",
      "11/11 - 0s - loss: 0.3049 - acc: 0.9091\n",
      "Epoch 135/200\n",
      "11/11 - 0s - loss: 0.2980 - acc: 0.9091\n",
      "Epoch 136/200\n",
      "11/11 - 0s - loss: 0.2912 - acc: 0.9091\n",
      "Epoch 137/200\n",
      "11/11 - 0s - loss: 0.2846 - acc: 0.9091\n",
      "Epoch 138/200\n",
      "11/11 - 0s - loss: 0.2782 - acc: 0.9091\n",
      "Epoch 139/200\n",
      "11/11 - 0s - loss: 0.2718 - acc: 0.9091\n",
      "Epoch 140/200\n",
      "11/11 - 0s - loss: 0.2656 - acc: 0.9091\n",
      "Epoch 141/200\n",
      "11/11 - 0s - loss: 0.2596 - acc: 1.0000\n",
      "Epoch 142/200\n",
      "11/11 - 0s - loss: 0.2537 - acc: 1.0000\n",
      "Epoch 143/200\n",
      "11/11 - 0s - loss: 0.2479 - acc: 1.0000\n",
      "Epoch 144/200\n",
      "11/11 - 0s - loss: 0.2422 - acc: 1.0000\n",
      "Epoch 145/200\n",
      "11/11 - 0s - loss: 0.2367 - acc: 1.0000\n",
      "Epoch 146/200\n",
      "11/11 - 0s - loss: 0.2313 - acc: 1.0000\n",
      "Epoch 147/200\n",
      "11/11 - 0s - loss: 0.2261 - acc: 1.0000\n",
      "Epoch 148/200\n",
      "11/11 - 0s - loss: 0.2210 - acc: 1.0000\n",
      "Epoch 149/200\n",
      "11/11 - 0s - loss: 0.2160 - acc: 1.0000\n",
      "Epoch 150/200\n",
      "11/11 - 0s - loss: 0.2111 - acc: 1.0000\n",
      "Epoch 151/200\n",
      "11/11 - 0s - loss: 0.2063 - acc: 1.0000\n",
      "Epoch 152/200\n",
      "11/11 - 0s - loss: 0.2017 - acc: 1.0000\n",
      "Epoch 153/200\n",
      "11/11 - 0s - loss: 0.1972 - acc: 1.0000\n",
      "Epoch 154/200\n",
      "11/11 - 0s - loss: 0.1928 - acc: 1.0000\n"
     ]
    },
    {
     "name": "stdout",
     "output_type": "stream",
     "text": [
      "Epoch 155/200\n",
      "11/11 - 0s - loss: 0.1885 - acc: 1.0000\n",
      "Epoch 156/200\n",
      "11/11 - 0s - loss: 0.1843 - acc: 1.0000\n",
      "Epoch 157/200\n",
      "11/11 - 0s - loss: 0.1803 - acc: 1.0000\n",
      "Epoch 158/200\n",
      "11/11 - 0s - loss: 0.1763 - acc: 1.0000\n",
      "Epoch 159/200\n",
      "11/11 - 0s - loss: 0.1725 - acc: 1.0000\n",
      "Epoch 160/200\n",
      "11/11 - 0s - loss: 0.1687 - acc: 1.0000\n",
      "Epoch 161/200\n",
      "11/11 - 0s - loss: 0.1651 - acc: 1.0000\n",
      "Epoch 162/200\n",
      "11/11 - 0s - loss: 0.1615 - acc: 1.0000\n",
      "Epoch 163/200\n",
      "11/11 - 0s - loss: 0.1580 - acc: 1.0000\n",
      "Epoch 164/200\n",
      "11/11 - 0s - loss: 0.1547 - acc: 1.0000\n",
      "Epoch 165/200\n",
      "11/11 - 0s - loss: 0.1514 - acc: 1.0000\n",
      "Epoch 166/200\n",
      "11/11 - 0s - loss: 0.1482 - acc: 1.0000\n",
      "Epoch 167/200\n",
      "11/11 - 0s - loss: 0.1451 - acc: 1.0000\n",
      "Epoch 168/200\n",
      "11/11 - 0s - loss: 0.1421 - acc: 1.0000\n",
      "Epoch 169/200\n",
      "11/11 - 0s - loss: 0.1391 - acc: 1.0000\n",
      "Epoch 170/200\n",
      "11/11 - 0s - loss: 0.1363 - acc: 1.0000\n",
      "Epoch 171/200\n",
      "11/11 - 0s - loss: 0.1335 - acc: 1.0000\n",
      "Epoch 172/200\n",
      "11/11 - 0s - loss: 0.1308 - acc: 1.0000\n",
      "Epoch 173/200\n",
      "11/11 - 0s - loss: 0.1281 - acc: 1.0000\n",
      "Epoch 174/200\n",
      "11/11 - 0s - loss: 0.1256 - acc: 1.0000\n",
      "Epoch 175/200\n",
      "11/11 - 0s - loss: 0.1231 - acc: 1.0000\n",
      "Epoch 176/200\n",
      "11/11 - 0s - loss: 0.1206 - acc: 1.0000\n",
      "Epoch 177/200\n",
      "11/11 - 0s - loss: 0.1183 - acc: 1.0000\n",
      "Epoch 178/200\n",
      "11/11 - 0s - loss: 0.1159 - acc: 1.0000\n",
      "Epoch 179/200\n",
      "11/11 - 0s - loss: 0.1137 - acc: 1.0000\n",
      "Epoch 180/200\n",
      "11/11 - 0s - loss: 0.1115 - acc: 1.0000\n",
      "Epoch 181/200\n",
      "11/11 - 0s - loss: 0.1094 - acc: 1.0000\n",
      "Epoch 182/200\n",
      "11/11 - 0s - loss: 0.1073 - acc: 1.0000\n",
      "Epoch 183/200\n",
      "11/11 - 0s - loss: 0.1053 - acc: 1.0000\n",
      "Epoch 184/200\n",
      "11/11 - 0s - loss: 0.1033 - acc: 1.0000\n",
      "Epoch 185/200\n",
      "11/11 - 0s - loss: 0.1014 - acc: 1.0000\n",
      "Epoch 186/200\n",
      "11/11 - 0s - loss: 0.0995 - acc: 1.0000\n",
      "Epoch 187/200\n",
      "11/11 - 0s - loss: 0.0977 - acc: 1.0000\n",
      "Epoch 188/200\n",
      "11/11 - 0s - loss: 0.0959 - acc: 1.0000\n",
      "Epoch 189/200\n",
      "11/11 - 0s - loss: 0.0942 - acc: 1.0000\n",
      "Epoch 190/200\n",
      "11/11 - 0s - loss: 0.0925 - acc: 1.0000\n",
      "Epoch 191/200\n",
      "11/11 - 0s - loss: 0.0909 - acc: 1.0000\n",
      "Epoch 192/200\n",
      "11/11 - 0s - loss: 0.0893 - acc: 1.0000\n",
      "Epoch 193/200\n",
      "11/11 - 0s - loss: 0.0877 - acc: 1.0000\n",
      "Epoch 194/200\n",
      "11/11 - 0s - loss: 0.0862 - acc: 1.0000\n",
      "Epoch 195/200\n",
      "11/11 - 0s - loss: 0.0847 - acc: 1.0000\n",
      "Epoch 196/200\n",
      "11/11 - 0s - loss: 0.0833 - acc: 1.0000\n",
      "Epoch 197/200\n",
      "11/11 - 0s - loss: 0.0819 - acc: 1.0000\n",
      "Epoch 198/200\n",
      "11/11 - 0s - loss: 0.0805 - acc: 1.0000\n",
      "Epoch 199/200\n",
      "11/11 - 0s - loss: 0.0791 - acc: 1.0000\n",
      "Epoch 200/200\n",
      "11/11 - 0s - loss: 0.0778 - acc: 1.0000\n"
     ]
    },
    {
     "data": {
      "text/plain": [
       "<tensorflow.python.keras.callbacks.History at 0x11c9a55a888>"
      ]
     },
     "execution_count": 18,
     "metadata": {},
     "output_type": "execute_result"
    }
   ],
   "source": [
    "model.fit(X, y, epochs=200, verbose=2)"
   ]
  },
  {
   "cell_type": "markdown",
   "metadata": {},
   "source": [
    "## 3. 모델 검증"
   ]
  },
  {
   "cell_type": "code",
   "execution_count": 19,
   "metadata": {},
   "outputs": [],
   "source": [
    "# 모델 검증용 문장을 생성하는 함수\n",
    "def sentence_generation(model, t, current_word, n): # 모델, 토크나이저, 현재 단어, 반복할 횟수\n",
    "    init_word = current_word # 처음 들어온 단어도 마지막에 같이 출력하기위해 저장\n",
    "    sentence = ''\n",
    "    for _ in range(n): # n번 반복\n",
    "        encoded = t.texts_to_sequences([current_word])[0] # 현재 단어에 대한 정수 인코딩\n",
    "        encoded = pad_sequences([encoded], maxlen=5, padding='pre') # 데이터에 대한 패딩\n",
    "        result = model.predict_classes(encoded, verbose=0)\n",
    "    # 입력한 X(현재 단어)에 대해서 Y를 예측하고 Y(예측한 단어)를 result에 저장.\n",
    "        for word, index in t.word_index.items(): \n",
    "            if index == result: # 만약 예측한 단어와 인덱스와 동일한 단어가 있다면\n",
    "                break # 해당 단어가 예측 단어이므로 break\n",
    "        current_word = current_word + ' '  + word # 현재 단어 + ' ' + 예측 단어를 현재 단어로 변경\n",
    "        sentence = sentence + ' ' + word # 예측 단어를 문장에 저장\n",
    "        \n",
    "    # for문이므로 이 행동을 다시 반복\n",
    "    sentence = init_word + sentence\n",
    "    return sentence"
   ]
  },
  {
   "cell_type": "code",
   "execution_count": 20,
   "metadata": {},
   "outputs": [
    {
     "name": "stdout",
     "output_type": "stream",
     "text": [
      "경마장에 있는 말이 뛰고 있다\n"
     ]
    }
   ],
   "source": [
    "# '경마장에' 라는 단어 뒤에는 총 4개의 단어가 있으므로 4번 예측\n",
    "print(sentence_generation(model, t, '경마장에', 4))"
   ]
  },
  {
   "cell_type": "code",
   "execution_count": 21,
   "metadata": {},
   "outputs": [
    {
     "name": "stdout",
     "output_type": "stream",
     "text": [
      "그의 말이 법이다\n"
     ]
    }
   ],
   "source": [
    "print(sentence_generation(model, t, '그의', 2)) # 2번 예측"
   ]
  },
  {
   "cell_type": "code",
   "execution_count": 22,
   "metadata": {},
   "outputs": [
    {
     "name": "stdout",
     "output_type": "stream",
     "text": [
      "가는 말이 고와야 오는 말이 곱다\n"
     ]
    }
   ],
   "source": [
    "print(sentence_generation(model, t, '가는', 5)) # 5번 예측"
   ]
  },
  {
   "cell_type": "code",
   "execution_count": 24,
   "metadata": {},
   "outputs": [
    {
     "name": "stdout",
     "output_type": "stream",
     "text": [
      "가는 말이 고와야 오는\n"
     ]
    }
   ],
   "source": [
    "print(sentence_generation(model, t, '가는', 3)) # 3번 예측"
   ]
  },
  {
   "cell_type": "code",
   "execution_count": null,
   "metadata": {},
   "outputs": [],
   "source": []
  }
 ],
 "metadata": {
  "kernelspec": {
   "display_name": "Python 3",
   "language": "python",
   "name": "python3"
  },
  "language_info": {
   "codemirror_mode": {
    "name": "ipython",
    "version": 3
   },
   "file_extension": ".py",
   "mimetype": "text/x-python",
   "name": "python",
   "nbconvert_exporter": "python",
   "pygments_lexer": "ipython3",
   "version": "3.7.3"
  }
 },
 "nbformat": 4,
 "nbformat_minor": 2
}
