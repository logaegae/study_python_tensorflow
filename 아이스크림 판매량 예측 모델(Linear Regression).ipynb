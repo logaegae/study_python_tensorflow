{
 "cells": [
  {
   "cell_type": "code",
   "execution_count": 73,
   "metadata": {},
   "outputs": [],
   "source": [
    "import numpy as np\n",
    "import sympy as sp\n",
    "import matplotlib.pylab as plt\n",
    "%matplotlib inline\n",
    "%config InlineBackend.figure_format = 'retina'"
   ]
  },
  {
   "cell_type": "code",
   "execution_count": 41,
   "metadata": {},
   "outputs": [],
   "source": [
    "X = np.array([20, 21, 22, 23, 24, 25, 26])\n",
    "Y = np.array([15, 16, 21, 33, 42, 60, 64])"
   ]
  },
  {
   "cell_type": "code",
   "execution_count": 42,
   "metadata": {},
   "outputs": [],
   "source": [
    "# 목적 함수 : Cost Function OR Loss Function\n",
    "def cost_f(a, b):\n",
    "    return np.sum((a * X + b - Y)**2)"
   ]
  },
  {
   "cell_type": "code",
   "execution_count": 11,
   "metadata": {},
   "outputs": [
    {
     "data": {
      "text/latex": [
       "$\\displaystyle \\left(a x + b - y\\right)^{2}$"
      ],
      "text/plain": [
       "(a*x + b - y)**2"
      ]
     },
     "execution_count": 11,
     "metadata": {},
     "output_type": "execute_result"
    }
   ],
   "source": [
    "# F = (a * x + b - y)**2\n",
    "# Fa = \n",
    "# Fb = "
   ]
  },
  {
   "cell_type": "code",
   "execution_count": 54,
   "metadata": {},
   "outputs": [],
   "source": [
    "def diff_a(a, b):\n",
    "    return np.sum(2*X*(a*X+b-Y))\n",
    "\n",
    "def diff_b(a, b):\n",
    "    return np.sum(2*(a*X+b-Y))"
   ]
  },
  {
   "cell_type": "code",
   "execution_count": 55,
   "metadata": {},
   "outputs": [],
   "source": [
    "# Optimization, Minimization\n",
    "def gradient_descent_1D(func, diff_a, a0, learning_rate=0.01, MaxIter=10, verbose=True): # a0 : 현재 위치\n",
    "    paths=[] #\n",
    "    for i in range(MaxIter):\n",
    "        a1 = a0 - learning_rate * diff_a(a0) # 나중\n",
    "        if(verbose):\n",
    "            print(i+1,\"번째\", \"a1 : \", a1,\"f(a1) : \", func(a1))\n",
    "        a0 = a1\n",
    "        paths.append(a0) #\n",
    "    return (a0, func(a0), paths)"
   ]
  },
  {
   "cell_type": "code",
   "execution_count": 56,
   "metadata": {},
   "outputs": [],
   "source": [
    "# vector = [[a],\n",
    "# a0       [b]]\n",
    "\n",
    "def gradient_descent_2D(func, diff_a, diff_b,a0,learning_rate=0.01, MaxIter=10, verbose=True):\n",
    "    paths=[a0] #\n",
    "    for i in range(MaxIter):\n",
    "        diff = np.array([diff_a(*a0), diff_b(*a0)]) #np.array([diff_a(a0[0], a0[1]), diff_b(a0[0], a0[1])])\n",
    "        a1 = a0 - learning_rate * diff ##  \n",
    "        if(verbose):\n",
    "            print(i+1, a1,func(*a1))\n",
    "        a0 = a1\n",
    "        paths.append(a0) #\n",
    "        \n",
    "    return (a0, func(*a0), paths)"
   ]
  },
  {
   "cell_type": "code",
   "execution_count": 79,
   "metadata": {},
   "outputs": [
    {
     "name": "stdout",
     "output_type": "stream",
     "text": [
      "\n",
      " [   9.14285714 -174.42857143]\n"
     ]
    }
   ],
   "source": [
    "a, b = -10, 2\n",
    "a0 = np.array([a,b])\n",
    "\n",
    "result, _, _= gradient_descent_2D(cost_f, diff_a, diff_b, a0, 0.0001,10000000,False) # 데이터가 별로없어서learning_rat서값이 낮음\n",
    "\n",
    "print('\\n',result) #목적함수가 작은거"
   ]
  },
  {
   "cell_type": "code",
   "execution_count": 80,
   "metadata": {},
   "outputs": [
    {
     "data": {
      "image/png": "[encoded data removed]",
      "text/plain": [
       "<Figure size 432x288 with 1 Axes>"
      ]
     },
     "metadata": {
      "image/png": {
       "height": 248,
       "width": 369
      },
      "needs_background": "light"
     },
     "output_type": "display_data"
    }
   ],
   "source": [
    "a_opt = result[0] # 기울기\n",
    "b_opt = result[1]\n",
    "\n",
    "plt.plot(X, Y, 'o')\n",
    "plt.grid()\n",
    "plt.plot(X, a_opt*X+b_opt, 'r-')\n",
    "plt.show()"
   ]
  },
  {
   "cell_type": "markdown",
   "metadata": {},
   "source": [
    "|온도|20|21|22|23|24|25|26|\n",
    "|----|--|--|--|--|--|--|--|\n",
    "|판매량|15|16|21|33|42|60|64|\n",
    "\n",
    "$$\n",
    "\\mathbf{X(온도)} = \\begin{bmatrix}\n",
    "20 & 21 & 22 & 23 & 24 & 25 & 26\n",
    "\\end{bmatrix}\n",
    "$$\n",
    "\n",
    "$$\n",
    "\\mathbf{Y(판매량)} = \\begin{bmatrix}\n",
    "15 & 16 & 21 & 33 & 42 & 60 & 64\n",
    "\\end{bmatrix}\n",
    "$$\n",
    "\n",
    "$$\n",
    "\\begin{aligned}\n",
    "\\mathbf{Y} &= \\mathbf{b} + \\mathbf{a}\\mathbf{X} \\\\[5pt]\n",
    "\\end{aligned}\n",
    "$$\n",
    "\n",
    "\\begin{equation}\n",
    "\\begin{bmatrix}\n",
    "20 &1 \\\\\n",
    "21 &1 \\\\\n",
    "22 &1 \\\\\n",
    "23 &1 \\\\\n",
    "24 &1 \\\\\n",
    "25 &1 \\\\\n",
    "26 &1 \n",
    "\\end{bmatrix}\n",
    "\\begin{bmatrix}\n",
    "a\\\\b\n",
    "\\end{bmatrix}=\n",
    "\\begin{bmatrix}\n",
    "15\\\\16\\\\21\\\\33\\\\42\\\\60\\\\64\n",
    "\\end{bmatrix}\n",
    "\\end{equation}"
   ]
  },
  {
   "cell_type": "code",
   "execution_count": 78,
   "metadata": {},
   "outputs": [
    {
     "data": {
      "text/plain": [
       "\"\\nX = np.matrix([20, 21, 22, 23, 24, 25, 26])\\nY = np.matrix([15, 16, 21, 33, 42, 60, 64])\\nA=np.matrix('20,1;21,1;22,1;23,1;24,1;25,1;26,1')\\nb = np.matrix('15;16;21;33;42;60;64')\\nAt = A.transpose()\\nInvC = np.linalg.inv(At*A)\\nInvC*At*b\\n\""
      ]
     },
     "execution_count": 78,
     "metadata": {},
     "output_type": "execute_result"
    }
   ],
   "source": [
    "\"\"\"\n",
    "최소제곱해 Ax= b \n",
    "X = np.matrix([20, 21, 22, 23, 24, 25, 26])\n",
    "Y = np.matrix([15, 16, 21, 33, 42, 60, 64])\n",
    "A = np.matrix('20,1;21,1;22,1;23,1;24,1;25,1;26,1')\n",
    "b = np.matrix('15;16;21;33;42;60;64')\n",
    "At = A.transpose()\n",
    "InvC = np.linalg.inv(At*A)\n",
    "InvC*At*b\n",
    "\"\"\"\n",
    "# matrix([[   9.14285714],\n",
    "#        [-174.42857143]])"
   ]
  },
  {
   "cell_type": "code",
   "execution_count": null,
   "metadata": {},
   "outputs": [],
   "source": []
  }
 ],
 "metadata": {
  "kernelspec": {
   "display_name": "Python 3",
   "language": "python",
   "name": "python3"
  },
  "language_info": {
   "codemirror_mode": {
    "name": "ipython",
    "version": 3
   },
   "file_extension": ".py",
   "mimetype": "text/x-python",
   "name": "python",
   "nbconvert_exporter": "python",
   "pygments_lexer": "ipython3",
   "version": "3.7.3"
  }
 },
 "nbformat": 4,
 "nbformat_minor": 2
}
