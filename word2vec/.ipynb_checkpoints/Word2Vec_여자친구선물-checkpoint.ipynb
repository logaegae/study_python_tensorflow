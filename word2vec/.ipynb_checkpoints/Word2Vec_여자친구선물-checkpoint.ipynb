{
 "cells": [
  {
   "cell_type": "code",
   "execution_count": 1,
   "metadata": {},
   "outputs": [],
   "source": [
    "import gensim\n",
    "from gensim.models import word2vec"
   ]
  },
  {
   "cell_type": "code",
   "execution_count": 4,
   "metadata": {},
   "outputs": [],
   "source": [
    "lines = open('../natural language/data/21_present_candi.txt', 'r').readlines() \n",
    "present_candi_text = []\n",
    "for i in range(len(lines)):\n",
    "    present_candi_text.append(lines[i].split('\\n')[0])"
   ]
  },
  {
   "cell_type": "code",
   "execution_count": 5,
   "metadata": {},
   "outputs": [
    {
     "name": "stderr",
     "output_type": "stream",
     "text": [
      "C:\\Users\\EZEN\\Anaconda3\\lib\\site-packages\\jpype\\_core.py:210: UserWarning: \n",
      "-------------------------------------------------------------------------------\n",
      "Deprecated: convertStrings was not specified when starting the JVM. The default\n",
      "behavior in JPype will be False starting in JPype 0.8. The recommended setting\n",
      "for new code is convertStrings=False.  The legacy value of True was assumed for\n",
      "this session. If you are a user of an application that reported this warning,\n",
      "please file a ticket with the developer.\n",
      "-------------------------------------------------------------------------------\n",
      "\n",
      "  \"\"\")\n"
     ]
    }
   ],
   "source": [
    "from konlpy.tag import Okt\n",
    "okt = Okt()\n",
    "xx = okt.pos(str(present_candi_text[0]))"
   ]
  },
  {
   "cell_type": "code",
   "execution_count": 6,
   "metadata": {},
   "outputs": [
    {
     "name": "stdout",
     "output_type": "stream",
     "text": [
      "[('기본', 'Noun'), ('검색', 'Noun'), ('입력', 'Noun'), ('한', 'Josa'), ('단어', 'Noun'), ('가', 'Josa'), ('하나', 'Noun'), ('이상', 'Noun'), ('포함', 'Noun'), ('된', 'Verb'), ('문서', 'Noun'), ('검색', 'Noun')]\n"
     ]
    }
   ],
   "source": [
    "print(xx)"
   ]
  },
  {
   "cell_type": "code",
   "execution_count": 8,
   "metadata": {
    "scrolled": false
   },
   "outputs": [],
   "source": [
    "results = []\n",
    "\n",
    "for line in present_candi_text:\n",
    "    malist = okt.pos(str(line), norm=True, stem=True)\n",
    "    r= []\n",
    "    \n",
    "    for word in malist:\n",
    "        if not word[1] in [\"Josa\", \"Eomi\", \"Punctuation\"]:\n",
    "            r.append(word[0])\n",
    "            \n",
    "    r1 = (\" \".join(r)).strip()\n",
    "    results.append(r1)\n",
    "    "
   ]
  },
  {
   "cell_type": "code",
   "execution_count": 9,
   "metadata": {},
   "outputs": [],
   "source": [
    "data_file = 'data/05.present.txt'\n",
    "with open(data_file, 'w', encoding='utf-8') as fp:\n",
    "    fp.write(\"\\n\".join(results))"
   ]
  },
  {
   "cell_type": "code",
   "execution_count": 10,
   "metadata": {},
   "outputs": [],
   "source": [
    "data = word2vec.LineSentence(data_file)\n",
    "model = word2vec.Word2Vec(data, size=200, window=10, hs=1, min_count=2, sg=1)"
   ]
  },
  {
   "cell_type": "code",
   "execution_count": 11,
   "metadata": {},
   "outputs": [
    {
     "name": "stderr",
     "output_type": "stream",
     "text": [
      "C:\\Users\\EZEN\\Anaconda3\\lib\\site-packages\\ipykernel_launcher.py:1: DeprecationWarning: Call to deprecated `most_similar` (Method will be removed in 4.0.0, use self.wv.most_similar() instead).\n",
      "  \"\"\"Entry point for launching an IPython kernel.\n"
     ]
    },
    {
     "data": {
      "text/plain": [
       "[('여자친구', 0.8178519010543823),\n",
       " ('CK', 0.378170371055603),\n",
       " ('거', 0.36898523569107056),\n",
       " ('것', 0.3489108681678772),\n",
       " ('답변', 0.3463372588157654),\n",
       " ('20', 0.3451172113418579),\n",
       " ('해보다', 0.3399156332015991),\n",
       " ('좋다', 0.33330219984054565),\n",
       " ('고민', 0.32926344871520996),\n",
       " ('27', 0.3291265368461609)]"
      ]
     },
     "execution_count": 11,
     "metadata": {},
     "output_type": "execute_result"
    }
   ],
   "source": [
    "model.most_similar(positive=['선물'])"
   ]
  },
  {
   "cell_type": "code",
   "execution_count": 12,
   "metadata": {},
   "outputs": [
    {
     "name": "stderr",
     "output_type": "stream",
     "text": [
      "C:\\Users\\EZEN\\Anaconda3\\lib\\site-packages\\ipykernel_launcher.py:1: DeprecationWarning: Call to deprecated `most_similar` (Method will be removed in 4.0.0, use self.wv.most_similar() instead).\n",
      "  \"\"\"Entry point for launching an IPython kernel.\n"
     ]
    },
    {
     "data": {
      "text/plain": [
       "[('선물', 0.8178520202636719),\n",
       " ('답변', 0.43537813425064087),\n",
       " ('CK', 0.3889823257923126),\n",
       " ('해보다', 0.36218345165252686),\n",
       " ('것', 0.3584969937801361),\n",
       " ('고민', 0.3368666470050812),\n",
       " ('30000원', 0.3305872082710266),\n",
       " ('좋다', 0.32929617166519165),\n",
       " ('해주다', 0.3204631805419922),\n",
       " ('거', 0.3200188875198364)]"
      ]
     },
     "execution_count": 12,
     "metadata": {},
     "output_type": "execute_result"
    }
   ],
   "source": [
    "model.most_similar(positive=['여자친구'])"
   ]
  },
  {
   "cell_type": "code",
   "execution_count": null,
   "metadata": {},
   "outputs": [],
   "source": []
  }
 ],
 "metadata": {
  "kernelspec": {
   "display_name": "Python 3",
   "language": "python",
   "name": "python3"
  },
  "language_info": {
   "codemirror_mode": {
    "name": "ipython",
    "version": 3
   },
   "file_extension": ".py",
   "mimetype": "text/x-python",
   "name": "python",
   "nbconvert_exporter": "python",
   "pygments_lexer": "ipython3",
   "version": "3.7.3"
  }
 },
 "nbformat": 4,
 "nbformat_minor": 2
}
