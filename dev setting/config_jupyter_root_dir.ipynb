{
 "cells": [
  {
   "cell_type": "markdown",
   "metadata": {},
   "source": [
    "Setting jupyter notebook root directory in conda prompt\n",
    "\n",
    "$ conda activate base\n",
    "\n",
    "$ jupyter notebook --generate-config\n",
    "\n",
    "change c.NotebookApp.notebook_dir in jupyter_notebook_config.py\n",
    "\n",
    "$ jupyter notebook "
   ]
  }
 ],
 "metadata": {
  "kernelspec": {
   "display_name": "Python 3",
   "language": "python",
   "name": "python3"
  },
  "language_info": {
   "codemirror_mode": {
    "name": "ipython",
    "version": 3
   },
   "file_extension": ".py",
   "mimetype": "text/x-python",
   "name": "python",
   "nbconvert_exporter": "python",
   "pygments_lexer": "ipython3",
   "version": "3.7.3"
  }
 },
 "nbformat": 4,
 "nbformat_minor": 2
}
