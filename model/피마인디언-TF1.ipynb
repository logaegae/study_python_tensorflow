{
 "cells": [
  {
   "cell_type": "code",
   "execution_count": 1,
   "metadata": {},
   "outputs": [
    {
     "name": "stdout",
     "output_type": "stream",
     "text": [
      "WARNING:tensorflow:From C:\\Users\\EZEN\\Anaconda3\\lib\\site-packages\\tensorflow_core\\python\\compat\\v2_compat.py:65: disable_resource_variables (from tensorflow.python.ops.variable_scope) is deprecated and will be removed in a future version.\n",
      "Instructions for updating:\n",
      "non-resource variables are not supported in the long term\n"
     ]
    }
   ],
   "source": [
    "import numpy as np\n",
    "import tensorflow.compat.v1 as tf\n",
    "tf.disable_v2_behavior()"
   ]
  },
  {
   "cell_type": "code",
   "execution_count": 2,
   "metadata": {},
   "outputs": [],
   "source": [
    "# seed 값 생성\n",
    "seed = 0\n",
    "np.random.seed(seed)\n",
    "tf.set_random_seed(seed)"
   ]
  },
  {
   "cell_type": "code",
   "execution_count": 3,
   "metadata": {},
   "outputs": [],
   "source": [
    "# 데이터 로드\n",
    "dataset = np.loadtxt(\"dataset/pima-indians-diabetes.csv\", delimiter=\",\")\n",
    "x_data = np.array(dataset[:, 0:8], dtype=np.float64)\n",
    "y_data = np.array(dataset[:, 8], dtype=np.float64).reshape(768, 1)"
   ]
  },
  {
   "cell_type": "code",
   "execution_count": 4,
   "metadata": {},
   "outputs": [
    {
     "name": "stdout",
     "output_type": "stream",
     "text": [
      "(768, 8) (768, 1)\n"
     ]
    }
   ],
   "source": [
    "print(x_data.shape, y_data.shape)"
   ]
  },
  {
   "cell_type": "code",
   "execution_count": 5,
   "metadata": {},
   "outputs": [],
   "source": [
    "# 입력 값을 플레이스 홀더에 저장\n",
    "X = tf.placeholder(tf.float64, shape=[None, 8])\n",
    "Y = tf.placeholder(tf.float64, shape=[None, 1])"
   ]
  },
  {
   "cell_type": "code",
   "execution_count": 6,
   "metadata": {},
   "outputs": [],
   "source": [
    "# Layer 1\n",
    "W1 = tf.Variable(tf.random_normal([8,12], dtype=tf.float64)) \n",
    "b1 = tf.Variable(tf.random_normal([12], dtype=tf.float64))\n",
    "L1 = tf.nn.relu(tf.add(tf.matmul(X, W1), b1))"
   ]
  },
  {
   "cell_type": "code",
   "execution_count": 7,
   "metadata": {},
   "outputs": [],
   "source": [
    "# Layer 2\n",
    "W2 = tf.Variable(tf.random_normal([12,8], dtype=tf.float64)) \n",
    "b2 = tf.Variable(tf.random_normal([8], dtype=tf.float64))\n",
    "L2 = tf.nn.relu(tf.add(tf.matmul(L1, W2), b2))"
   ]
  },
  {
   "cell_type": "code",
   "execution_count": 10,
   "metadata": {},
   "outputs": [],
   "source": [
    "# Layer 3\n",
    "W3 = tf.Variable(tf.random_normal([8,1], dtype=tf.float64)) \n",
    "b3 = tf.Variable(tf.random_normal([1], dtype=tf.float64))\n",
    "hypo = tf.add(tf.matmul(L2, W3), b3)"
   ]
  },
  {
   "cell_type": "code",
   "execution_count": 11,
   "metadata": {},
   "outputs": [],
   "source": [
    "# Binary Cross Entropy\n",
    "cost = tf.nn.sigmoid_cross_entropy_with_logits(logits=hypo, labels=Y)"
   ]
  },
  {
   "cell_type": "code",
   "execution_count": 12,
   "metadata": {},
   "outputs": [],
   "source": [
    "predict = tf.cast(hypo > 0, dtype=tf.float64)\n",
    "accuracy = tf.reduce_mean(tf.cast(tf.equal(predict, Y), dtype=tf.float64))"
   ]
  },
  {
   "cell_type": "code",
   "execution_count": 19,
   "metadata": {},
   "outputs": [],
   "source": [
    "learning_rate = 0.1\n",
    "train = tf.train.AdamOptimizer(learning_rate).minimize(cost)"
   ]
  },
  {
   "cell_type": "code",
   "execution_count": 28,
   "metadata": {},
   "outputs": [
    {
     "name": "stdout",
     "output_type": "stream",
     "text": [
      "step=1, cost_val=0.00000, accuracy: 0.5156\n",
      "step=21, cost_val=33.60549, accuracy: 0.6458\n",
      "step=41, cost_val=0.00581, accuracy: 0.5286\n",
      "step=61, cost_val=0.78393, accuracy: 0.5820\n",
      "step=81, cost_val=2.45740, accuracy: 0.6732\n",
      "step=101, cost_val=1.44500, accuracy: 0.6940\n",
      "step=121, cost_val=0.94490, accuracy: 0.7174\n",
      "step=141, cost_val=0.98109, accuracy: 0.7214\n",
      "step=161, cost_val=0.90385, accuracy: 0.7279\n",
      "step=181, cost_val=0.88949, accuracy: 0.7292\n",
      "step=201, cost_val=1.28115, accuracy: 0.6732\n",
      "step=221, cost_val=1.00629, accuracy: 0.7109\n",
      "step=241, cost_val=0.51564, accuracy: 0.6966\n",
      "step=261, cost_val=0.56607, accuracy: 0.7253\n",
      "step=281, cost_val=0.48343, accuracy: 0.7135\n",
      "step=301, cost_val=0.43347, accuracy: 0.6966\n"
     ]
    }
   ],
   "source": [
    "# 학습\n",
    "sess = tf.Session()\n",
    "sess.run(tf.global_variables_initializer())\n",
    "\n",
    "for epoch in range(301):\n",
    "    _, cost_val, acc_val = sess.run([train, cost, accuracy], feed_dict = {X: x_data, Y: y_data})\n",
    "    if epoch % 20 == 0:\n",
    "        print(\"step=%d, cost_val=%.5f, accuracy: %.4f\" % (epoch + 1, cost_val[0], acc_val))"
   ]
  },
  {
   "cell_type": "code",
   "execution_count": 29,
   "metadata": {},
   "outputs": [
    {
     "name": "stdout",
     "output_type": "stream",
     "text": [
      "Accuracy: 0.6823\n"
     ]
    }
   ],
   "source": [
    "# 평가\n",
    "acc = sess.run(accuracy, feed_dict = {X: x_data, Y: y_data})\n",
    "print(\"Accuracy: %.4f\" % acc)"
   ]
  }
 ],
 "metadata": {
  "kernelspec": {
   "display_name": "Python 3",
   "language": "python",
   "name": "python3"
  },
  "language_info": {
   "codemirror_mode": {
    "name": "ipython",
    "version": 3
   },
   "file_extension": ".py",
   "mimetype": "text/x-python",
   "name": "python",
   "nbconvert_exporter": "python",
   "pygments_lexer": "ipython3",
   "version": "3.7.3"
  }
 },
 "nbformat": 4,
 "nbformat_minor": 2
}
