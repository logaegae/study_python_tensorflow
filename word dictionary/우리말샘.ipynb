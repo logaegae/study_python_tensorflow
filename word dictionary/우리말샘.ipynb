{
 "cells": [
  {
   "cell_type": "markdown",
   "metadata": {},
   "source": [
    "# 우리말 샘 이용하기\n",
    "## 1. 우리말샘 오픈 API 서비스 \n",
    "- 우리말샘 오픈 API는 검색 플랫폼을 외부에 공개하여 다양하고 재미있는 서비스 및 애플리케이션을 개발할 수 있도록 외부 개발자와 사용자들이 공유하는 프로그램\n",
    "- 우리말샘에 구축된 양질의 사전 정보를 개인 또는 기관에서 오픈 API를 이용해 자유롭게 이용할 수 있도록 제공\n",
    "\n",
    "## 2. 우리말샘 오픈 API 서비스 인증키 발급\n",
    "## 3. 우리말샘 오픈 API 서비스 이용"
   ]
  },
  {
   "cell_type": "code",
   "execution_count": 2,
   "metadata": {},
   "outputs": [],
   "source": [
    "from urllib.request import urlopen\n",
    "from urllib.parse import quote, unquote"
   ]
  },
  {
   "cell_type": "markdown",
   "metadata": {},
   "source": [
    "### url 한글 처리\n",
    "- URL에 사용할 수 있는 문자 : 영문자, 숫자, 몇몇 기호 뿐\n",
    "- URL에서 Ascii 코드가 아닌 문자들을 전송하기 위해서는 퍼센트 인코딩(percent encoding)이라는 형식으로 바꾸어야 함\n",
    "- urllib.parse.quote() / urllib.parse.unquote()"
   ]
  },
  {
   "cell_type": "code",
   "execution_count": 3,
   "metadata": {},
   "outputs": [
    {
     "name": "stdout",
     "output_type": "stream",
     "text": [
      "%ED%95%9C%EA%B8%80 한글\n"
     ]
    }
   ],
   "source": [
    "kor = quote('한글')\n",
    "print(kor, unquote(kor))"
   ]
  },
  {
   "cell_type": "code",
   "execution_count": 11,
   "metadata": {},
   "outputs": [],
   "source": [
    "def makeUrl(apiKey, word):\n",
    "    url = 'https://opendict.korean.go.kr/api/search?'\n",
    "    url += 'certkey_no=1036&key='\n",
    "    url += apiKey         # 우리말 샘 개발 API Key\n",
    "    url += '&target_type=search&part=word&q='\n",
    "    url += quote(word)    # for percent encoding (한글 처리)\n",
    "    url += '&sort=dict&start=1&num=10'\n",
    "    return url"
   ]
  },
  {
   "cell_type": "code",
   "execution_count": 16,
   "metadata": {},
   "outputs": [],
   "source": [
    "key = '******'\n",
    "word = '정보'\n",
    "urlStr = makeUrl(key, word)\n",
    "xml = urlopen(urlStr).read()"
   ]
  },
  {
   "cell_type": "code",
   "execution_count": 17,
   "metadata": {},
   "outputs": [
    {
     "data": {
      "text/plain": [
       "'https://opendict.korean.go.kr/api/search?certkey_no=1036&key=2970F15BC8CF437ABAE742C0F729569D&target_type=search&part=word&q=%EC%A0%95%EB%B3%B4&sort=dict&start=1&num=10'"
      ]
     },
     "execution_count": 17,
     "metadata": {},
     "output_type": "execute_result"
    }
   ],
   "source": [
    "urlStr"
   ]
  },
  {
   "cell_type": "markdown",
   "metadata": {},
   "source": [
    "### XML Parsing\n",
    "- 데이터가 문자열로 존재하는 경우 elemTree.fromstring('XML 문자열')\n",
    "- 태그 검색 : find(tag), findall(tag)\n",
    "- 태그 데이터 : text"
   ]
  },
  {
   "cell_type": "code",
   "execution_count": 13,
   "metadata": {},
   "outputs": [],
   "source": [
    "import xml.etree.ElementTree as elemTree\n",
    "tree = elemTree.fromstring(xml)"
   ]
  },
  {
   "cell_type": "code",
   "execution_count": 14,
   "metadata": {},
   "outputs": [
    {
     "data": {
      "text/plain": [
       "'우리말샘 개발 지원(Open API) - 사전 어휘 검색'"
      ]
     },
     "execution_count": 14,
     "metadata": {},
     "output_type": "execute_result"
    }
   ],
   "source": [
    "title = tree.find('title')\n",
    "title.text"
   ]
  },
  {
   "cell_type": "code",
   "execution_count": 15,
   "metadata": {},
   "outputs": [
    {
     "name": "stdout",
     "output_type": "stream",
     "text": [
      "정보 : 보통 행군의 걸음걸이. 보통 걸음보다 힘 있고 절도 있게 팔과 다리를 움직이며 걷는 걸음이다.\n",
      "정보 : 정확한 소식.\n",
      "정보 : 땅 넓이의 단위. 정(町)으로 끝나고 우수리가 없을 때 쓴다. 1정보는 3,000평으로 약 9,917.4㎡에 해당한다.\n",
      "정보 : 관찰이나 측정을 통하여 수집한 자료를 실제 문제에 도움이 될 수 있도록 정리한 지식. 또는 그 자료.\n",
      "정보 : 과거의 업인(業因)에 따라 내생(來生)에 어떠한 몸으로 나타나느냐로 받는 과보. 부처나 중생의 몸이다.\n",
      "정보 : 고려 초기에, 태봉의 관제를 본떠서 정한 16위계 가운데 아홉 번째 등급. 종사품에 해당한다.\n",
      "정보 : 영의정, 좌의정, 우의정을 통틀어 이르던 말.\n",
      "정보 검색대 : 인터넷이나 자료 검색을 할 수 있도록 컴퓨터 따위를 설치하여 만든 이용물.\n",
      "정보 더미 : 많은 정보를 비유적으로 이르는 말.\n",
      "정보 맨 : 정보에 관한 일을 맡아 처리하는 사람.\n"
     ]
    }
   ],
   "source": [
    "for item in tree.findall('item'):\n",
    "    print(item.find('word').text, ':', item.find('sense').find('definition').text)"
   ]
  },
  {
   "cell_type": "code",
   "execution_count": null,
   "metadata": {},
   "outputs": [],
   "source": []
  }
 ],
 "metadata": {
  "kernelspec": {
   "display_name": "Python 3",
   "language": "python",
   "name": "python3"
  },
  "language_info": {
   "codemirror_mode": {
    "name": "ipython",
    "version": 3
   },
   "file_extension": ".py",
   "mimetype": "text/x-python",
   "name": "python",
   "nbconvert_exporter": "python",
   "pygments_lexer": "ipython3",
   "version": "3.7.3"
  }
 },
 "nbformat": 4,
 "nbformat_minor": 2
}
