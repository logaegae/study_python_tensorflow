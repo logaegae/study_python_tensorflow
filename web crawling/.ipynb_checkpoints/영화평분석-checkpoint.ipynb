{
 "cells": [
  {
   "cell_type": "code",
   "execution_count": 2,
   "metadata": {},
   "outputs": [],
   "source": [
    "import pandas as pd"
   ]
  },
  {
   "cell_type": "code",
   "execution_count": 3,
   "metadata": {},
   "outputs": [
    {
     "data": {
      "text/html": [
       "<div>\n",
       "<style scoped>\n",
       "    .dataframe tbody tr th:only-of-type {\n",
       "        vertical-align: middle;\n",
       "    }\n",
       "\n",
       "    .dataframe tbody tr th {\n",
       "        vertical-align: top;\n",
       "    }\n",
       "\n",
       "    .dataframe thead th {\n",
       "        text-align: right;\n",
       "    }\n",
       "</style>\n",
       "<table border=\"1\" class=\"dataframe\">\n",
       "  <thead>\n",
       "    <tr style=\"text-align: right;\">\n",
       "      <th></th>\n",
       "      <th>Unnamed: 0</th>\n",
       "      <th>score</th>\n",
       "      <th>text</th>\n",
       "      <th>date</th>\n",
       "    </tr>\n",
       "  </thead>\n",
       "  <tbody>\n",
       "    <tr>\n",
       "      <th>0</th>\n",
       "      <td>0</td>\n",
       "      <td>40.0</td>\n",
       "      <td>맙소사 두종족이 그렇게 많이 다치고 죽었는데 그날 결혼식을 하겠다고? 장례식이 아니...</td>\n",
       "      <td>2019.10.17 14:00</td>\n",
       "    </tr>\n",
       "    <tr>\n",
       "      <th>1</th>\n",
       "      <td>1</td>\n",
       "      <td>100.0</td>\n",
       "      <td>well....well...well</td>\n",
       "      <td>2019.10.17 10:24</td>\n",
       "    </tr>\n",
       "    <tr>\n",
       "      <th>2</th>\n",
       "      <td>2</td>\n",
       "      <td>10.0</td>\n",
       "      <td>결말은 개연성이 최악입니다.인간족 여왕 때문에 요정 및 말레피센트 동족들이 수십명 ...</td>\n",
       "      <td>2019.10.17 17:07</td>\n",
       "    </tr>\n",
       "    <tr>\n",
       "      <th>3</th>\n",
       "      <td>3</td>\n",
       "      <td>40.0</td>\n",
       "      <td>오로라 때문에 몇이 고생하는 거냐?</td>\n",
       "      <td>2019.10.17 11:36</td>\n",
       "    </tr>\n",
       "    <tr>\n",
       "      <th>4</th>\n",
       "      <td>4</td>\n",
       "      <td>100.0</td>\n",
       "      <td>시사로 봤는데 안젤리나 졸리 역시는 역시다! 비주얼더 디즈니에서 엄청 공들 거 같고...</td>\n",
       "      <td>2019.10.17 09:11</td>\n",
       "    </tr>\n",
       "  </tbody>\n",
       "</table>\n",
       "</div>"
      ],
      "text/plain": [
       "   Unnamed: 0  score                                               text  \\\n",
       "0           0   40.0  맙소사 두종족이 그렇게 많이 다치고 죽었는데 그날 결혼식을 하겠다고? 장례식이 아니...   \n",
       "1           1  100.0                                well....well...well   \n",
       "2           2   10.0  결말은 개연성이 최악입니다.인간족 여왕 때문에 요정 및 말레피센트 동족들이 수십명 ...   \n",
       "3           3   40.0                                오로라 때문에 몇이 고생하는 거냐?   \n",
       "4           4  100.0  시사로 봤는데 안젤리나 졸리 역시는 역시다! 비주얼더 디즈니에서 엄청 공들 거 같고...   \n",
       "\n",
       "               date  \n",
       "0  2019.10.17 14:00  \n",
       "1  2019.10.17 10:24  \n",
       "2  2019.10.17 17:07  \n",
       "3  2019.10.17 11:36  \n",
       "4  2019.10.17 09:11  "
      ]
     },
     "execution_count": 3,
     "metadata": {},
     "output_type": "execute_result"
    }
   ],
   "source": [
    "df = pd.read_csv('./movie_review_data.csv')\n",
    "df.head()"
   ]
  },
  {
   "cell_type": "code",
   "execution_count": 4,
   "metadata": {},
   "outputs": [],
   "source": [
    "df.drop(df.columns[0], axis='columns', inplace=True)"
   ]
  },
  {
   "cell_type": "code",
   "execution_count": 7,
   "metadata": {
    "scrolled": true
   },
   "outputs": [
    {
     "data": {
      "text/html": [
       "<div>\n",
       "<style scoped>\n",
       "    .dataframe tbody tr th:only-of-type {\n",
       "        vertical-align: middle;\n",
       "    }\n",
       "\n",
       "    .dataframe tbody tr th {\n",
       "        vertical-align: top;\n",
       "    }\n",
       "\n",
       "    .dataframe thead th {\n",
       "        text-align: right;\n",
       "    }\n",
       "</style>\n",
       "<table border=\"1\" class=\"dataframe\">\n",
       "  <thead>\n",
       "    <tr style=\"text-align: right;\">\n",
       "      <th></th>\n",
       "      <th>score</th>\n",
       "      <th>text</th>\n",
       "      <th>date</th>\n",
       "    </tr>\n",
       "  </thead>\n",
       "  <tbody>\n",
       "    <tr>\n",
       "      <th>2661</th>\n",
       "      <td>10.0</td>\n",
       "      <td>악마를 숭배하는 것같은 장면들이 눈에 들어온다. 이런 영화들은 별로 아이들에게 추천...</td>\n",
       "      <td>2019.10.26 11:13</td>\n",
       "    </tr>\n",
       "    <tr>\n",
       "      <th>2662</th>\n",
       "      <td>10.0</td>\n",
       "      <td>구데기 영화 보다 침뱉을뻔 함</td>\n",
       "      <td>2019.10.19 15:58</td>\n",
       "    </tr>\n",
       "    <tr>\n",
       "      <th>2663</th>\n",
       "      <td>60.0</td>\n",
       "      <td>전 다 좋은데.. 작은 요정들 짹짹! 거리는 특유의 목소리나 생긴게 마음에 안 들어...</td>\n",
       "      <td>2019.10.21 03:29</td>\n",
       "    </tr>\n",
       "    <tr>\n",
       "      <th>2664</th>\n",
       "      <td>10.0</td>\n",
       "      <td>조커 보고 이거보니까 무슨 한국영화보는거같음..</td>\n",
       "      <td>2019.10.17 09:23</td>\n",
       "    </tr>\n",
       "    <tr>\n",
       "      <th>2665</th>\n",
       "      <td>10.0</td>\n",
       "      <td>전 편이 개망했는데 이걸 잼다는건 뭐지; 엑시트 1500만도 이해안감 국민들 수준 밑바닥</td>\n",
       "      <td>2019.10.17 18:21</td>\n",
       "    </tr>\n",
       "  </tbody>\n",
       "</table>\n",
       "</div>"
      ],
      "text/plain": [
       "      score                                               text  \\\n",
       "2661   10.0  악마를 숭배하는 것같은 장면들이 눈에 들어온다. 이런 영화들은 별로 아이들에게 추천...   \n",
       "2662   10.0                                   구데기 영화 보다 침뱉을뻔 함   \n",
       "2663   60.0  전 다 좋은데.. 작은 요정들 짹짹! 거리는 특유의 목소리나 생긴게 마음에 안 들어...   \n",
       "2664   10.0                         조커 보고 이거보니까 무슨 한국영화보는거같음..   \n",
       "2665   10.0  전 편이 개망했는데 이걸 잼다는건 뭐지; 엑시트 1500만도 이해안감 국민들 수준 밑바닥   \n",
       "\n",
       "                  date  \n",
       "2661  2019.10.26 11:13  \n",
       "2662  2019.10.19 15:58  \n",
       "2663  2019.10.21 03:29  \n",
       "2664  2019.10.17 09:23  \n",
       "2665  2019.10.17 18:21  "
      ]
     },
     "execution_count": 7,
     "metadata": {},
     "output_type": "execute_result"
    }
   ],
   "source": [
    "df.tail()"
   ]
  },
  {
   "cell_type": "code",
   "execution_count": 6,
   "metadata": {},
   "outputs": [],
   "source": [
    "from wordcloud import WordCloud, STOPWORDS\n",
    "\n",
    "import matplotlib as mpl\n",
    "import matplotlib.pyplot as plt\n",
    "mpl.rcParams['axes.unicode_minus'] = False   # minus 표시\n",
    "plt.rcParams[\"font.family\"] = 'Malgun Gothic'\n",
    "plt.rcParams[\"font.size\"] = 10\n",
    "%matplotlib inline"
   ]
  },
  {
   "cell_type": "code",
   "execution_count": 10,
   "metadata": {},
   "outputs": [
    {
     "data": {
      "text/plain": [
       "(2666,)"
      ]
     },
     "execution_count": 10,
     "metadata": {},
     "output_type": "execute_result"
    }
   ],
   "source": [
    "reviews = df['text']\n",
    "reviews.shape"
   ]
  },
  {
   "cell_type": "code",
   "execution_count": 11,
   "metadata": {
    "scrolled": true
   },
   "outputs": [
    {
     "data": {
      "text/plain": [
       "0    맙소사 두종족이 그렇게 많이 다치고 죽었는데 그날 결혼식을 하겠다고? 장례식이 아니...\n",
       "1                                  well....well...well\n",
       "2    결말은 개연성이 최악입니다.인간족 여왕 때문에 요정 및 말레피센트 동족들이 수십명 ...\n",
       "3                                  오로라 때문에 몇이 고생하는 거냐?\n",
       "4    시사로 봤는데 안젤리나 졸리 역시는 역시다! 비주얼더 디즈니에서 엄청 공들 거 같고...\n",
       "Name: text, dtype: object"
      ]
     },
     "execution_count": 11,
     "metadata": {},
     "output_type": "execute_result"
    }
   ],
   "source": [
    "reviews.head()"
   ]
  },
  {
   "cell_type": "code",
   "execution_count": 12,
   "metadata": {},
   "outputs": [],
   "source": [
    "text = ''\n",
    "for rev in reviews:\n",
    "    text = text + str(rev) + '\\n'"
   ]
  },
  {
   "cell_type": "code",
   "execution_count": 13,
   "metadata": {
    "scrolled": true
   },
   "outputs": [
    {
     "name": "stderr",
     "output_type": "stream",
     "text": [
      "C:\\Users\\EZEN\\Anaconda3\\lib\\site-packages\\jpype\\_core.py:210: UserWarning: \n",
      "-------------------------------------------------------------------------------\n",
      "Deprecated: convertStrings was not specified when starting the JVM. The default\n",
      "behavior in JPype will be False starting in JPype 0.8. The recommended setting\n",
      "for new code is convertStrings=False.  The legacy value of True was assumed for\n",
      "this session. If you are a user of an application that reported this warning,\n",
      "please file a ticket with the developer.\n",
      "-------------------------------------------------------------------------------\n",
      "\n",
      "  \"\"\")\n"
     ]
    }
   ],
   "source": [
    "from konlpy.tag import Okt\n",
    "t = Okt()"
   ]
  },
  {
   "cell_type": "code",
   "execution_count": 14,
   "metadata": {},
   "outputs": [
    {
     "name": "stdout",
     "output_type": "stream",
     "text": [
      "Wall time: 7.89 s\n"
     ]
    },
    {
     "data": {
      "text/plain": [
       "['종족', '그날', '결혼식', '장례식', '이건', '조커', '짓', '감독', '작가', '반성']"
      ]
     },
     "execution_count": 14,
     "metadata": {},
     "output_type": "execute_result"
    }
   ],
   "source": [
    "%time movie_words = t.nouns(text)\n",
    "movie_words[:10]"
   ]
  }
 ],
 "metadata": {
  "kernelspec": {
   "display_name": "Python 3",
   "language": "python",
   "name": "python3"
  },
  "language_info": {
   "codemirror_mode": {
    "name": "ipython",
    "version": 3
   },
   "file_extension": ".py",
   "mimetype": "text/x-python",
   "name": "python",
   "nbconvert_exporter": "python",
   "pygments_lexer": "ipython3",
   "version": "3.7.3"
  }
 },
 "nbformat": 4,
 "nbformat_minor": 2
}
