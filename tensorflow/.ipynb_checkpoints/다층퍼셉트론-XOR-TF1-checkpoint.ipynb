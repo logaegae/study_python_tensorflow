{
 "cells": [
  {
   "cell_type": "markdown",
   "metadata": {},
   "source": [
    "## 다층 퍼셉트론 - XOR - Tensorflow 1.x"
   ]
  },
  {
   "cell_type": "code",
   "execution_count": 2,
   "metadata": {
    "scrolled": true
   },
   "outputs": [
    {
     "name": "stdout",
     "output_type": "stream",
     "text": [
      "WARNING:tensorflow:From C:\\Users\\EZEN\\Anaconda3\\lib\\site-packages\\tensorflow_core\\python\\compat\\v2_compat.py:65: disable_resource_variables (from tensorflow.python.ops.variable_scope) is deprecated and will be removed in a future version.\n",
      "Instructions for updating:\n",
      "non-resource variables are not supported in the long term\n"
     ]
    }
   ],
   "source": [
    "import numpy as np\n",
    "import tensorflow.compat.v1 as tf\n",
    "tf.disable_v2_behavior()"
   ]
  },
  {
   "cell_type": "code",
   "execution_count": 3,
   "metadata": {},
   "outputs": [],
   "source": [
    "# 실행할 때마다 같은 결과를 출력하기 위한 seed 값 설정\n",
    "seed = 0\n",
    "np.random.seed(seed)\n",
    "tf.set_random_seed(seed)"
   ]
  },
  {
   "cell_type": "code",
   "execution_count": 8,
   "metadata": {},
   "outputs": [
    {
     "name": "stdout",
     "output_type": "stream",
     "text": [
      "(4, 2) (4, 1)\n",
      "[[0]\n",
      " [1]\n",
      " [1]\n",
      " [0]]\n"
     ]
    }
   ],
   "source": [
    "# x, y의 데이터 값\n",
    "x_data = np.array([[0, 0],[0, 1],[1, 0],[1, 1]]) \n",
    "y_data = np.array([0, 1, 1, 0]).reshape(4, 1)\n",
    "print(x_data.shape, y_data.shape)\n",
    "print(y_data)"
   ]
  },
  {
   "cell_type": "code",
   "execution_count": 7,
   "metadata": {},
   "outputs": [],
   "source": [
    "# placeholder에 데이터를 넣음, 몇개가 들어갈지 결정되지 않기 때문에 None\n",
    "X = tf.placeholder(tf.float32, [None, 2])\n",
    "Y = tf.placeholder(tf.float32, [None, 1])"
   ]
  },
  {
   "cell_type": "code",
   "execution_count": 10,
   "metadata": {},
   "outputs": [],
   "source": [
    "# Layer 1\n",
    "W1 = tf.Variable(tf.random_normal([2, 2]), dtype=tf.float32)\n",
    "b1 = tf.Variable(tf.random_normal([2]), dtype=tf.float32)\n",
    "L1 = tf.sigmoid(tf.matmul(X, W1) + b1)"
   ]
  },
  {
   "cell_type": "code",
   "execution_count": 11,
   "metadata": {},
   "outputs": [],
   "source": [
    "# Layer 2\n",
    "W2 = tf.Variable(tf.random_normal([2, 1]), dtype=tf.float32)\n",
    "b2 = tf.Variable(tf.random_normal([1]), dtype=tf.float32)\n",
    "hypo = tf.sigmoid(tf.matmul(L1, W2) + b2)"
   ]
  },
  {
   "cell_type": "code",
   "execution_count": 13,
   "metadata": {},
   "outputs": [],
   "source": [
    "# Cost - Binary Cross Entropy, 4차원이므로 1차원으로 줄이기 위해 reduce_mean\n",
    "cost = -tf.reduce_mean(Y * tf.log(hypo) + (1.-Y) * tf.log(1.-hypo))"
   ]
  },
  {
   "cell_type": "code",
   "execution_count": 14,
   "metadata": {},
   "outputs": [],
   "source": [
    "# Optimizer - Adam\n",
    "lr = 0.01\n",
    "train = tf.train.AdamOptimizer(learning_rate=lr).minimize(cost)"
   ]
  },
  {
   "cell_type": "code",
   "execution_count": 15,
   "metadata": {},
   "outputs": [],
   "source": [
    "# Accuracy 계산\n",
    "predicted = tf.cast(hypo > 0.5, dtype=tf.float32)\n",
    "accuracy = tf.reduce_mean(tf.cast(tf.equal(predicted, Y), dtype=tf.float32))"
   ]
  },
  {
   "cell_type": "code",
   "execution_count": 19,
   "metadata": {},
   "outputs": [
    {
     "name": "stdout",
     "output_type": "stream",
     "text": [
      "0 1.0208684\n",
      "100 0.6944014\n",
      "200 0.6907642\n",
      "300 0.6793336\n",
      "400 0.6323786\n",
      "500 0.49538106\n",
      "600 0.3206067\n",
      "700 0.2037697\n",
      "800 0.13900068\n",
      "900 0.10139401\n",
      "1000 0.077744946\n",
      "1100 0.06183019\n",
      "1200 0.05053903\n",
      "1300 0.042191774\n",
      "1400 0.035816662\n",
      "1500 0.030818325\n",
      "1600 0.026814146\n",
      "1700 0.023548456\n",
      "1800 0.020844355\n",
      "1900 0.018576065\n",
      "2000 0.016651938\n",
      "2100 0.015003769\n",
      "2200 0.013579792\n",
      "2300 0.012340143\n",
      "2400 0.011253668\n",
      "2500 0.010295633\n",
      "2600 0.009446217\n",
      "2700 0.008689441\n",
      "2800 0.008012097\n",
      "2900 0.0074034277\n",
      "3000 0.0068544275\n",
      "3100 0.0063574617\n",
      "3200 0.0059063137\n",
      "3300 0.0054954486\n",
      "3400 0.005120347\n",
      "3500 0.004777042\n",
      "3600 0.004462086\n",
      "3700 0.0041725016\n",
      "3800 0.0039057513\n",
      "3900 0.003659556\n",
      "4000 0.0034319712\n",
      "4100 0.003221189\n",
      "4200 0.0030257176\n",
      "4300 0.002844217\n",
      "4400 0.0026754092\n",
      "4500 0.0025182115\n",
      "4600 0.002371722\n",
      "4700 0.002234949\n",
      "4800 0.0021071874\n",
      "4900 0.0019877453\n",
      "5000 0.0018759338\n",
      "5100 0.0017711824\n",
      "5200 0.001673011\n",
      "5300 0.0015808204\n",
      "5400 0.0014942958\n",
      "5500 0.0014130172\n",
      "5600 0.0013365806\n",
      "5700 0.0012646865\n",
      "5800 0.0011970053\n",
      "5900 0.0011332231\n",
      "6000 0.0010731746\n",
      "6100 0.0010165165\n",
      "6200 0.0009630986\n",
      "6300 0.00091266696\n",
      "6400 0.00086507195\n",
      "6500 0.00082011905\n",
      "6600 0.0007776441\n",
      "6700 0.0007375274\n",
      "6800 0.0006995597\n",
      "6900 0.0006636812\n",
      "7000 0.00062969787\n",
      "7100 0.0005975796\n",
      "7200 0.0005671472\n",
      "7300 0.00053840067\n",
      "7400 0.0005110864\n",
      "7500 0.0004852339\n",
      "7600 0.00046076867\n",
      "7700 0.00043760106\n",
      "7800 0.00041559685\n",
      "7900 0.00039474104\n",
      "8000 0.00037495903\n",
      "8100 0.000356206\n",
      "8200 0.00033843715\n",
      "8300 0.00032157794\n",
      "8400 0.00030558364\n",
      "8500 0.0002903796\n",
      "8600 0.00027598065\n",
      "8700 0.00026228253\n",
      "8800 0.00024928516\n",
      "8900 0.00023694376\n",
      "9000 0.00022522853\n",
      "9100 0.00021409473\n",
      "9200 0.00020360196\n",
      "9300 0.00019355644\n",
      "9400 0.00018401776\n",
      "9500 0.00017495609\n",
      "9600 0.00016632675\n",
      "9700 0.00015820417\n",
      "9800 0.00015042449\n",
      "9900 0.00014306216\n",
      "10000 0.00013602777\n",
      "\n",
      "Hypothesis:\n",
      "[[2.00768569e-04]\n",
      " [9.99887466e-01]\n",
      " [9.99885440e-01]\n",
      " [1.15914154e-04]] \n",
      "Predicted:\n",
      "[[0.]\n",
      " [1.]\n",
      " [1.]\n",
      " [0.]] \n",
      "Accuracy:\n",
      "1.0\n",
      "w1 value :\n",
      " [[11.129339  8.990365]\n",
      " [11.079938  8.886971]]\n",
      "w1 value :\n",
      " [ -5.369441 -13.493547]\n",
      "w1 value :\n",
      " [[ 17.931475]\n",
      " [-18.627338]]\n",
      "w1 value :\n",
      " [-8.596248]\n"
     ]
    }
   ],
   "source": [
    "# 학습\n",
    "with tf.Session() as sess:\n",
    "    # Initialize TensorFlow variables\n",
    "    sess.run(tf.global_variables_initializer())\n",
    "    for step in range(10001):\n",
    "        _, cost_val = sess.run([train, cost], feed_dict={X: x_data, Y: y_data})\n",
    "        if step % 100 == 0:\n",
    "            print(step, cost_val)\n",
    "            \n",
    "    # Accuracy report\n",
    "    h, p, a = sess.run([hypo, predicted, accuracy], feed_dict={X: x_data, Y: y_data})\n",
    "        \n",
    "    print(f\"\\nHypothesis:\\n{h} \\nPredicted:\\n{p} \\nAccuracy:\\n{a}\")\n",
    "    \n",
    "    #weight, bias\n",
    "    w1val, b1val, w2val, b2val = sess.run([W1,b1,W2,b2])\n",
    "    print(f\"w1 value :\\n {w1val}\")\n",
    "    print(f\"w1 value :\\n {b1val}\")\n",
    "    print(f\"w1 value :\\n {w2val}\")\n",
    "    print(f\"w1 value :\\n {b2val}\")"
   ]
  },
  {
   "cell_type": "code",
   "execution_count": null,
   "metadata": {},
   "outputs": [],
   "source": []
  }
 ],
 "metadata": {
  "kernelspec": {
   "display_name": "Python 3",
   "language": "python",
   "name": "python3"
  },
  "language_info": {
   "codemirror_mode": {
    "name": "ipython",
    "version": 3
   },
   "file_extension": ".py",
   "mimetype": "text/x-python",
   "name": "python",
   "nbconvert_exporter": "python",
   "pygments_lexer": "ipython3",
   "version": "3.7.3"
  }
 },
 "nbformat": 4,
 "nbformat_minor": 2
}
