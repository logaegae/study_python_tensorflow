{
 "cells": [
  {
   "cell_type": "markdown",
   "metadata": {},
   "source": [
    "# 네이버 영화평(알라딘)에 나온 형태소 SQLite DB에 저장\n",
    "- 영화평에 나온 형태소 추출\n",
    "- Okt 형태소 분석\n",
    "- 형태소, 품사, 나온횟수 DB에 저장하기"
   ]
  },
  {
   "cell_type": "code",
   "execution_count": 1,
   "metadata": {},
   "outputs": [],
   "source": [
    "import numpy as np\n",
    "import pandas as pd\n",
    "import sqlite3"
   ]
  },
  {
   "cell_type": "code",
   "execution_count": 4,
   "metadata": {
    "scrolled": true
   },
   "outputs": [
    {
     "data": {
      "text/html": [
       "<div>\n",
       "<style scoped>\n",
       "    .dataframe tbody tr th:only-of-type {\n",
       "        vertical-align: middle;\n",
       "    }\n",
       "\n",
       "    .dataframe tbody tr th {\n",
       "        vertical-align: top;\n",
       "    }\n",
       "\n",
       "    .dataframe thead th {\n",
       "        text-align: right;\n",
       "    }\n",
       "</style>\n",
       "<table border=\"1\" class=\"dataframe\">\n",
       "  <thead>\n",
       "    <tr style=\"text-align: right;\">\n",
       "      <th></th>\n",
       "      <th>score</th>\n",
       "      <th>text</th>\n",
       "      <th>date</th>\n",
       "    </tr>\n",
       "  </thead>\n",
       "  <tbody>\n",
       "    <tr>\n",
       "      <th>0</th>\n",
       "      <td>40.0</td>\n",
       "      <td>맙소사 두종족이 그렇게 많이 다치고 죽었는데 그날 결혼식을 하겠다고? 장례식이 아니...</td>\n",
       "      <td>2019.10.17 14:00</td>\n",
       "    </tr>\n",
       "    <tr>\n",
       "      <th>1</th>\n",
       "      <td>100.0</td>\n",
       "      <td>well....well...well</td>\n",
       "      <td>2019.10.17 10:24</td>\n",
       "    </tr>\n",
       "    <tr>\n",
       "      <th>2</th>\n",
       "      <td>10.0</td>\n",
       "      <td>결말은 개연성이 최악입니다.인간족 여왕 때문에 요정 및 말레피센트 동족들이 수십명 ...</td>\n",
       "      <td>2019.10.17 17:07</td>\n",
       "    </tr>\n",
       "    <tr>\n",
       "      <th>3</th>\n",
       "      <td>40.0</td>\n",
       "      <td>오로라 때문에 몇이 고생하는 거냐?</td>\n",
       "      <td>2019.10.17 11:36</td>\n",
       "    </tr>\n",
       "    <tr>\n",
       "      <th>4</th>\n",
       "      <td>100.0</td>\n",
       "      <td>시사로 봤는데 안젤리나 졸리 역시는 역시다! 비주얼더 디즈니에서 엄청 공들 거 같고...</td>\n",
       "      <td>2019.10.17 09:11</td>\n",
       "    </tr>\n",
       "  </tbody>\n",
       "</table>\n",
       "</div>"
      ],
      "text/plain": [
       "   score                                               text              date\n",
       "0   40.0  맙소사 두종족이 그렇게 많이 다치고 죽었는데 그날 결혼식을 하겠다고? 장례식이 아니...  2019.10.17 14:00\n",
       "1  100.0                                well....well...well  2019.10.17 10:24\n",
       "2   10.0  결말은 개연성이 최악입니다.인간족 여왕 때문에 요정 및 말레피센트 동족들이 수십명 ...  2019.10.17 17:07\n",
       "3   40.0                                오로라 때문에 몇이 고생하는 거냐?  2019.10.17 11:36\n",
       "4  100.0  시사로 봤는데 안젤리나 졸리 역시는 역시다! 비주얼더 디즈니에서 엄청 공들 거 같고...  2019.10.17 09:11"
      ]
     },
     "execution_count": 4,
     "metadata": {},
     "output_type": "execute_result"
    }
   ],
   "source": [
    "df = pd.read_csv('../web crawling/movie_review_data.csv')\n",
    "df.drop(df.columns[0], axis='columns', inplace=True)\n",
    "df.head()"
   ]
  },
  {
   "cell_type": "code",
   "execution_count": 5,
   "metadata": {},
   "outputs": [
    {
     "data": {
      "text/plain": [
       "(2666,)"
      ]
     },
     "execution_count": 5,
     "metadata": {},
     "output_type": "execute_result"
    }
   ],
   "source": [
    "reviews = df['text']\n",
    "reviews.shape"
   ]
  },
  {
   "cell_type": "code",
   "execution_count": 6,
   "metadata": {},
   "outputs": [],
   "source": [
    "conn = sqlite3.connect('./test.db') \n",
    "cur = conn.cursor()"
   ]
  },
  {
   "cell_type": "code",
   "execution_count": 7,
   "metadata": {},
   "outputs": [
    {
     "data": {
      "text/plain": [
       "<sqlite3.Cursor at 0x2bdb3f1c500>"
      ]
     },
     "execution_count": 7,
     "metadata": {},
     "output_type": "execute_result"
    }
   ],
   "source": [
    "cur = conn.cursor()\n",
    "cur.execute('CREATE TABLE IF NOT EXISTS Movie_reviews \\\n",
    "    (word TEXT, \\\n",
    "     pos TEXT, \\\n",
    "     count INT, \\\n",
    "     PRIMARY KEY(word, pos));')"
   ]
  },
  {
   "cell_type": "code",
   "execution_count": 8,
   "metadata": {},
   "outputs": [
    {
     "name": "stderr",
     "output_type": "stream",
     "text": [
      "C:\\Users\\EZEN\\Anaconda3\\lib\\site-packages\\jpype\\_core.py:210: UserWarning: \n",
      "-------------------------------------------------------------------------------\n",
      "Deprecated: convertStrings was not specified when starting the JVM. The default\n",
      "behavior in JPype will be False starting in JPype 0.8. The recommended setting\n",
      "for new code is convertStrings=False.  The legacy value of True was assumed for\n",
      "this session. If you are a user of an application that reported this warning,\n",
      "please file a ticket with the developer.\n",
      "-------------------------------------------------------------------------------\n",
      "\n",
      "  \"\"\")\n"
     ]
    }
   ],
   "source": [
    "from konlpy.tag import Okt\n",
    "okt = Okt()"
   ]
  },
  {
   "cell_type": "code",
   "execution_count": 9,
   "metadata": {},
   "outputs": [
    {
     "data": {
      "text/plain": [
       "[('맙소사', 'Exclamation'),\n",
       " ('두', 'Determiner'),\n",
       " ('종족', 'Noun'),\n",
       " ('이', 'Josa'),\n",
       " ('그렇게', 'Adverb'),\n",
       " ('많이', 'Adverb'),\n",
       " ('다치고', 'Verb'),\n",
       " ('죽었는데', 'Verb'),\n",
       " ('그날', 'Noun'),\n",
       " ('결혼식', 'Noun'),\n",
       " ('을', 'Josa'),\n",
       " ('하겠다고', 'Verb'),\n",
       " ('?', 'Punctuation'),\n",
       " ('장례식', 'Noun'),\n",
       " ('이', 'Josa'),\n",
       " ('아니라', 'Adjective'),\n",
       " ('?', 'Punctuation'),\n",
       " ('이건', 'Noun'),\n",
       " ('조커', 'Noun'),\n",
       " ('도', 'Josa'),\n",
       " ('안', 'VerbPrefix'),\n",
       " ('할', 'Verb'),\n",
       " ('짓', 'Noun'),\n",
       " ('인데', 'Josa'),\n",
       " ('...', 'Punctuation'),\n",
       " ('감독', 'Noun'),\n",
       " ('이랑', 'Josa'),\n",
       " ('작가', 'Noun'),\n",
       " ('는', 'Josa'),\n",
       " ('반성', 'Noun'),\n",
       " ('좀', 'Noun'),\n",
       " ('해', 'Noun'),\n",
       " ('라', 'Josa'),\n",
       " ('.', 'Punctuation'),\n",
       " ('그래도', 'Adverb'),\n",
       " ('미셸', 'Noun'),\n",
       " ('파이퍼의', 'Verb'),\n",
       " ('연기', 'Noun'),\n",
       " ('와', 'Josa'),\n",
       " ('안젤리나', 'Noun'),\n",
       " ('졸리', 'Noun'),\n",
       " ('의', 'Josa'),\n",
       " ('비주', 'Noun'),\n",
       " ('얼', 'Noun'),\n",
       " ('만큼은', 'Josa'),\n",
       " ('명불허전', 'Noun'),\n",
       " ('이었다', 'Verb'),\n",
       " ('...', 'Punctuation')]"
      ]
     },
     "execution_count": 9,
     "metadata": {},
     "output_type": "execute_result"
    }
   ],
   "source": [
    "morphs = okt.pos(str(reviews[0]))\n",
    "morphs"
   ]
  },
  {
   "cell_type": "code",
   "execution_count": 10,
   "metadata": {},
   "outputs": [],
   "source": [
    "# Test용 데이터 입력\n",
    "cur.execute(\"INSERT INTO Movie_reviews VALUES('윌', 'Noun', 1);\")\n",
    "conn.commit()"
   ]
  },
  {
   "cell_type": "code",
   "execution_count": 11,
   "metadata": {},
   "outputs": [
    {
     "name": "stdout",
     "output_type": "stream",
     "text": [
      "1\n"
     ]
    }
   ],
   "source": [
    "# Test용 데이터 조회\n",
    "sql = \"SELECT count FROM Movie_reviews WHERE word like ? and pos like ?;\"\n",
    "cur.execute(sql, ('윌', 'Noun'))\n",
    "count, = cur.fetchone()\n",
    "print(count)"
   ]
  },
  {
   "cell_type": "code",
   "execution_count": 12,
   "metadata": {},
   "outputs": [],
   "source": [
    "# Test용 데이터 삭제\n",
    "cur.execute(\"DELETE FROM Movie_reviews WHERE word like '윌';\")\n",
    "conn.commit()"
   ]
  },
  {
   "cell_type": "code",
   "execution_count": 13,
   "metadata": {},
   "outputs": [],
   "source": [
    "def countMorph(word, pos):    \n",
    "    count = 0\n",
    "    try:\n",
    "        cur = conn.cursor()\n",
    "        sql = \"SELECT count FROM Movie_reviews WHERE word like ? and pos like ?\"\n",
    "        cur.execute(sql, (word, pos))\n",
    "        count, = cur.fetchone()\n",
    "    except TypeError as te:\n",
    "        count = 0\n",
    "    except Exception as e: \n",
    "        print('예외가 발생했습니다.', e)\n",
    "        count = -1\n",
    "    finally:\n",
    "        return count"
   ]
  },
  {
   "cell_type": "code",
   "execution_count": 14,
   "metadata": {},
   "outputs": [
    {
     "name": "stdout",
     "output_type": "stream",
     "text": [
      "0\n",
      "0\n"
     ]
    },
    {
     "data": {
      "text/plain": [
       "0"
      ]
     },
     "execution_count": 14,
     "metadata": {},
     "output_type": "execute_result"
    }
   ],
   "source": [
    "print(countMorph('졸리', 'Noun'))\n",
    "print(countMorph('안젤리나', 'Noun'))\n",
    "x = ('안젤리나', 'Noun')\n",
    "countMorph(*x)"
   ]
  },
  {
   "cell_type": "code",
   "execution_count": 15,
   "metadata": {},
   "outputs": [],
   "source": [
    "def insertMorph(word, pos, count):\n",
    "    cur = conn.cursor()\n",
    "    sql = \"INSERT INTO Movie_reviews VALUES(?, ?, ?);\"\n",
    "    cur.execute(sql, (word, pos, count))\n",
    "    conn.commit()"
   ]
  },
  {
   "cell_type": "code",
   "execution_count": 16,
   "metadata": {},
   "outputs": [],
   "source": [
    "insertMorph(*x, 1)"
   ]
  },
  {
   "cell_type": "code",
   "execution_count": 17,
   "metadata": {},
   "outputs": [],
   "source": [
    "def updateMorph(word, pos, count):\n",
    "    cur = conn.cursor()\n",
    "    sql = \"UPDATE Movie_reviews SET count=? WHERE word like ? and pos like ?;\"\n",
    "    cur.execute(sql, (count, word, pos))\n",
    "    conn.commit()"
   ]
  },
  {
   "cell_type": "code",
   "execution_count": 18,
   "metadata": {},
   "outputs": [],
   "source": [
    "updateMorph(*x, 2)"
   ]
  },
  {
   "cell_type": "code",
   "execution_count": null,
   "metadata": {},
   "outputs": [
    {
     "name": "stdout",
     "output_type": "stream",
     "text": [
      "10 20 30 40 50 60 70 80 90 100 110 120 130 140 150 160 170 180 190 200 210 220 230 240 250 260 270 280 290 300 310 320 330 340 350 360 370 380 390 400 410 420 430 440 450 460 470 480 490 500 510 520 530 540 550 560 570 580 590 600 610 620 630 640 650 660 670 680 690 700 710 720 730 740 750 760 770 780 790 800 810 820 830 840 850 860 870 880 890 900 910 920 930 940 950 960 970 980 990 1000 1010 1020 1030 1040 1050 1060 1070 1080 1090 1100 1110 1120 1130 1140 1150 1160 1170 1180 1190 1200 1210 1220 1230 1240 1250 1260 1270 1280 1290 1300 1310 1320 1330 1340 1350 1360 1370 1380 1390 1400 1410 1420 1430 1440 1450 1460 1470 1480 1490 1500 1510 1520 1530 1540 1550 1560 1570 1580 1590 1600 1610 1620 1630 1640 1650 1660 1670 1680 1690 1700 1710 1720 1730 1740 1750 1760 1770 1780 1790 1800 1810 1820 1830 1840 1850 1860 1870 1880 1890 1900 1910 1920 1930 1940 1950 1960 1970 1980 1990 2000 2010 "
     ]
    }
   ],
   "source": [
    "i = 1\n",
    "for review in reviews:\n",
    "    if i % 10 == 0:\n",
    "        print(i, end=' ')\n",
    "    i += 1\n",
    "    morphs = okt.pos(str(review))\n",
    "    for morph in morphs:\n",
    "        if morph[1] in [\"Josa\", \"Eomi\", \"Punctuation\"]:\n",
    "            continue\n",
    "        count = countMorph(*morph)     # Unpacking\n",
    "        if count == 0:                 # 신규 등록\n",
    "            insertMorph(*morph, 1)\n",
    "        elif count > 0:                # count update\n",
    "            updateMorph(*morph, count+1)\n",
    "        else:\n",
    "            print('DB Error!!!')"
   ]
  },
  {
   "cell_type": "code",
   "execution_count": 31,
   "metadata": {},
   "outputs": [
    {
     "name": "stdout",
     "output_type": "stream",
     "text": [
      "23977\n"
     ]
    }
   ],
   "source": [
    "cur = conn.cursor()\n",
    "sql = \"SELECT count(*) FROM Movie_reviews;\"\n",
    "cur.execute(sql)\n",
    "count, = cur.fetchone()\n",
    "print(count)"
   ]
  },
  {
   "cell_type": "code",
   "execution_count": 32,
   "metadata": {},
   "outputs": [
    {
     "name": "stdout",
     "output_type": "stream",
     "text": [
      "('영화', 'Noun', 9609)\n",
      "('너무', 'Adverb', 7616)\n",
      "('노래', 'Noun', 3302)\n",
      "('진짜', 'Noun', 3276)\n",
      "('최고', 'Noun', 3273)\n",
      "('들', 'Suffix', 3063)\n",
      "('알라딘', 'Noun', 2897)\n",
      "('지니', 'Noun', 2404)\n",
      "('윌스미스', 'Noun', 2320)\n",
      "('디즈니', 'Noun', 2246)\n"
     ]
    }
   ],
   "source": [
    "cur = conn.cursor()\n",
    "sql = \"SELECT * FROM Movie_reviews ORDER BY count DESC LIMIT 10;\"\n",
    "cur.execute(sql)\n",
    "rows = cur.fetchall()\n",
    "for row in rows:\n",
    "    print(row)"
   ]
  },
  {
   "cell_type": "code",
   "execution_count": 33,
   "metadata": {},
   "outputs": [
    {
     "data": {
      "text/html": [
       "<div>\n",
       "<style scoped>\n",
       "    .dataframe tbody tr th:only-of-type {\n",
       "        vertical-align: middle;\n",
       "    }\n",
       "\n",
       "    .dataframe tbody tr th {\n",
       "        vertical-align: top;\n",
       "    }\n",
       "\n",
       "    .dataframe thead th {\n",
       "        text-align: right;\n",
       "    }\n",
       "</style>\n",
       "<table border=\"1\" class=\"dataframe\">\n",
       "  <thead>\n",
       "    <tr style=\"text-align: right;\">\n",
       "      <th></th>\n",
       "      <th>형태소</th>\n",
       "      <th>품사</th>\n",
       "      <th>등장횟수</th>\n",
       "    </tr>\n",
       "  </thead>\n",
       "  <tbody>\n",
       "    <tr>\n",
       "      <td>0</td>\n",
       "      <td>윌</td>\n",
       "      <td>Noun</td>\n",
       "      <td>704</td>\n",
       "    </tr>\n",
       "    <tr>\n",
       "      <td>1</td>\n",
       "      <td>스미스</td>\n",
       "      <td>Noun</td>\n",
       "      <td>810</td>\n",
       "    </tr>\n",
       "    <tr>\n",
       "      <td>2</td>\n",
       "      <td>하드캐리</td>\n",
       "      <td>Noun</td>\n",
       "      <td>405</td>\n",
       "    </tr>\n",
       "    <tr>\n",
       "      <td>3</td>\n",
       "      <td>하여</td>\n",
       "      <td>Verb</td>\n",
       "      <td>33</td>\n",
       "    </tr>\n",
       "    <tr>\n",
       "      <td>4</td>\n",
       "      <td>의도</td>\n",
       "      <td>Noun</td>\n",
       "      <td>18</td>\n",
       "    </tr>\n",
       "  </tbody>\n",
       "</table>\n",
       "</div>"
      ],
      "text/plain": [
       "    형태소    품사 등장횟수\n",
       "0     윌  Noun  704\n",
       "1   스미스  Noun  810\n",
       "2  하드캐리  Noun  405\n",
       "3    하여  Verb   33\n",
       "4    의도  Noun   18"
      ]
     },
     "execution_count": 33,
     "metadata": {},
     "output_type": "execute_result"
    }
   ],
   "source": [
    "sql = \"SELECT * FROM Movie_reviews;\"\n",
    "cur = conn.cursor()\n",
    "cur.execute(sql)\n",
    "rows = cur.fetchall();\n",
    "columnName = ['형태소', '품사', '등장횟수']\n",
    "df = pd.DataFrame(columns = columnName)\n",
    "for row in rows:\n",
    "    df = df.append(pd.DataFrame([list(row)], columns = columnName), \n",
    "                   ignore_index=True)\n",
    "df.head()"
   ]
  },
  {
   "cell_type": "code",
   "execution_count": 48,
   "metadata": {},
   "outputs": [],
   "source": [
    "conn.close()"
   ]
  },
  {
   "cell_type": "code",
   "execution_count": 35,
   "metadata": {},
   "outputs": [
    {
     "data": {
      "text/plain": [
       "23677"
      ]
     },
     "execution_count": 35,
     "metadata": {},
     "output_type": "execute_result"
    }
   ],
   "source": [
    "setMorphs = set(df['형태소'])\n",
    "len(setMorphs)"
   ]
  },
  {
   "cell_type": "code",
   "execution_count": 42,
   "metadata": {},
   "outputs": [],
   "source": [
    "# 같은 형태소, 다른 품사\n",
    "length = len(df)\n",
    "zeros = np.zeros(length, dtype = np.int32)\n",
    "df['동일형태소'] = zeros.T"
   ]
  },
  {
   "cell_type": "code",
   "execution_count": 39,
   "metadata": {},
   "outputs": [
    {
     "data": {
      "text/html": [
       "<div>\n",
       "<style scoped>\n",
       "    .dataframe tbody tr th:only-of-type {\n",
       "        vertical-align: middle;\n",
       "    }\n",
       "\n",
       "    .dataframe tbody tr th {\n",
       "        vertical-align: top;\n",
       "    }\n",
       "\n",
       "    .dataframe thead th {\n",
       "        text-align: right;\n",
       "    }\n",
       "</style>\n",
       "<table border=\"1\" class=\"dataframe\">\n",
       "  <thead>\n",
       "    <tr style=\"text-align: right;\">\n",
       "      <th></th>\n",
       "      <th>형태소</th>\n",
       "      <th>품사</th>\n",
       "      <th>등장횟수</th>\n",
       "      <th>동일형태소</th>\n",
       "    </tr>\n",
       "  </thead>\n",
       "  <tbody>\n",
       "    <tr>\n",
       "      <td>0</td>\n",
       "      <td>윌</td>\n",
       "      <td>Noun</td>\n",
       "      <td>704</td>\n",
       "      <td>0</td>\n",
       "    </tr>\n",
       "    <tr>\n",
       "      <td>1</td>\n",
       "      <td>스미스</td>\n",
       "      <td>Noun</td>\n",
       "      <td>810</td>\n",
       "      <td>0</td>\n",
       "    </tr>\n",
       "    <tr>\n",
       "      <td>2</td>\n",
       "      <td>하드캐리</td>\n",
       "      <td>Noun</td>\n",
       "      <td>405</td>\n",
       "      <td>0</td>\n",
       "    </tr>\n",
       "    <tr>\n",
       "      <td>3</td>\n",
       "      <td>하여</td>\n",
       "      <td>Verb</td>\n",
       "      <td>33</td>\n",
       "      <td>0</td>\n",
       "    </tr>\n",
       "    <tr>\n",
       "      <td>4</td>\n",
       "      <td>의도</td>\n",
       "      <td>Noun</td>\n",
       "      <td>18</td>\n",
       "      <td>0</td>\n",
       "    </tr>\n",
       "  </tbody>\n",
       "</table>\n",
       "</div>"
      ],
      "text/plain": [
       "    형태소    품사 등장횟수  동일형태소\n",
       "0     윌  Noun  704      0\n",
       "1   스미스  Noun  810      0\n",
       "2  하드캐리  Noun  405      0\n",
       "3    하여  Verb   33      0\n",
       "4    의도  Noun   18      0"
      ]
     },
     "execution_count": 39,
     "metadata": {},
     "output_type": "execute_result"
    }
   ],
   "source": [
    "df.head()"
   ]
  },
  {
   "cell_type": "code",
   "execution_count": 44,
   "metadata": {},
   "outputs": [
    {
     "name": "stdout",
     "output_type": "stream",
     "text": [
      "0 100 200 300 400 500 600 700 800 900 1000 1100 1200 1300 1400 1500 1600 1700 1800 1900 2000 2100 2200 2300 2400 2500 2600 2700 2800 2900 3000 3100 3200 3300 3400 3500 3600 3700 3800 3900 4000 4100 4200 4300 4400 4500 4600 4700 4800 4900 5000 5100 5200 5300 5400 5500 5600 5700 5800 5900 6000 6100 6200 6300 6400 6500 6600 6700 6800 6900 7000 7100 7200 7300 7400 7500 7600 7700 7800 7900 8000 8100 8200 8300 8400 8500 8600 8700 8800 8900 9000 9100 9200 9300 9400 9500 9600 9700 9800 9900 10000 10100 10200 10300 10400 10500 10600 10700 10800 10900 11000 11100 11200 11300 11400 11500 11600 11700 11800 11900 12000 12100 12200 12300 12400 12500 12600 12700 12800 12900 13000 13100 13200 13300 13400 13500 13600 13700 13800 13900 14000 14100 14200 14300 14400 14500 14600 14700 14800 14900 15000 15100 15200 15300 15400 15500 15600 15700 15800 15900 16000 16100 16200 16300 16400 16500 16600 16700 16800 16900 17000 17100 17200 17300 17400 17500 17600 17700 17800 17900 18000 18100 18200 18300 18400 18500 18600 18700 18800 18900 19000 19100 19200 19300 19400 19500 19600 19700 19800 19900 20000 20100 20200 20300 20400 20500 20600 20700 20800 20900 21000 21100 21200 21300 21400 21500 21600 21700 21800 21900 22000 22100 22200 22300 22400 22500 22600 22700 22800 22900 23000 23100 23200 23300 23400 23500 23600 23700 23800 23900 "
     ]
    }
   ],
   "source": [
    "for i in range(length-1):\n",
    "    if i % 100 == 0:\n",
    "        print(i, end=' ')\n",
    "    if df.iloc[i,3] == 1:\n",
    "        continue;\n",
    "    for k in range(i+1, length):\n",
    "        if df.iloc[i,0] == df.iloc[k,0]:\n",
    "            df.iloc[i,3] = 1\n",
    "            df.iloc[k,3] = 1\n",
    "            continue"
   ]
  },
  {
   "cell_type": "code",
   "execution_count": 45,
   "metadata": {},
   "outputs": [],
   "source": [
    "ddf = df[df['동일형태소'] == 1]"
   ]
  },
  {
   "cell_type": "code",
   "execution_count": 46,
   "metadata": {},
   "outputs": [
    {
     "data": {
      "text/html": [
       "<div>\n",
       "<style scoped>\n",
       "    .dataframe tbody tr th:only-of-type {\n",
       "        vertical-align: middle;\n",
       "    }\n",
       "\n",
       "    .dataframe tbody tr th {\n",
       "        vertical-align: top;\n",
       "    }\n",
       "\n",
       "    .dataframe thead th {\n",
       "        text-align: right;\n",
       "    }\n",
       "</style>\n",
       "<table border=\"1\" class=\"dataframe\">\n",
       "  <thead>\n",
       "    <tr style=\"text-align: right;\">\n",
       "      <th></th>\n",
       "      <th>형태소</th>\n",
       "      <th>품사</th>\n",
       "      <th>등장횟수</th>\n",
       "      <th>동일형태소</th>\n",
       "    </tr>\n",
       "  </thead>\n",
       "  <tbody>\n",
       "    <tr>\n",
       "      <td>10</td>\n",
       "      <td>영화</td>\n",
       "      <td>Noun</td>\n",
       "      <td>9609</td>\n",
       "      <td>1</td>\n",
       "    </tr>\n",
       "    <tr>\n",
       "      <td>14</td>\n",
       "      <td>도</td>\n",
       "      <td>Noun</td>\n",
       "      <td>648</td>\n",
       "      <td>1</td>\n",
       "    </tr>\n",
       "    <tr>\n",
       "      <td>19</td>\n",
       "      <td>중</td>\n",
       "      <td>Suffix</td>\n",
       "      <td>670</td>\n",
       "      <td>1</td>\n",
       "    </tr>\n",
       "    <tr>\n",
       "      <td>28</td>\n",
       "      <td>울</td>\n",
       "      <td>Modifier</td>\n",
       "      <td>62</td>\n",
       "      <td>1</td>\n",
       "    </tr>\n",
       "    <tr>\n",
       "      <td>36</td>\n",
       "      <td>아</td>\n",
       "      <td>Exclamation</td>\n",
       "      <td>288</td>\n",
       "      <td>1</td>\n",
       "    </tr>\n",
       "    <tr>\n",
       "      <td>...</td>\n",
       "      <td>...</td>\n",
       "      <td>...</td>\n",
       "      <td>...</td>\n",
       "      <td>...</td>\n",
       "    </tr>\n",
       "    <tr>\n",
       "      <td>22671</td>\n",
       "      <td>이었다면</td>\n",
       "      <td>Foreign</td>\n",
       "      <td>1</td>\n",
       "      <td>1</td>\n",
       "    </tr>\n",
       "    <tr>\n",
       "      <td>22871</td>\n",
       "      <td>넘은게</td>\n",
       "      <td>Foreign</td>\n",
       "      <td>1</td>\n",
       "      <td>1</td>\n",
       "    </tr>\n",
       "    <tr>\n",
       "      <td>22882</td>\n",
       "      <td>그만</td>\n",
       "      <td>Modifier</td>\n",
       "      <td>2</td>\n",
       "      <td>1</td>\n",
       "    </tr>\n",
       "    <tr>\n",
       "      <td>23191</td>\n",
       "      <td>짓</td>\n",
       "      <td>VerbPrefix</td>\n",
       "      <td>2</td>\n",
       "      <td>1</td>\n",
       "    </tr>\n",
       "    <tr>\n",
       "      <td>23894</td>\n",
       "      <td>이면</td>\n",
       "      <td>Foreign</td>\n",
       "      <td>1</td>\n",
       "      <td>1</td>\n",
       "    </tr>\n",
       "  </tbody>\n",
       "</table>\n",
       "<p>558 rows × 4 columns</p>\n",
       "</div>"
      ],
      "text/plain": [
       "        형태소           품사  등장횟수  동일형태소\n",
       "10       영화         Noun  9609      1\n",
       "14        도         Noun   648      1\n",
       "19        중       Suffix   670      1\n",
       "28        울     Modifier    62      1\n",
       "36        아  Exclamation   288      1\n",
       "...     ...          ...   ...    ...\n",
       "22671  이었다면      Foreign     1      1\n",
       "22871   넘은게      Foreign     1      1\n",
       "22882    그만     Modifier     2      1\n",
       "23191     짓   VerbPrefix     2      1\n",
       "23894    이면      Foreign     1      1\n",
       "\n",
       "[558 rows x 4 columns]"
      ]
     },
     "execution_count": 46,
     "metadata": {},
     "output_type": "execute_result"
    }
   ],
   "source": [
    "ddf"
   ]
  },
  {
   "cell_type": "code",
   "execution_count": 47,
   "metadata": {},
   "outputs": [
    {
     "data": {
      "text/html": [
       "<div>\n",
       "<style scoped>\n",
       "    .dataframe tbody tr th:only-of-type {\n",
       "        vertical-align: middle;\n",
       "    }\n",
       "\n",
       "    .dataframe tbody tr th {\n",
       "        vertical-align: top;\n",
       "    }\n",
       "\n",
       "    .dataframe thead th {\n",
       "        text-align: right;\n",
       "    }\n",
       "</style>\n",
       "<table border=\"1\" class=\"dataframe\">\n",
       "  <thead>\n",
       "    <tr style=\"text-align: right;\">\n",
       "      <th></th>\n",
       "      <th>형태소</th>\n",
       "      <th>품사</th>\n",
       "      <th>등장횟수</th>\n",
       "      <th>동일형태소</th>\n",
       "    </tr>\n",
       "  </thead>\n",
       "  <tbody>\n",
       "    <tr>\n",
       "      <td>10</td>\n",
       "      <td>영화</td>\n",
       "      <td>Noun</td>\n",
       "      <td>9609</td>\n",
       "      <td>1</td>\n",
       "    </tr>\n",
       "    <tr>\n",
       "      <td>15265</td>\n",
       "      <td>영화</td>\n",
       "      <td>Foreign</td>\n",
       "      <td>1</td>\n",
       "      <td>1</td>\n",
       "    </tr>\n",
       "  </tbody>\n",
       "</table>\n",
       "</div>"
      ],
      "text/plain": [
       "      형태소       품사  등장횟수  동일형태소\n",
       "10     영화     Noun  9609      1\n",
       "15265  영화  Foreign     1      1"
      ]
     },
     "execution_count": 47,
     "metadata": {},
     "output_type": "execute_result"
    }
   ],
   "source": [
    "ddf[ddf['형태소'] == '영화']"
   ]
  },
  {
   "cell_type": "code",
   "execution_count": 50,
   "metadata": {},
   "outputs": [],
   "source": [
    "df.to_csv('data/03.영화평 형태소.csv', encoding='euc-kr')"
   ]
  },
  {
   "cell_type": "markdown",
   "metadata": {},
   "source": [
    "### 정렬한 후에 찾는 방법"
   ]
  },
  {
   "cell_type": "code",
   "execution_count": 12,
   "metadata": {},
   "outputs": [
    {
     "data": {
      "text/html": [
       "<div>\n",
       "<style scoped>\n",
       "    .dataframe tbody tr th:only-of-type {\n",
       "        vertical-align: middle;\n",
       "    }\n",
       "\n",
       "    .dataframe tbody tr th {\n",
       "        vertical-align: top;\n",
       "    }\n",
       "\n",
       "    .dataframe thead th {\n",
       "        text-align: right;\n",
       "    }\n",
       "</style>\n",
       "<table border=\"1\" class=\"dataframe\">\n",
       "  <thead>\n",
       "    <tr style=\"text-align: right;\">\n",
       "      <th></th>\n",
       "      <th>형태소</th>\n",
       "      <th>품사</th>\n",
       "      <th>등장횟수</th>\n",
       "      <th>동일형태소</th>\n",
       "    </tr>\n",
       "  </thead>\n",
       "  <tbody>\n",
       "    <tr>\n",
       "      <td>0</td>\n",
       "      <td>윌</td>\n",
       "      <td>Noun</td>\n",
       "      <td>704</td>\n",
       "      <td>0</td>\n",
       "    </tr>\n",
       "    <tr>\n",
       "      <td>1</td>\n",
       "      <td>스미스</td>\n",
       "      <td>Noun</td>\n",
       "      <td>810</td>\n",
       "      <td>0</td>\n",
       "    </tr>\n",
       "    <tr>\n",
       "      <td>2</td>\n",
       "      <td>하드캐리</td>\n",
       "      <td>Noun</td>\n",
       "      <td>405</td>\n",
       "      <td>0</td>\n",
       "    </tr>\n",
       "    <tr>\n",
       "      <td>3</td>\n",
       "      <td>하여</td>\n",
       "      <td>Verb</td>\n",
       "      <td>33</td>\n",
       "      <td>0</td>\n",
       "    </tr>\n",
       "    <tr>\n",
       "      <td>4</td>\n",
       "      <td>의도</td>\n",
       "      <td>Noun</td>\n",
       "      <td>18</td>\n",
       "      <td>0</td>\n",
       "    </tr>\n",
       "  </tbody>\n",
       "</table>\n",
       "</div>"
      ],
      "text/plain": [
       "    형태소    품사  등장횟수  동일형태소\n",
       "0     윌  Noun   704      0\n",
       "1   스미스  Noun   810      0\n",
       "2  하드캐리  Noun   405      0\n",
       "3    하여  Verb    33      0\n",
       "4    의도  Noun    18      0"
      ]
     },
     "execution_count": 12,
     "metadata": {},
     "output_type": "execute_result"
    }
   ],
   "source": [
    "df = pd.read_csv('data/03.영화평 형태소.csv', encoding='euc-kr')\n",
    "df.drop(df.columns[0], axis='columns', inplace=True)\n",
    "df.head()"
   ]
  },
  {
   "cell_type": "code",
   "execution_count": 13,
   "metadata": {},
   "outputs": [
    {
     "data": {
      "text/html": [
       "<div>\n",
       "<style scoped>\n",
       "    .dataframe tbody tr th:only-of-type {\n",
       "        vertical-align: middle;\n",
       "    }\n",
       "\n",
       "    .dataframe tbody tr th {\n",
       "        vertical-align: top;\n",
       "    }\n",
       "\n",
       "    .dataframe thead th {\n",
       "        text-align: right;\n",
       "    }\n",
       "</style>\n",
       "<table border=\"1\" class=\"dataframe\">\n",
       "  <thead>\n",
       "    <tr style=\"text-align: right;\">\n",
       "      <th></th>\n",
       "      <th>형태소</th>\n",
       "      <th>품사</th>\n",
       "      <th>등장횟수</th>\n",
       "      <th>동일형태소</th>\n",
       "    </tr>\n",
       "  </thead>\n",
       "  <tbody>\n",
       "    <tr>\n",
       "      <td>22573</td>\n",
       "      <td>\b</td>\n",
       "      <td>Foreign</td>\n",
       "      <td>1</td>\n",
       "      <td>0</td>\n",
       "    </tr>\n",
       "    <tr>\n",
       "      <td>9072</td>\n",
       "      <td>#Fall</td>\n",
       "      <td>Hashtag</td>\n",
       "      <td>1</td>\n",
       "      <td>0</td>\n",
       "    </tr>\n",
       "    <tr>\n",
       "      <td>9075</td>\n",
       "      <td>#Speechless</td>\n",
       "      <td>Hashtag</td>\n",
       "      <td>1</td>\n",
       "      <td>0</td>\n",
       "    </tr>\n",
       "    <tr>\n",
       "      <td>9070</td>\n",
       "      <td>#감정</td>\n",
       "      <td>Hashtag</td>\n",
       "      <td>1</td>\n",
       "      <td>0</td>\n",
       "    </tr>\n",
       "    <tr>\n",
       "      <td>20224</td>\n",
       "      <td>#꿀잼</td>\n",
       "      <td>Hashtag</td>\n",
       "      <td>1</td>\n",
       "      <td>0</td>\n",
       "    </tr>\n",
       "  </tbody>\n",
       "</table>\n",
       "</div>"
      ],
      "text/plain": [
       "               형태소       품사  등장횟수  동일형태소\n",
       "22573            \b  Foreign     1      0\n",
       "9072         #Fall  Hashtag     1      0\n",
       "9075   #Speechless  Hashtag     1      0\n",
       "9070           #감정  Hashtag     1      0\n",
       "20224          #꿀잼  Hashtag     1      0"
      ]
     },
     "execution_count": 13,
     "metadata": {},
     "output_type": "execute_result"
    }
   ],
   "source": [
    "sdf = df.sort_values(\"형태소\")\n",
    "sdf.head()"
   ]
  },
  {
   "cell_type": "code",
   "execution_count": 14,
   "metadata": {},
   "outputs": [],
   "source": [
    "for i in range(len(sdf)-1):\n",
    "    if sdf.iloc[i,0] == sdf.iloc[i+1,0]:\n",
    "        sdf.iloc[i,3] = 1\n",
    "        sdf.iloc[i+1,3] = 1"
   ]
  },
  {
   "cell_type": "code",
   "execution_count": 16,
   "metadata": {},
   "outputs": [
    {
     "data": {
      "text/html": [
       "<div>\n",
       "<style scoped>\n",
       "    .dataframe tbody tr th:only-of-type {\n",
       "        vertical-align: middle;\n",
       "    }\n",
       "\n",
       "    .dataframe tbody tr th {\n",
       "        vertical-align: top;\n",
       "    }\n",
       "\n",
       "    .dataframe thead th {\n",
       "        text-align: right;\n",
       "    }\n",
       "</style>\n",
       "<table border=\"1\" class=\"dataframe\">\n",
       "  <thead>\n",
       "    <tr style=\"text-align: right;\">\n",
       "      <th></th>\n",
       "      <th>형태소</th>\n",
       "      <th>품사</th>\n",
       "      <th>등장횟수</th>\n",
       "      <th>동일형태소</th>\n",
       "    </tr>\n",
       "  </thead>\n",
       "  <tbody>\n",
       "    <tr>\n",
       "      <td>227</td>\n",
       "      <td>ㅋ</td>\n",
       "      <td>KoreanParticle</td>\n",
       "      <td>326</td>\n",
       "      <td>1</td>\n",
       "    </tr>\n",
       "    <tr>\n",
       "      <td>20140</td>\n",
       "      <td>ㅋ</td>\n",
       "      <td>Foreign</td>\n",
       "      <td>1</td>\n",
       "      <td>1</td>\n",
       "    </tr>\n",
       "    <tr>\n",
       "      <td>1625</td>\n",
       "      <td>각</td>\n",
       "      <td>Modifier</td>\n",
       "      <td>9</td>\n",
       "      <td>1</td>\n",
       "    </tr>\n",
       "    <tr>\n",
       "      <td>7236</td>\n",
       "      <td>각</td>\n",
       "      <td>Noun</td>\n",
       "      <td>17</td>\n",
       "      <td>1</td>\n",
       "    </tr>\n",
       "    <tr>\n",
       "      <td>6473</td>\n",
       "      <td>간</td>\n",
       "      <td>Foreign</td>\n",
       "      <td>3</td>\n",
       "      <td>1</td>\n",
       "    </tr>\n",
       "    <tr>\n",
       "      <td>...</td>\n",
       "      <td>...</td>\n",
       "      <td>...</td>\n",
       "      <td>...</td>\n",
       "      <td>...</td>\n",
       "    </tr>\n",
       "    <tr>\n",
       "      <td>128</td>\n",
       "      <td>화</td>\n",
       "      <td>Suffix</td>\n",
       "      <td>394</td>\n",
       "      <td>1</td>\n",
       "    </tr>\n",
       "    <tr>\n",
       "      <td>914</td>\n",
       "      <td>후</td>\n",
       "      <td>Noun</td>\n",
       "      <td>88</td>\n",
       "      <td>1</td>\n",
       "    </tr>\n",
       "    <tr>\n",
       "      <td>11061</td>\n",
       "      <td>후</td>\n",
       "      <td>Foreign</td>\n",
       "      <td>1</td>\n",
       "      <td>1</td>\n",
       "    </tr>\n",
       "    <tr>\n",
       "      <td>4290</td>\n",
       "      <td>히</td>\n",
       "      <td>Adverb</td>\n",
       "      <td>62</td>\n",
       "      <td>1</td>\n",
       "    </tr>\n",
       "    <tr>\n",
       "      <td>8100</td>\n",
       "      <td>히</td>\n",
       "      <td>Noun</td>\n",
       "      <td>1</td>\n",
       "      <td>1</td>\n",
       "    </tr>\n",
       "  </tbody>\n",
       "</table>\n",
       "<p>558 rows × 4 columns</p>\n",
       "</div>"
      ],
      "text/plain": [
       "      형태소              품사  등장횟수  동일형태소\n",
       "227     ㅋ  KoreanParticle   326      1\n",
       "20140   ㅋ         Foreign     1      1\n",
       "1625    각        Modifier     9      1\n",
       "7236    각            Noun    17      1\n",
       "6473    간         Foreign     3      1\n",
       "...    ..             ...   ...    ...\n",
       "128     화          Suffix   394      1\n",
       "914     후            Noun    88      1\n",
       "11061   후         Foreign     1      1\n",
       "4290    히          Adverb    62      1\n",
       "8100    히            Noun     1      1\n",
       "\n",
       "[558 rows x 4 columns]"
      ]
     },
     "execution_count": 16,
     "metadata": {},
     "output_type": "execute_result"
    }
   ],
   "source": [
    "ddf = sdf[sdf['동일형태소'] == 1]\n",
    "ddf"
   ]
  },
  {
   "cell_type": "code",
   "execution_count": 24,
   "metadata": {},
   "outputs": [
    {
     "data": {
      "text/plain": [
       "['같음',\n",
       " '같음',\n",
       " '개봉',\n",
       " '개봉',\n",
       " '고전',\n",
       " '고전',\n",
       " '그냥',\n",
       " '그냥',\n",
       " '그래도',\n",
       " '그래도',\n",
       " '그런',\n",
       " '그런',\n",
       " '그만',\n",
       " '그만',\n",
       " '까지',\n",
       " '까지',\n",
       " '나라',\n",
       " '나라',\n",
       " '남기고',\n",
       " '남기고',\n",
       " '남은',\n",
       " '남은',\n",
       " '남음',\n",
       " '남음',\n",
       " '내내',\n",
       " '내내',\n",
       " '넘은게',\n",
       " '넘은게',\n",
       " '놀이',\n",
       " '놀이',\n",
       " '누나',\n",
       " '누나',\n",
       " '느낌',\n",
       " '느낌',\n",
       " '는데',\n",
       " '는데',\n",
       " '다른',\n",
       " '다른',\n",
       " '다섯',\n",
       " '다섯',\n",
       " '다섯',\n",
       " '동안',\n",
       " '동안',\n",
       " '되게',\n",
       " '되게',\n",
       " '된거',\n",
       " '된거',\n",
       " '둘째',\n",
       " '둘째',\n",
       " '들어와서',\n",
       " '들어와서',\n",
       " '또한',\n",
       " '또한',\n",
       " '마다',\n",
       " '마다',\n",
       " '많이',\n",
       " '많이',\n",
       " '몇몇',\n",
       " '몇몇',\n",
       " '모두',\n",
       " '모두',\n",
       " '모든',\n",
       " '모든',\n",
       " '모름',\n",
       " '모름',\n",
       " '무슨',\n",
       " '무슨',\n",
       " '무신',\n",
       " '무신',\n",
       " '바른',\n",
       " '바른',\n",
       " '보고',\n",
       " '보고',\n",
       " '보구',\n",
       " '보구',\n",
       " '보신',\n",
       " '보신',\n",
       " '보실',\n",
       " '보실',\n",
       " '보임',\n",
       " '보임',\n",
       " '볼매',\n",
       " '볼매',\n",
       " '부터',\n",
       " '부터',\n",
       " '사이',\n",
       " '사이',\n",
       " '살림',\n",
       " '살림',\n",
       " '살면서',\n",
       " '살면서',\n",
       " '삼대',\n",
       " '삼대',\n",
       " '새벽',\n",
       " '새벽',\n",
       " '서른',\n",
       " '서른',\n",
       " '쓰는데',\n",
       " '쓰는데',\n",
       " '아름다운',\n",
       " '아름다운',\n",
       " '아무',\n",
       " '아무',\n",
       " '아아',\n",
       " '아아',\n",
       " '어느',\n",
       " '어느',\n",
       " '어떤',\n",
       " '어떤',\n",
       " '어어',\n",
       " '어어',\n",
       " '어울림',\n",
       " '어울림',\n",
       " '어쩔',\n",
       " '어쩔',\n",
       " '언니',\n",
       " '언니',\n",
       " '여러',\n",
       " '여러',\n",
       " '여섯',\n",
       " '여섯',\n",
       " '영화',\n",
       " '영화',\n",
       " '오는',\n",
       " '오는',\n",
       " '오랜',\n",
       " '오랜',\n",
       " '오빠',\n",
       " '오빠',\n",
       " '오오',\n",
       " '오오',\n",
       " '온갖',\n",
       " '온갖',\n",
       " '우우',\n",
       " '우우',\n",
       " '이나',\n",
       " '이나',\n",
       " '이런',\n",
       " '이런',\n",
       " '이만',\n",
       " '이만',\n",
       " '이만',\n",
       " '이면',\n",
       " '이면',\n",
       " '이었다',\n",
       " '이었다',\n",
       " '이었다면',\n",
       " '이었다면',\n",
       " '이었습니다',\n",
       " '이었습니다',\n",
       " '이였네요',\n",
       " '이였네요',\n",
       " '이였습니다',\n",
       " '이였습니다',\n",
       " '인생',\n",
       " '인생',\n",
       " '인줄',\n",
       " '인줄',\n",
       " '인지',\n",
       " '인지',\n",
       " '일이',\n",
       " '일이',\n",
       " '입니다',\n",
       " '입니다',\n",
       " '자고',\n",
       " '자고',\n",
       " '자리',\n",
       " '자리',\n",
       " '저런',\n",
       " '저런',\n",
       " '저희',\n",
       " '저희',\n",
       " '정도',\n",
       " '정도',\n",
       " '정말',\n",
       " '정말',\n",
       " '주고',\n",
       " '주고',\n",
       " '짜리',\n",
       " '짜리',\n",
       " '차로',\n",
       " '차로',\n",
       " '차림',\n",
       " '차림',\n",
       " '참고',\n",
       " '참고',\n",
       " '처럼',\n",
       " '처럼',\n",
       " '타구',\n",
       " '타구',\n",
       " '표현',\n",
       " '표현',\n",
       " '하니',\n",
       " '하니',\n",
       " '하자',\n",
       " '하자',\n",
       " '하지만',\n",
       " '하지만',\n",
       " '하진',\n",
       " '하진',\n",
       " '하하',\n",
       " '하하',\n",
       " '한당',\n",
       " '한당',\n",
       " '해도',\n",
       " '해도',\n",
       " '해소',\n",
       " '해소',\n",
       " '해요',\n",
       " '해요',\n",
       " '해진',\n",
       " '해진',\n",
       " '헤헤',\n",
       " '헤헤']"
      ]
     },
     "execution_count": 24,
     "metadata": {},
     "output_type": "execute_result"
    }
   ],
   "source": [
    "d2df = [item for item in ddf['형태소'] if len(item) >= 2]\n",
    "d2df"
   ]
  },
  {
   "cell_type": "code",
   "execution_count": 25,
   "metadata": {},
   "outputs": [
    {
     "data": {
      "text/html": [
       "<div>\n",
       "<style scoped>\n",
       "    .dataframe tbody tr th:only-of-type {\n",
       "        vertical-align: middle;\n",
       "    }\n",
       "\n",
       "    .dataframe tbody tr th {\n",
       "        vertical-align: top;\n",
       "    }\n",
       "\n",
       "    .dataframe thead th {\n",
       "        text-align: right;\n",
       "    }\n",
       "</style>\n",
       "<table border=\"1\" class=\"dataframe\">\n",
       "  <thead>\n",
       "    <tr style=\"text-align: right;\">\n",
       "      <th></th>\n",
       "      <th>형태소</th>\n",
       "      <th>품사</th>\n",
       "      <th>등장횟수</th>\n",
       "      <th>동일형태소</th>\n",
       "    </tr>\n",
       "  </thead>\n",
       "  <tbody>\n",
       "    <tr>\n",
       "      <td>1391</td>\n",
       "      <td>다섯</td>\n",
       "      <td>Determiner</td>\n",
       "      <td>19</td>\n",
       "      <td>1</td>\n",
       "    </tr>\n",
       "    <tr>\n",
       "      <td>1292</td>\n",
       "      <td>다섯</td>\n",
       "      <td>Modifier</td>\n",
       "      <td>3</td>\n",
       "      <td>1</td>\n",
       "    </tr>\n",
       "    <tr>\n",
       "      <td>19358</td>\n",
       "      <td>다섯</td>\n",
       "      <td>Noun</td>\n",
       "      <td>2</td>\n",
       "      <td>1</td>\n",
       "    </tr>\n",
       "  </tbody>\n",
       "</table>\n",
       "</div>"
      ],
      "text/plain": [
       "      형태소          품사  등장횟수  동일형태소\n",
       "1391   다섯  Determiner    19      1\n",
       "1292   다섯    Modifier     3      1\n",
       "19358  다섯        Noun     2      1"
      ]
     },
     "execution_count": 25,
     "metadata": {},
     "output_type": "execute_result"
    }
   ],
   "source": [
    "ddf[ddf['형태소'] == '다섯']"
   ]
  },
  {
   "cell_type": "code",
   "execution_count": 26,
   "metadata": {},
   "outputs": [
    {
     "data": {
      "text/html": [
       "<div>\n",
       "<style scoped>\n",
       "    .dataframe tbody tr th:only-of-type {\n",
       "        vertical-align: middle;\n",
       "    }\n",
       "\n",
       "    .dataframe tbody tr th {\n",
       "        vertical-align: top;\n",
       "    }\n",
       "\n",
       "    .dataframe thead th {\n",
       "        text-align: right;\n",
       "    }\n",
       "</style>\n",
       "<table border=\"1\" class=\"dataframe\">\n",
       "  <thead>\n",
       "    <tr style=\"text-align: right;\">\n",
       "      <th></th>\n",
       "      <th>형태소</th>\n",
       "      <th>품사</th>\n",
       "      <th>등장횟수</th>\n",
       "      <th>동일형태소</th>\n",
       "    </tr>\n",
       "  </thead>\n",
       "  <tbody>\n",
       "    <tr>\n",
       "      <td>2642</td>\n",
       "      <td>이만</td>\n",
       "      <td>Noun</td>\n",
       "      <td>2</td>\n",
       "      <td>1</td>\n",
       "    </tr>\n",
       "    <tr>\n",
       "      <td>11368</td>\n",
       "      <td>이만</td>\n",
       "      <td>Adverb</td>\n",
       "      <td>1</td>\n",
       "      <td>1</td>\n",
       "    </tr>\n",
       "    <tr>\n",
       "      <td>8246</td>\n",
       "      <td>이만</td>\n",
       "      <td>Modifier</td>\n",
       "      <td>1</td>\n",
       "      <td>1</td>\n",
       "    </tr>\n",
       "  </tbody>\n",
       "</table>\n",
       "</div>"
      ],
      "text/plain": [
       "      형태소        품사  등장횟수  동일형태소\n",
       "2642   이만      Noun     2      1\n",
       "11368  이만    Adverb     1      1\n",
       "8246   이만  Modifier     1      1"
      ]
     },
     "execution_count": 26,
     "metadata": {},
     "output_type": "execute_result"
    }
   ],
   "source": [
    "ddf[ddf['형태소'] == '이만']"
   ]
  },
  {
   "cell_type": "code",
   "execution_count": null,
   "metadata": {},
   "outputs": [],
   "source": []
  }
 ],
 "metadata": {
  "kernelspec": {
   "display_name": "Python 3",
   "language": "python",
   "name": "python3"
  },
  "language_info": {
   "codemirror_mode": {
    "name": "ipython",
    "version": 3
   },
   "file_extension": ".py",
   "mimetype": "text/x-python",
   "name": "python",
   "nbconvert_exporter": "python",
   "pygments_lexer": "ipython3",
   "version": "3.7.3"
  }
 },
 "nbformat": 4,
 "nbformat_minor": 2
}
