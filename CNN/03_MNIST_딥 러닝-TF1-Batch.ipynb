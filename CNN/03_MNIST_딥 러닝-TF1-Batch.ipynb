{
 "cells": [
  {
   "cell_type": "markdown",
   "metadata": {},
   "source": [
    "# 이미지 인식 - 딥 러닝\n",
    "## MNIST 사례"
   ]
  },
  {
   "cell_type": "code",
   "execution_count": 1,
   "metadata": {},
   "outputs": [
    {
     "name": "stdout",
     "output_type": "stream",
     "text": [
      "WARNING:tensorflow:From C:\\Users\\EZEN\\Anaconda3\\lib\\site-packages\\tensorflow_core\\python\\compat\\v2_compat.py:65: disable_resource_variables (from tensorflow.python.ops.variable_scope) is deprecated and will be removed in a future version.\n",
      "Instructions for updating:\n",
      "non-resource variables are not supported in the long term\n"
     ]
    }
   ],
   "source": [
    "import tensorflow.compat.v1 as tf\n",
    "tf.disable_v2_behavior()"
   ]
  },
  {
   "cell_type": "code",
   "execution_count": 2,
   "metadata": {},
   "outputs": [],
   "source": [
    "(X_train, Y_class_train), (X_test, Y_class_test) = tf.keras.datasets.mnist.load_data()"
   ]
  },
  {
   "cell_type": "code",
   "execution_count": 3,
   "metadata": {},
   "outputs": [
    {
     "data": {
      "text/plain": [
       "((60000, 28, 28), (10000, 28, 28))"
      ]
     },
     "execution_count": 3,
     "metadata": {},
     "output_type": "execute_result"
    }
   ],
   "source": [
    "X_train.shape, X_test.shape"
   ]
  },
  {
   "cell_type": "code",
   "execution_count": 4,
   "metadata": {},
   "outputs": [],
   "source": [
    "X_train = X_train.reshape(X_train.shape[0], 784)\n",
    "X_train = X_train.astype('float32')\n",
    "X_train = X_train / 255"
   ]
  },
  {
   "cell_type": "code",
   "execution_count": 5,
   "metadata": {},
   "outputs": [],
   "source": [
    "X_test = X_test.reshape(X_test.shape[0], 784).astype('float32') / 255"
   ]
  },
  {
   "cell_type": "code",
   "execution_count": 6,
   "metadata": {},
   "outputs": [
    {
     "data": {
      "text/plain": [
       "((60000, 784), (10000, 784))"
      ]
     },
     "execution_count": 6,
     "metadata": {},
     "output_type": "execute_result"
    }
   ],
   "source": [
    "X_train.shape, X_test.shape"
   ]
  },
  {
   "cell_type": "code",
   "execution_count": 7,
   "metadata": {},
   "outputs": [],
   "source": [
    "Y_train = tf.keras.utils.to_categorical(Y_class_train,10)\n",
    "Y_test = tf.keras.utils.to_categorical(Y_class_test,10)"
   ]
  },
  {
   "cell_type": "code",
   "execution_count": 8,
   "metadata": {},
   "outputs": [
    {
     "data": {
      "text/plain": [
       "array([0., 0., 0., 0., 0., 1., 0., 0., 0., 0.], dtype=float32)"
      ]
     },
     "execution_count": 8,
     "metadata": {},
     "output_type": "execute_result"
    }
   ],
   "source": [
    "Y_train[0]"
   ]
  },
  {
   "cell_type": "code",
   "execution_count": 9,
   "metadata": {},
   "outputs": [],
   "source": [
    "# seed 값 설정\n",
    "seed = 0\n",
    "tf.set_random_seed(seed)"
   ]
  },
  {
   "cell_type": "code",
   "execution_count": 10,
   "metadata": {},
   "outputs": [],
   "source": [
    "# 입력 값을 플레이스 홀더에 저장\n",
    "X = tf.placeholder(tf.float32, shape=[None, 784])\n",
    "Y = tf.placeholder(tf.float32, shape=[None, 10])"
   ]
  },
  {
   "cell_type": "code",
   "execution_count": 11,
   "metadata": {},
   "outputs": [],
   "source": [
    "# Layer 1\n",
    "W1 = tf.Variable(tf.random_normal([784,512], dtype=tf.float32)) \n",
    "b1 = tf.Variable(tf.random_normal([512], dtype=tf.float32))\n",
    "L1 = tf.nn.relu(tf.matmul(X, W1) + b1)"
   ]
  },
  {
   "cell_type": "code",
   "execution_count": 12,
   "metadata": {},
   "outputs": [],
   "source": [
    "# Layer 2\n",
    "W2 = tf.Variable(tf.random_normal([512,10], dtype=tf.float32)) \n",
    "b2 = tf.Variable(tf.random_normal([10], dtype=tf.float32))\n",
    "hypo = tf.matmul(L1, W2) + b2"
   ]
  },
  {
   "cell_type": "code",
   "execution_count": 13,
   "metadata": {},
   "outputs": [
    {
     "name": "stdout",
     "output_type": "stream",
     "text": [
      "WARNING:tensorflow:From <ipython-input-13-539823240d45>:2: softmax_cross_entropy_with_logits (from tensorflow.python.ops.nn_ops) is deprecated and will be removed in a future version.\n",
      "Instructions for updating:\n",
      "\n",
      "Future major versions of TensorFlow will allow gradients to flow\n",
      "into the labels input on backprop by default.\n",
      "\n",
      "See `tf.nn.softmax_cross_entropy_with_logits_v2`.\n",
      "\n"
     ]
    }
   ],
   "source": [
    "# Categorical Cross Entropy\n",
    "cost = tf.reduce_sum(tf.nn.softmax_cross_entropy_with_logits(logits=hypo, labels=Y))"
   ]
  },
  {
   "cell_type": "code",
   "execution_count": 14,
   "metadata": {},
   "outputs": [],
   "source": [
    "lr = 0.2\n",
    "train = tf.train.AdamOptimizer(learning_rate=lr).minimize(cost)"
   ]
  },
  {
   "cell_type": "code",
   "execution_count": 15,
   "metadata": {},
   "outputs": [],
   "source": [
    "predict = tf.equal(tf.argmax(Y, 1), tf.argmax(hypo, 1))\n",
    "accuracy = tf.reduce_mean(tf.cast(predict, dtype=tf.float32))"
   ]
  },
  {
   "cell_type": "code",
   "execution_count": 20,
   "metadata": {},
   "outputs": [
    {
     "data": {
      "text/plain": [
       "300"
      ]
     },
     "execution_count": 20,
     "metadata": {},
     "output_type": "execute_result"
    }
   ],
   "source": [
    "batch_size = 200\n",
    "batch_count = int(60000 / batch_size)\n",
    "batch_count"
   ]
  },
  {
   "cell_type": "code",
   "execution_count": 21,
   "metadata": {},
   "outputs": [
    {
     "name": "stdout",
     "output_type": "stream",
     "text": [
      "Epoch=1, cost_train=2778.5369, acc_train: 0.7887, cost_test=6462.2168, acc_test: 0.8709\n",
      "Epoch=11, cost_train=300.7186, acc_train: 0.5020, cost_test=15032.0967, acc_test: 0.4880\n",
      "Epoch=21, cost_train=358.9903, acc_train: 0.3308, cost_test=20677.2070, acc_test: 0.3541\n",
      "Epoch=31, cost_train=339.8402, acc_train: 0.3727, cost_test=23198.1406, acc_test: 0.3743\n",
      "Epoch=41, cost_train=311.1927, acc_train: 0.4172, cost_test=24053.3711, acc_test: 0.4559\n",
      "Epoch=51, cost_train=317.0653, acc_train: 0.4349, cost_test=28230.5605, acc_test: 0.4322\n",
      "Epoch=61, cost_train=291.5233, acc_train: 0.4600, cost_test=25271.7441, acc_test: 0.4582\n",
      "Epoch=71, cost_train=300.9900, acc_train: 0.4573, cost_test=28199.5000, acc_test: 0.5228\n",
      "Epoch=81, cost_train=313.5604, acc_train: 0.4479, cost_test=29101.1250, acc_test: 0.4461\n",
      "Epoch=91, cost_train=278.7950, acc_train: 0.4758, cost_test=34311.8828, acc_test: 0.4892\n",
      "Epoch=101, cost_train=272.8498, acc_train: 0.4824, cost_test=33145.6094, acc_test: 0.4895\n"
     ]
    }
   ],
   "source": [
    "# 학습\n",
    "sess = tf.Session()\n",
    "sess.run(tf.global_variables_initializer())\n",
    "\n",
    "for epoch in range(101):\n",
    "    cost_train = 0.0\n",
    "    acc_train = 0.0\n",
    "    for i in range(batch_count):\n",
    "        batch_xs = X_train[i*batch_size:i*batch_size+batch_size]\n",
    "        batch_ys = Y_train[i*batch_size:i*batch_size+batch_size]\n",
    "        _, c, a = sess.run([train, cost, accuracy], feed_dict = {X: batch_xs, Y: batch_ys})\n",
    "        cost_train += c\n",
    "        acc_train += a\n",
    "    cost_train /= batch_count\n",
    "    acc_train /= batch_count\n",
    "        \n",
    "    if epoch % 10 == 0:\n",
    "        cost_test, acc_test = sess.run([cost, accuracy], feed_dict = {X: X_test, Y: Y_test})\n",
    "        print(\"Epoch=%d, cost_train=%.4f, acc_train: %.4f, cost_test=%.4f, acc_test: %.4f\" % \n",
    "              (epoch + 1, cost_train, acc_train, cost_test, acc_test))"
   ]
  },
  {
   "cell_type": "code",
   "execution_count": 22,
   "metadata": {},
   "outputs": [
    {
     "name": "stdout",
     "output_type": "stream",
     "text": [
      "Accuracy: 0.4895\n"
     ]
    }
   ],
   "source": [
    "# 평가\n",
    "acc = sess.run(accuracy, feed_dict = {X: X_test, Y: Y_test})\n",
    "print(\"Accuracy: %.4f\" % acc)"
   ]
  },
  {
   "cell_type": "code",
   "execution_count": null,
   "metadata": {},
   "outputs": [],
   "source": []
  }
 ],
 "metadata": {
  "kernelspec": {
   "display_name": "Python 3",
   "language": "python",
   "name": "python3"
  },
  "language_info": {
   "codemirror_mode": {
    "name": "ipython",
    "version": 3
   },
   "file_extension": ".py",
   "mimetype": "text/x-python",
   "name": "python",
   "nbconvert_exporter": "python",
   "pygments_lexer": "ipython3",
   "version": "3.7.3"
  }
 },
 "nbformat": 4,
 "nbformat_minor": 2
}
