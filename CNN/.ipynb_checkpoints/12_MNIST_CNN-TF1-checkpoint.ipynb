{
 "cells": [
  {
   "cell_type": "markdown",
   "metadata": {},
   "source": [
    "# 이미지 인식 - CNN\n",
    "## MNIST 사례"
   ]
  },
  {
   "cell_type": "code",
   "execution_count": 1,
   "metadata": {},
   "outputs": [
    {
     "name": "stdout",
     "output_type": "stream",
     "text": [
      "WARNING:tensorflow:From C:\\Users\\ckkim\\.conda\\envs\\tf2\\lib\\site-packages\\tensorflow_core\\python\\compat\\v2_compat.py:65: disable_resource_variables (from tensorflow.python.ops.variable_scope) is deprecated and will be removed in a future version.\n",
      "Instructions for updating:\n",
      "non-resource variables are not supported in the long term\n"
     ]
    }
   ],
   "source": [
    "import numpy as np\n",
    "import tensorflow.compat.v1 as tf\n",
    "tf.disable_v2_behavior()"
   ]
  },
  {
   "cell_type": "code",
   "execution_count": 2,
   "metadata": {},
   "outputs": [],
   "source": [
    "# seed 값 설정\n",
    "seed = 0\n",
    "np.random.seed(seed)\n",
    "tf.set_random_seed(seed)"
   ]
  },
  {
   "cell_type": "code",
   "execution_count": 3,
   "metadata": {},
   "outputs": [
    {
     "data": {
      "text/plain": [
       "((60000, 28, 28), (10000, 28, 28))"
      ]
     },
     "execution_count": 3,
     "metadata": {},
     "output_type": "execute_result"
    }
   ],
   "source": [
    "# 데이터 불러오기\n",
    "(X_train, Y_train), (X_test, Y_test) = tf.keras.datasets.mnist.load_data()\n",
    "X_train.shape, X_test.shape"
   ]
  },
  {
   "cell_type": "code",
   "execution_count": 4,
   "metadata": {},
   "outputs": [],
   "source": [
    "X_train = X_train.reshape([60000, 28, 28, 1]).astype('float32') / 255\n",
    "X_test = X_test.reshape([10000, 28, 28, 1]).astype('float32') / 255\n",
    "Y_train = tf.keras.utils.to_categorical(Y_train)\n",
    "Y_test = tf.keras.utils.to_categorical(Y_test)"
   ]
  },
  {
   "cell_type": "code",
   "execution_count": 5,
   "metadata": {},
   "outputs": [],
   "source": [
    "# 입력 값을 플레이스 홀더에 저장\n",
    "X = tf.placeholder(tf.float32, shape=[None, 28, 28, 1])\n",
    "Y = tf.placeholder(tf.float32, shape=[None, 10])"
   ]
  },
  {
   "cell_type": "code",
   "execution_count": 6,
   "metadata": {},
   "outputs": [
    {
     "data": {
      "text/plain": [
       "TensorShape([Dimension(None), Dimension(26), Dimension(26), Dimension(32)])"
      ]
     },
     "execution_count": 6,
     "metadata": {},
     "output_type": "execute_result"
    }
   ],
   "source": [
    "# Convolution Layer 1 : 26 * 26 * 32\n",
    "W1 = tf.Variable(tf.random_normal([3, 3, 1, 32], stddev=0.01), dtype=tf.float32)\n",
    "L1 = tf.nn.relu(tf.nn.conv2d(X, W1, strides=[1, 1, 1, 1], padding='VALID'))\n",
    "L1.shape"
   ]
  },
  {
   "cell_type": "code",
   "execution_count": 7,
   "metadata": {},
   "outputs": [
    {
     "data": {
      "text/plain": [
       "TensorShape([Dimension(None), Dimension(24), Dimension(24), Dimension(64)])"
      ]
     },
     "execution_count": 7,
     "metadata": {},
     "output_type": "execute_result"
    }
   ],
   "source": [
    "# Convolution Layer 2 : 24 * 24 * 64\n",
    "W2 = tf.Variable(tf.random_normal([3, 3, 32, 64], stddev=0.01), dtype=tf.float32)\n",
    "L2 = tf.nn.relu(tf.nn.conv2d(L1, W2, strides=[1, 1, 1, 1], padding='VALID'))\n",
    "L2.shape"
   ]
  },
  {
   "cell_type": "code",
   "execution_count": 8,
   "metadata": {},
   "outputs": [
    {
     "data": {
      "text/plain": [
       "TensorShape([Dimension(None), Dimension(12), Dimension(12), Dimension(64)])"
      ]
     },
     "execution_count": 8,
     "metadata": {},
     "output_type": "execute_result"
    }
   ],
   "source": [
    "# Max Pooling 2D : 12 * 12 * 64\n",
    "MP = tf.nn.max_pool(L2, ksize=[1,2,2,1], strides=[1,2,2,1], padding='SAME')\n",
    "MP.shape"
   ]
  },
  {
   "cell_type": "code",
   "execution_count": 9,
   "metadata": {},
   "outputs": [],
   "source": [
    "# Dropout 1\n",
    "rate1 = tf.placeholder(tf.float32)    # dropout rate 1\n",
    "DO1 = tf.nn.dropout(MP, rate=rate1)"
   ]
  },
  {
   "cell_type": "code",
   "execution_count": 10,
   "metadata": {},
   "outputs": [],
   "source": [
    "# Flatten \n",
    "Fl = tf.reshape(DO1, [-1,12*12*64])"
   ]
  },
  {
   "cell_type": "code",
   "execution_count": 11,
   "metadata": {},
   "outputs": [
    {
     "data": {
      "text/plain": [
       "TensorShape([Dimension(None), Dimension(128)])"
      ]
     },
     "execution_count": 11,
     "metadata": {},
     "output_type": "execute_result"
    }
   ],
   "source": [
    "# Fully Connected Layer\n",
    "W3 = tf.get_variable(\"W3\", shape=[12*12*64, 128])\n",
    "b3 = tf.Variable(tf.random_normal([128]), dtype=tf.float32)\n",
    "FC = tf.nn.relu(tf.matmul(Fl, W3) + b3)\n",
    "FC.shape"
   ]
  },
  {
   "cell_type": "code",
   "execution_count": 12,
   "metadata": {},
   "outputs": [],
   "source": [
    "# Dropout 2\n",
    "rate2 = tf.placeholder(tf.float32)    # dropout rate 2\n",
    "DO2 = tf.nn.dropout(FC, rate=rate2)"
   ]
  },
  {
   "cell_type": "code",
   "execution_count": 13,
   "metadata": {},
   "outputs": [],
   "source": [
    "# Output Layer\n",
    "W4 = tf.Variable(tf.random_normal([128, 10]), dtype=tf.float32)\n",
    "b4 = tf.Variable(tf.random_normal([10]), dtype=tf.float32)\n",
    "hypo = tf.matmul(DO2, W4) + b4"
   ]
  },
  {
   "cell_type": "code",
   "execution_count": 14,
   "metadata": {},
   "outputs": [
    {
     "name": "stdout",
     "output_type": "stream",
     "text": [
      "WARNING:tensorflow:From <ipython-input-14-2d05f30ec041>:2: softmax_cross_entropy_with_logits (from tensorflow.python.ops.nn_ops) is deprecated and will be removed in a future version.\n",
      "Instructions for updating:\n",
      "\n",
      "Future major versions of TensorFlow will allow gradients to flow\n",
      "into the labels input on backprop by default.\n",
      "\n",
      "See `tf.nn.softmax_cross_entropy_with_logits_v2`.\n",
      "\n"
     ]
    }
   ],
   "source": [
    "# Cost\n",
    "cost = tf.reduce_mean(tf.nn.softmax_cross_entropy_with_logits(logits=hypo, labels=Y))"
   ]
  },
  {
   "cell_type": "code",
   "execution_count": 15,
   "metadata": {},
   "outputs": [],
   "source": [
    "lr = 0.1\n",
    "train = tf.train.AdamOptimizer(learning_rate=lr).minimize(cost)"
   ]
  },
  {
   "cell_type": "code",
   "execution_count": 16,
   "metadata": {},
   "outputs": [],
   "source": [
    "predict = tf.equal(tf.argmax(Y, 1), tf.argmax(hypo, 1))\n",
    "accuracy = tf.reduce_mean(tf.cast(predict, dtype=tf.float32))"
   ]
  },
  {
   "cell_type": "code",
   "execution_count": 17,
   "metadata": {},
   "outputs": [],
   "source": [
    "batch_size = 200\n",
    "batch_train_count = int(60000 / batch_size)\n",
    "batch_test_count = int(10000 / batch_size)"
   ]
  },
  {
   "cell_type": "code",
   "execution_count": 18,
   "metadata": {},
   "outputs": [
    {
     "name": "stdout",
     "output_type": "stream",
     "text": [
      "Epoch=1, cost_train=13.2670, acc_train: 0.7480, cost_test=0.1996, acc_test: 0.9424\n",
      "Epoch=11, cost_train=0.4957, acc_train: 0.8585, cost_test=0.2052, acc_test: 0.9452\n",
      "Epoch=21, cost_train=0.8086, acc_train: 0.7716, cost_test=0.3389, acc_test: 0.9087\n",
      "Epoch=31, cost_train=0.8087, acc_train: 0.7640, cost_test=0.4913, acc_test: 0.8571\n",
      "Epoch=41, cost_train=0.6973, acc_train: 0.7989, cost_test=0.3518, acc_test: 0.9110\n",
      "Epoch=51, cost_train=1.4534, acc_train: 0.4942, cost_test=0.9749, acc_test: 0.6581\n",
      "Epoch=61, cost_train=1.5735, acc_train: 0.4583, cost_test=1.0703, acc_test: 0.6853\n",
      "Epoch=71, cost_train=1.2155, acc_train: 0.5923, cost_test=0.6487, acc_test: 0.8334\n",
      "Epoch=81, cost_train=1.1746, acc_train: 0.6077, cost_test=0.7271, acc_test: 0.8145\n",
      "Epoch=91, cost_train=1.1745, acc_train: 0.6103, cost_test=0.6762, acc_test: 0.8354\n",
      "Epoch=101, cost_train=2.3043, acc_train: 0.1069, cost_test=2.3025, acc_test: 0.1135\n"
     ]
    }
   ],
   "source": [
    "# 학습\n",
    "sess = tf.Session()\n",
    "sess.run(tf.global_variables_initializer())\n",
    "\n",
    "for epoch in range(21):\n",
    "    cost_train = 0.0\n",
    "    acc_train = 0.0\n",
    "    for i in range(batch_train_count):\n",
    "        batch_xs = X_train[i*batch_size:i*batch_size+batch_size]\n",
    "        batch_ys = Y_train[i*batch_size:i*batch_size+batch_size]\n",
    "        feed_train = {X: batch_xs, Y: batch_ys, rate1: 0.25, rate2: 0.5}\n",
    "        _, c, a = sess.run([train, cost, accuracy], feed_dict = feed_train)\n",
    "        cost_train += c / batch_train_count\n",
    "        acc_train += a / batch_train_count\n",
    "        \n",
    "    if epoch % 2 == 0:\n",
    "        cost_test = 0.0\n",
    "        acc_test = 0.0\n",
    "        for i in range(batch_test_count):\n",
    "            batch_xs = X_test[i*batch_size:i*batch_size+batch_size]\n",
    "            batch_ys = Y_test[i*batch_size:i*batch_size+batch_size]\n",
    "            feed_test = {X: batch_xs, Y: batch_ys, rate1: 0.0, rate2: 0.0}\n",
    "            c, a = sess.run([cost, accuracy], feed_dict = feed_test)\n",
    "            cost_test += c / batch_test_count\n",
    "            acc_test += a / batch_test_count\n",
    "            \n",
    "        print(\"Epoch=%d, cost_train=%.4f, acc_train: %.4f, cost_test=%.4f, acc_test: %.4f\" % \n",
    "              (epoch + 1, cost_train, acc_train, cost_test, acc_test))"
   ]
  },
  {
   "cell_type": "code",
   "execution_count": null,
   "metadata": {},
   "outputs": [],
   "source": []
  }
 ],
 "metadata": {
  "kernelspec": {
   "display_name": "Python 3",
   "language": "python",
   "name": "python3"
  },
  "language_info": {
   "codemirror_mode": {
    "name": "ipython",
    "version": 3
   },
   "file_extension": ".py",
   "mimetype": "text/x-python",
   "name": "python",
   "nbconvert_exporter": "python",
   "pygments_lexer": "ipython3",
   "version": "3.7.3"
  }
 },
 "nbformat": 4,
 "nbformat_minor": 2
}
